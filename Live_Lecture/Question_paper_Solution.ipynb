{
 "cells": [
  {
   "cell_type": "markdown",
   "id": "4498414c",
   "metadata": {},
   "source": [
    "# Write a Python program to find sum of elements in list?"
   ]
  },
  {
   "cell_type": "code",
   "execution_count": null,
   "id": "97a73db3",
   "metadata": {},
   "outputs": [],
   "source": [
    "lst = [10,20]\n",
    "total = 0\n",
    "for i in range(0,len(lst)):\n",
    "    total = total+lst[i]\n",
    "print(\"Addition of all numbers is: \",total)"
   ]
  },
  {
   "cell_type": "markdown",
   "id": "a5181434",
   "metadata": {},
   "source": [
    "# Write a Python program to find multiplication of elements in list?"
   ]
  },
  {
   "cell_type": "code",
   "execution_count": null,
   "id": "5ce415d2",
   "metadata": {},
   "outputs": [],
   "source": [
    "lst = [10,20]\n",
    "total = 1\n",
    "for i in range(0,len(lst)):\n",
    "    total = total*lst[i]\n",
    "print(\"Addition of all numbers is: \",total)"
   ]
  },
  {
   "cell_type": "markdown",
   "id": "9605df15",
   "metadata": {},
   "source": [
    "# Write a Python program to find smallest number in a list?"
   ]
  },
  {
   "cell_type": "code",
   "execution_count": null,
   "id": "83621074",
   "metadata": {},
   "outputs": [],
   "source": [
    "lst1 = [11,23,3,4,5,2,24]\n",
    "\n",
    "for i in range(len(lst1)):\n",
    "    if lst1[i]>lst1[i]+1:\n",
    "        print(lst1[i])"
   ]
  },
  {
   "cell_type": "markdown",
   "id": "67cea21b",
   "metadata": {},
   "source": [
    "# Write a Python Program to Remove Punctuation From a String"
   ]
  },
  {
   "cell_type": "code",
   "execution_count": null,
   "id": "cb4fb64c",
   "metadata": {},
   "outputs": [],
   "source": [
    "# define punctuation\n",
    "punctuations = '''!()-[]{};:'\"\\,<>./?@#$%^&*_~'''\n",
    "\n",
    "my_str = \"Hello!!!, he said ---and went.\"\n",
    "\n",
    "# To take input from the user\n",
    "# my_str = input(\"Enter a string: \")\n",
    "\n",
    "# remove punctuation from the string\n",
    "no_punct = \"\"\n",
    "for char in my_str:\n",
    "    if char not in punctuations:\n",
    "        no_punct = no_punct + char\n",
    "\n",
    "# display the unpunctuated string\n",
    "print(no_punct)"
   ]
  },
  {
   "cell_type": "code",
   "execution_count": null,
   "id": "a76c7699",
   "metadata": {},
   "outputs": [],
   "source": [
    "# define punctuation\n",
    "punctuations = '''!()-[]{};:'\"\\,<>./?@#$%^&*_~'''\n",
    "\n",
    "my_str = \"Hello!!!, he said ---and went.\"\n",
    "\n",
    "# To take input from the user\n",
    "# my_str = input(\"Enter a string: \")\n",
    "\n",
    "# remove punctuation from the string\n",
    "no_punct = \"\"\n",
    "for char in my_str:\n",
    "    if char in punctuations:\n",
    "        no_punct = no_punct + char\n",
    "\n",
    "# display the unpunctuated string\n",
    "print(no_punct)"
   ]
  },
  {
   "cell_type": "code",
   "execution_count": null,
   "id": "2241434b",
   "metadata": {},
   "outputs": [],
   "source": [
    "# define punctuation\n",
    "punctuations = '''.@'''\n",
    "\n",
    "my_str = \"Hello!!!, he said ---and went. @Hey you are done very well.?\"\n",
    "\n",
    "# To take input from the user\n",
    "# my_str = input(\"Enter a string: \")\n",
    "\n",
    "# remove punctuation from the string\n",
    "no_punct = \"\"\n",
    "for char in my_str:\n",
    "    #print(char)\n",
    "    if char not in punctuations:\n",
    "        no_punct = no_punct + char\n",
    "    #print(no_punct)\n",
    "   \n",
    "    \n",
    "# display the unpunctuated string\n",
    "print(no_punct)"
   ]
  },
  {
   "cell_type": "code",
   "execution_count": null,
   "id": "4edb70e6",
   "metadata": {},
   "outputs": [],
   "source": [
    "class Employee:\n",
    "    print(\"@@@@@@@@@@@@@@@@@@@@@\")\n",
    "    def __init__(self, name, salary, project):\n",
    "\n",
    "        self.name = name\n",
    "        self.salary = salary\n",
    "        self.project = project\n",
    "        print(\"Data members\")\n",
    "    \n",
    "    def show_details(self):\n",
    "        print(\"Name: \", self.name, 'Salary:', self.salary)\n",
    "        #break\n",
    "   \n",
    "    def work(self):\n",
    "        print(self.name, 'is working on', self.project)\n",
    "        \n",
    "\n",
    "print(\"......\")\n",
    "emp = Employee('Ritesh', 80000, 'Machine learning project')\n",
    "print(\"object of class:\",emp)\n",
    "print(\">>>>>\")\n",
    "emp.show_details()\n",
    "print(\"++++++++\")\n",
    "emp.work()"
   ]
  },
  {
   "cell_type": "code",
   "execution_count": 10,
   "id": "c56e5155",
   "metadata": {},
   "outputs": [
    {
     "name": "stdout",
     "output_type": "stream",
     "text": [
      "@@@@@@@@@@@@@@@@@@@@@\n",
      "......\n",
      "Data members\n",
      "object of class: <__main__.Employee object at 0x7fd04834aaf0>\n",
      ">>>>>\n",
      "Name:  Ritesh Salary: 80000\n",
      "greater salary\n",
      "++++++++\n"
     ]
    }
   ],
   "source": [
    "class Employee:\n",
    "    print(\"@@@@@@@@@@@@@@@@@@@@@\")\n",
    "    def __init__(self, name, salary, project):\n",
    "\n",
    "        self.name = name\n",
    "        self.salary = salary\n",
    "        self.project = project\n",
    "        print(\"Data members\")\n",
    "    \n",
    "    def show_details(self):\n",
    "        print(\"Name: \", self.name, 'Salary:', self.salary)\n",
    "        if self.salary>50000:\n",
    "            print(\"greater salary\")\n",
    "            #break\n",
    "        else:\n",
    "            print(\"nOthing\")\n",
    "   \n",
    "    def work(self):\n",
    "        print(self.name, 'is working on', self.project)\n",
    "        \n",
    "print(\"......\")\n",
    "emp = Employee('Ritesh', 80000, 'Machine learning project')\n",
    "print(\"object of class:\",emp)\n",
    "print(\">>>>>\")\n",
    "emp.show_details()\n",
    "print(\"++++++++\")"
   ]
  },
  {
   "cell_type": "code",
   "execution_count": null,
   "id": "f60b79cf",
   "metadata": {},
   "outputs": [],
   "source": []
  }
 ],
 "metadata": {
  "kernelspec": {
   "display_name": "Python 3 (ipykernel)",
   "language": "python",
   "name": "python3"
  },
  "language_info": {
   "codemirror_mode": {
    "name": "ipython",
    "version": 3
   },
   "file_extension": ".py",
   "mimetype": "text/x-python",
   "name": "python",
   "nbconvert_exporter": "python",
   "pygments_lexer": "ipython3",
   "version": "3.9.12"
  }
 },
 "nbformat": 4,
 "nbformat_minor": 5
}
