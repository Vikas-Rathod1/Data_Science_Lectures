{
 "cells": [
  {
   "cell_type": "code",
   "execution_count": 1,
   "metadata": {},
   "outputs": [],
   "source": [
    "# if\n",
    "# if if\n",
    "# if esle\n",
    "# if elif \n",
    "# if elif else"
   ]
  },
  {
   "cell_type": "markdown",
   "metadata": {},
   "source": [
    "# IF condition\n",
    "\n",
    "if \"condition\":\n",
    "\n",
    "    # body of if condition"
   ]
  },
  {
   "cell_type": "code",
   "execution_count": null,
   "id": "09088cfb",
   "metadata": {},
   "outputs": [],
   "source": [
    "math =45\n",
    "checm=45\n",
    "physi= 45\n",
    "\n",
    "if math==45 and checm==45 and physi==45:\n",
    "    print(\"You have passed in all subjects\")\n",
    "if math==45:\n",
    "    print(\"You have passed in math\")\n",
    "\n",
    "if math==45 or checm==45 or physi==45:\n",
    "    print(\"You have passed in at least one subject\")\n",
    "if checm==45 and physi==45:\n",
    "    print(\"You have passed in chemistry and physics\")\n",
    "if math==45 and physi==45:\n",
    "    print(\"You have passed in math and physics\")\n",
    "if math==45 and checm==45:\n",
    "    print(\"You have passed in math and chemistry\")\n",
    "if checm==45:\n",
    "    print(\"You have passed in checm\")\n",
    "\n",
    "else:\n",
    "    print(\"You have failed in one or more subjects\")"
   ]
  },
  {
   "cell_type": "code",
   "execution_count": 3,
   "id": "3fd8804b",
   "metadata": {},
   "outputs": [
    {
     "name": "stdout",
     "output_type": "stream",
     "text": [
      "You are not a young adult\n"
     ]
    }
   ],
   "source": [
    "age =10\n",
    "\n",
    "if age!=10:\n",
    "    print(\"You are a not young adult\")\n",
    "if age==10:\n",
    "    print(\"You are a young adult\")\n",
    "else:\n",
    "    print(\"You are not a young adult\")"
   ]
  },
  {
   "cell_type": "code",
   "execution_count": null,
   "id": "3191dce8",
   "metadata": {},
   "outputs": [],
   "source": []
  },
  {
   "cell_type": "code",
   "execution_count": null,
   "id": "883e8e53",
   "metadata": {},
   "outputs": [],
   "source": []
  },
  {
   "cell_type": "code",
   "execution_count": 1,
   "metadata": {},
   "outputs": [
    {
     "data": {
      "text/plain": [
       "True"
      ]
     },
     "execution_count": 1,
     "metadata": {},
     "output_type": "execute_result"
    }
   ],
   "source": [
    "10 == 10"
   ]
  },
  {
   "cell_type": "code",
   "execution_count": 4,
   "metadata": {},
   "outputs": [
    {
     "name": "stdout",
     "output_type": "stream",
     "text": [
      "\n"
     ]
    }
   ],
   "source": [
    "# if \"condition\": 10==10 =True\n",
    "#     print()# boldy of if block\n",
    "    "
   ]
  },
  {
   "cell_type": "code",
   "execution_count": 4,
   "metadata": {},
   "outputs": [
    {
     "name": "stdout",
     "output_type": "stream",
     "text": [
      "body of if condition\n"
     ]
    }
   ],
   "source": [
    "if True:\n",
    "    print(\"body of if condition\")"
   ]
  },
  {
   "cell_type": "code",
   "execution_count": 6,
   "metadata": {},
   "outputs": [],
   "source": [
    "if False:\n",
    "    print(\"body of if condition\")\n"
   ]
  },
  {
   "cell_type": "code",
   "execution_count": 7,
   "id": "74624f2b",
   "metadata": {},
   "outputs": [
    {
     "name": "stdout",
     "output_type": "stream",
     "text": [
      "body of else condition\n"
     ]
    }
   ],
   "source": [
    "if False:\n",
    "    print(\"body of if condition\")\n",
    "else:\n",
    "    print(\"body of else condition\")"
   ]
  },
  {
   "cell_type": "code",
   "execution_count": 9,
   "metadata": {},
   "outputs": [
    {
     "data": {
      "text/plain": [
       "False"
      ]
     },
     "execution_count": 9,
     "metadata": {},
     "output_type": "execute_result"
    }
   ],
   "source": [
    "10==100"
   ]
  },
  {
   "cell_type": "code",
   "execution_count": 8,
   "metadata": {},
   "outputs": [],
   "source": [
    "if 10==100:\n",
    "    print(\"both values are simlilar\")"
   ]
  },
  {
   "cell_type": "code",
   "execution_count": 12,
   "metadata": {},
   "outputs": [
    {
     "name": "stdout",
     "output_type": "stream",
     "text": [
      "outside of if block\n"
     ]
    }
   ],
   "source": [
    "if 10==100:\n",
    "    print(\"u r in if block\")\n",
    "print(\"outside of if block\")"
   ]
  },
  {
   "cell_type": "code",
   "execution_count": 13,
   "metadata": {},
   "outputs": [
    {
     "name": "stdout",
     "output_type": "stream",
     "text": [
      "u r in if block\n",
      "outside of if block\n"
     ]
    }
   ],
   "source": [
    "if 10==10:\n",
    "    print(\"u r in if block\")\n",
    "print(\"outside of if block\")"
   ]
  },
  {
   "cell_type": "code",
   "execution_count": 14,
   "metadata": {},
   "outputs": [
    {
     "name": "stdout",
     "output_type": "stream",
     "text": [
      "u r in if block\n"
     ]
    }
   ],
   "source": [
    "if 10==10:\n",
    "    print(\"u r in if block\")\n"
   ]
  },
  {
   "cell_type": "code",
   "execution_count": null,
   "metadata": {},
   "outputs": [],
   "source": []
  },
  {
   "cell_type": "code",
   "execution_count": 12,
   "metadata": {},
   "outputs": [
    {
     "name": "stdout",
     "output_type": "stream",
     "text": [
      "out of if condition\n",
      "210\n"
     ]
    }
   ],
   "source": [
    "if False:\n",
    "    print(\"body of if condition\")\n",
    "print(\"out of if condition\")\n",
    "print(10+200)"
   ]
  },
  {
   "cell_type": "code",
   "execution_count": 10,
   "metadata": {},
   "outputs": [
    {
     "name": "stdout",
     "output_type": "stream",
     "text": [
      "body of if condition\n",
      "out of if condition\n",
      "30\n"
     ]
    }
   ],
   "source": [
    "if True:\n",
    "    print(\"body of if condition\")\n",
    "print(\"out of if condition\")\n",
    "print(10+20)"
   ]
  },
  {
   "cell_type": "code",
   "execution_count": 19,
   "metadata": {},
   "outputs": [
    {
     "data": {
      "text/plain": [
       "True"
      ]
     },
     "execution_count": 19,
     "metadata": {},
     "output_type": "execute_result"
    }
   ],
   "source": [
    "name = \"albin\"\n",
    "name==\"albin\""
   ]
  },
  {
   "cell_type": "code",
   "execution_count": 17,
   "metadata": {},
   "outputs": [
    {
     "name": "stdout",
     "output_type": "stream",
     "text": [
      "not found\n"
     ]
    }
   ],
   "source": [
    "name = \"Mubarish\"\n",
    "\n",
    "if name==\"albin\":\n",
    "    print(\"found albin\")\n",
    "if name==\"Mubarish\":\n",
    "    print(\"found Mubarish\")\n",
    "else:\n",
    "    print(\"not found\")"
   ]
  },
  {
   "cell_type": "code",
   "execution_count": 27,
   "metadata": {},
   "outputs": [],
   "source": [
    "lst = [19,21,32,23,14,23,23]\n",
    "\n",
    "if 190 in lst:\n",
    "    print(\"present\")"
   ]
  },
  {
   "cell_type": "code",
   "execution_count": null,
   "metadata": {},
   "outputs": [],
   "source": []
  },
  {
   "cell_type": "code",
   "execution_count": 25,
   "metadata": {},
   "outputs": [
    {
     "name": "stdout",
     "output_type": "stream",
     "text": [
      "present\n"
     ]
    }
   ],
   "source": [
    "str = \"welcome\"\n",
    "if 'w' in str:\n",
    "    print(\"present\")"
   ]
  },
  {
   "cell_type": "code",
   "execution_count": 32,
   "metadata": {},
   "outputs": [],
   "source": [
    "lst = [19,21,32,23,14,23,23]\n",
    "\n",
    "if 230 in lst:\n",
    "    print(\"present\")\n",
    "    "
   ]
  },
  {
   "cell_type": "code",
   "execution_count": 33,
   "metadata": {},
   "outputs": [
    {
     "name": "stdout",
     "output_type": "stream",
     "text": [
      "absent\n"
     ]
    }
   ],
   "source": [
    "lst = [19,21,32,23,14,23,23]\n",
    "\n",
    "if 230 in lst:\n",
    "    print(\"present\")\n",
    "    \n",
    "else:\n",
    "    print(\"absent\")"
   ]
  },
  {
   "cell_type": "code",
   "execution_count": 44,
   "metadata": {},
   "outputs": [
    {
     "name": "stdout",
     "output_type": "stream",
     "text": [
      "not equal*****************************************\n"
     ]
    }
   ],
   "source": [
    "name = \"albin\"\n",
    "if name==\"sameer\":\n",
    "    print(\"Equal------------------------------\")\n",
    "else:\n",
    "    print(\"not equal*****************************************\")"
   ]
  },
  {
   "cell_type": "code",
   "execution_count": 25,
   "metadata": {},
   "outputs": [
    {
     "name": "stdout",
     "output_type": "stream",
     "text": [
      "your baby is eligible for Junior KG\n"
     ]
    }
   ],
   "source": [
    "age = int(input(\"enter baby age:\"))\n",
    "\n",
    "if age <= 0:\n",
    "    \n",
    "    print(\"invalid input\")\n",
    "elif age==1 or age==2 or age==3:\n",
    "    print(\"your baby is eligible for Junior KG\")\n",
    "elif age ==4 or age>=5:\n",
    "    print(\"your baby is eligible for Senior KG\")\n",
    "else:\n",
    "    print(\"your baby is not eligible for any class\")"
   ]
  },
  {
   "cell_type": "code",
   "execution_count": 22,
   "id": "5551a5d8",
   "metadata": {},
   "outputs": [
    {
     "name": "stdout",
     "output_type": "stream",
     "text": [
      "invalid input\n",
      "your baby is not eligible for any class\n"
     ]
    }
   ],
   "source": [
    "age = int(input(\"enter baby age:\"))\n",
    "\n",
    "if age <= 0:\n",
    "    \n",
    "    print(\"invalid input\")\n",
    "if age==1 or age==2 or age==3:\n",
    "    print(\"your baby is eligible for Junior KG\")\n",
    "if age ==4 or age>=5:\n",
    "    print(\"your baby is eligible for Senior KG\")\n",
    "else:\n",
    "    print(\"your baby is not eligible for any class\")"
   ]
  },
  {
   "cell_type": "code",
   "execution_count": null,
   "metadata": {},
   "outputs": [],
   "source": []
  },
  {
   "cell_type": "code",
   "execution_count": null,
   "metadata": {},
   "outputs": [],
   "source": []
  },
  {
   "cell_type": "code",
   "execution_count": 11,
   "metadata": {},
   "outputs": [
    {
     "name": "stdout",
     "output_type": "stream",
     "text": [
      "Num is greater\n"
     ]
    }
   ],
   "source": [
    "num = 10\n",
    "if num > 5: # 10> 5 --- True\n",
    "    print(\"Num is greater\")\n"
   ]
  },
  {
   "cell_type": "code",
   "execution_count": 15,
   "metadata": {},
   "outputs": [
    {
     "name": "stdout",
     "output_type": "stream",
     "text": [
      "enter a number which want to compare with five:3\n",
      "Process end\n"
     ]
    }
   ],
   "source": [
    "num = int(input(\"enter a number which want to compare with five:\"))\n",
    "if num > 5: # 3>5 ----False \n",
    "    print(\"Num is greater\")\n",
    "print(\"Process end\")"
   ]
  },
  {
   "cell_type": "code",
   "execution_count": 17,
   "metadata": {},
   "outputs": [
    {
     "name": "stdout",
     "output_type": "stream",
     "text": [
      "enter a number which want to compare with five:30\n",
      "Num is greater\n",
      "Process end\n"
     ]
    }
   ],
   "source": [
    "num = int(input(\"enter a number which want to compare with five:\"))\n",
    "if num > 5: # 30 > 5 ----True \n",
    "    print(\"Num is greater\")\n",
    "print(\"Process end\")"
   ]
  },
  {
   "cell_type": "code",
   "execution_count": 21,
   "metadata": {
    "scrolled": true
   },
   "outputs": [
    {
     "name": "stdout",
     "output_type": "stream",
     "text": [
      "positive number\n"
     ]
    }
   ],
   "source": [
    "n = 2\n",
    "if n > 0:\n",
    "    print(\"positive number\")\n"
   ]
  },
  {
   "cell_type": "code",
   "execution_count": 22,
   "metadata": {},
   "outputs": [
    {
     "name": "stdout",
     "output_type": "stream",
     "text": [
      "Negative number\n"
     ]
    }
   ],
   "source": [
    "n = -1\n",
    "if n > 0:\n",
    "    print(\"positive number\")\n",
    "print(\"Negative number\")"
   ]
  },
  {
   "cell_type": "code",
   "execution_count": 23,
   "metadata": {},
   "outputs": [
    {
     "name": "stdout",
     "output_type": "stream",
     "text": [
      "enter a nuber0\n",
      "Equal\n"
     ]
    }
   ],
   "source": [
    "n = int(input(\"enter a nuber\"))\n",
    "if n == 0:\n",
    "    print(\"Equal\")\n"
   ]
  },
  {
   "cell_type": "code",
   "execution_count": 24,
   "metadata": {},
   "outputs": [
    {
     "name": "stdout",
     "output_type": "stream",
     "text": [
      "enter a nuber12\n",
      "not equal\n"
     ]
    }
   ],
   "source": [
    "n = int(input(\"enter a nuber\"))\n",
    "if n == 0:\n",
    "    print(\"Equal\")\n",
    "print(\"not equal\")"
   ]
  },
  {
   "cell_type": "code",
   "execution_count": 25,
   "metadata": {},
   "outputs": [
    {
     "name": "stdout",
     "output_type": "stream",
     "text": [
      "enter a number which want to compare with five:10\n",
      "Num is greater\n"
     ]
    }
   ],
   "source": [
    "num = int(input(\"enter a number which want to compare with five:\"))\n",
    "if num > 5: # 10 > 5\n",
    "    print(\"Num is greater\")\n",
    "#print(\"Process end\")"
   ]
  },
  {
   "cell_type": "code",
   "execution_count": 26,
   "metadata": {},
   "outputs": [
    {
     "name": "stdout",
     "output_type": "stream",
     "text": [
      "enter a number which want to compare with five:3\n",
      "Process end\n"
     ]
    }
   ],
   "source": [
    "num = int(input(\"enter a number which want to compare with five:\"))\n",
    "if num > 5:\n",
    "    \n",
    "    print(\"Num is greater\")\n",
    "print(\"Process end\")"
   ]
  },
  {
   "cell_type": "code",
   "execution_count": 4,
   "metadata": {},
   "outputs": [
    {
     "name": "stdout",
     "output_type": "stream",
     "text": [
      "enter a number3\n",
      "<class 'int'>\n",
      "5\n"
     ]
    }
   ],
   "source": [
    "v = int(input(\"enter a number\"))\n",
    "print(type(v))\n",
    "print(v+2)\n",
    "#print(v)"
   ]
  },
  {
   "cell_type": "markdown",
   "metadata": {},
   "source": [
    "# If ELSE"
   ]
  },
  {
   "cell_type": "code",
   "execution_count": 5,
   "metadata": {},
   "outputs": [],
   "source": [
    "# if \"condition\":\n",
    "#     #Body of If block\n",
    "# else:\n",
    "#     #body of else block"
   ]
  },
  {
   "cell_type": "code",
   "execution_count": 6,
   "metadata": {},
   "outputs": [
    {
     "name": "stdout",
     "output_type": "stream",
     "text": [
      "num2 is greater\n"
     ]
    }
   ],
   "source": [
    "num1  = 10\n",
    "num2  = 20\n",
    "\n",
    "if num1 > num2: # 10 > 20 ----False\n",
    "    print(\" num1 is greater\")\n",
    "else:\n",
    "    print(\"num2 is greater\")"
   ]
  },
  {
   "cell_type": "code",
   "execution_count": 7,
   "metadata": {},
   "outputs": [
    {
     "name": "stdout",
     "output_type": "stream",
     "text": [
      "if block\n"
     ]
    }
   ],
   "source": [
    "if True:\n",
    "    print(\"if block\")\n",
    "else:\n",
    "    print(\"else block\")"
   ]
  },
  {
   "cell_type": "code",
   "execution_count": 8,
   "metadata": {},
   "outputs": [
    {
     "name": "stdout",
     "output_type": "stream",
     "text": [
      "else block\n"
     ]
    }
   ],
   "source": [
    "if False:\n",
    "    print(\"if block\")\n",
    "else:\n",
    "    print(\"else block\")"
   ]
  },
  {
   "cell_type": "code",
   "execution_count": 9,
   "metadata": {},
   "outputs": [
    {
     "name": "stdout",
     "output_type": "stream",
     "text": [
      "the number is greater than zero\n"
     ]
    }
   ],
   "source": [
    "m = 2\n",
    "if m > 0: #True ---- 2 > 0\n",
    "    print(\"the number is greater than zero\")\n",
    "else:\n",
    "    print(\"number is not greater than zero\")"
   ]
  },
  {
   "cell_type": "code",
   "execution_count": 10,
   "metadata": {},
   "outputs": [
    {
     "name": "stdout",
     "output_type": "stream",
     "text": [
      "number is not greater than zero\n"
     ]
    }
   ],
   "source": [
    "m = -1\n",
    "if m > 0: #False ---- -1 > 0\n",
    "    print(\"the number is greater than zero\")\n",
    "else:\n",
    "    print(\"number is not greater than zero\")"
   ]
  },
  {
   "cell_type": "code",
   "execution_count": 13,
   "metadata": {},
   "outputs": [
    {
     "name": "stdout",
     "output_type": "stream",
     "text": [
      "positive number\n",
      "Negative number\n"
     ]
    }
   ],
   "source": [
    "n = 2\n",
    "if n > 0:\n",
    "    print(\"positive number\")\n",
    "print(\"Negative number\")"
   ]
  },
  {
   "cell_type": "code",
   "execution_count": 14,
   "metadata": {},
   "outputs": [
    {
     "name": "stdout",
     "output_type": "stream",
     "text": [
      "positive number\n"
     ]
    }
   ],
   "source": [
    "n = 2\n",
    "if n > 0:\n",
    "    print(\"positive number\")\n",
    "else:\n",
    "    print(\"Negative number\")"
   ]
  },
  {
   "cell_type": "code",
   "execution_count": 18,
   "metadata": {},
   "outputs": [
    {
     "name": "stdout",
     "output_type": "stream",
     "text": [
      "positive number\n"
     ]
    }
   ],
   "source": [
    "n = 2\n",
    "if n > 0:\n",
    "    print(\"positive number\") \n",
    "else:\n",
    "    print(\"Negative number\")"
   ]
  },
  {
   "cell_type": "markdown",
   "metadata": {},
   "source": [
    "# If elif"
   ]
  },
  {
   "cell_type": "code",
   "execution_count": 19,
   "metadata": {},
   "outputs": [
    {
     "name": "stdout",
     "output_type": "stream",
     "text": [
      "num11 is less that 30\n"
     ]
    }
   ],
   "source": [
    "num11 = 20\n",
    "if num11<30: # 20 < 30 ----- true \n",
    "    print(\"num11 is less that 30\")\n",
    "elif num11>10:\n",
    "    print(\"num11 is greater than 30\")"
   ]
  },
  {
   "cell_type": "code",
   "execution_count": 48,
   "metadata": {},
   "outputs": [
    {
     "name": "stdout",
     "output_type": "stream",
     "text": [
      "both are same\n"
     ]
    }
   ],
   "source": [
    "name = \"Ram\"\n",
    "if name==\"Ram\": # True\n",
    "    print(\"both are same\")\n",
    "elif name == \"Ram\":\n",
    "    print(\"both are not equal\")\n"
   ]
  },
  {
   "cell_type": "code",
   "execution_count": 49,
   "metadata": {},
   "outputs": [
    {
     "name": "stdout",
     "output_type": "stream",
     "text": [
      "both are not equal\n"
     ]
    }
   ],
   "source": [
    "name = \"Ram\"\n",
    "if name==\"Ramm\": # False\n",
    "    print(\"both are same\")\n",
    "elif name == \"Ram\":\n",
    "    print(\"both are not equal\")"
   ]
  },
  {
   "cell_type": "code",
   "execution_count": 55,
   "metadata": {},
   "outputs": [
    {
     "name": "stdout",
     "output_type": "stream",
     "text": [
      "above all conditions are false\n"
     ]
    }
   ],
   "source": [
    "name = \"Ram\"\n",
    "if name==\"Ramm\": #True # False\n",
    "    print(\"both are same\")\n",
    "elif name == \"Ramm\":\n",
    "    print(\"both are equal\")\n",
    "    \n",
    "elif name == \"Krishn\":\n",
    "    print(\"------\")\n",
    "else:\n",
    "    print(\"above all conditions are false\")"
   ]
  },
  {
   "cell_type": "code",
   "execution_count": null,
   "metadata": {},
   "outputs": [],
   "source": []
  },
  {
   "cell_type": "code",
   "execution_count": 58,
   "metadata": {},
   "outputs": [
    {
     "name": "stdout",
     "output_type": "stream",
     "text": [
      "+++++++\n",
      "======\n"
     ]
    }
   ],
   "source": [
    "name = \"Ram\"\n",
    "name1 = \"Shyam\"\n",
    "if name==\"Ram\": # True # False\n",
    "    print(\"+++++++\")\n",
    "    if name == \"Shyam\": # False\n",
    "        print(\"------\")  \n",
    "    else:\n",
    "        print(\"======\")\n",
    "else:\n",
    "    print(\"above all conditions are false\")"
   ]
  },
  {
   "cell_type": "code",
   "execution_count": null,
   "metadata": {},
   "outputs": [],
   "source": [
    "name = \"Ram\"\n",
    "name1 = \"Shyam\"\n",
    "if name==\"Ram\": # True # False\n",
    "    print(\"+++++++\")\n",
    "    if name == \"Shyam\": # False\n",
    "        print(\"------\")  \n",
    "    else:\n",
    "        if name1 ==\"Shyam\":\n",
    "            print(\"OOOOOOO\")\n",
    "        else:\n",
    "            print(\"#######\")\n",
    "else:\n",
    "    print(\"above all conditions are false\")"
   ]
  },
  {
   "cell_type": "code",
   "execution_count": null,
   "metadata": {},
   "outputs": [],
   "source": []
  },
  {
   "cell_type": "code",
   "execution_count": null,
   "metadata": {},
   "outputs": [],
   "source": []
  },
  {
   "cell_type": "code",
   "execution_count": 25,
   "metadata": {},
   "outputs": [
    {
     "name": "stdout",
     "output_type": "stream",
     "text": [
      "welcome\n"
     ]
    }
   ],
   "source": [
    "num11 = 20\n",
    "if num11 > 30: # 20 > 30 ----- False\n",
    "    print(\"num11 is greater that 30\")\n",
    "elif num11 > 10:\n",
    "    print(\"welcome\")"
   ]
  },
  {
   "cell_type": "code",
   "execution_count": 22,
   "metadata": {},
   "outputs": [
    {
     "name": "stdout",
     "output_type": "stream",
     "text": [
      "both num11 ans 20 are equal\n"
     ]
    }
   ],
   "source": [
    "num11 = 20\n",
    "if num11 > 30: # 20 > 30 ----- False\n",
    "    print(\"num11 is greater that 30\")\n",
    "elif num11<10:\n",
    "    print(\"num11 is greater than 10\")\n",
    "    \n",
    "elif num11==20:\n",
    "    print(\"both num11 ans 20 are equal\")"
   ]
  },
  {
   "cell_type": "code",
   "execution_count": null,
   "metadata": {},
   "outputs": [],
   "source": []
  },
  {
   "cell_type": "code",
   "execution_count": 26,
   "metadata": {},
   "outputs": [
    {
     "name": "stdout",
     "output_type": "stream",
     "text": [
      "b1 is greater\n"
     ]
    }
   ],
   "source": [
    "b =  10\n",
    "b1 = 20\n",
    "\n",
    "if b > b1: # 10 > 20 --- False\n",
    "    print(\"b is greater\")\n",
    "else:\n",
    "    if b1>b:\n",
    "        print(\"b1 is greater\")\n",
    "    else:\n",
    "        if b==10:\n",
    "            print(\"b is equal to 10\")"
   ]
  },
  {
   "cell_type": "code",
   "execution_count": null,
   "metadata": {},
   "outputs": [],
   "source": []
  },
  {
   "cell_type": "code",
   "execution_count": null,
   "metadata": {},
   "outputs": [],
   "source": []
  },
  {
   "cell_type": "markdown",
   "metadata": {},
   "source": [
    "# If elif and else"
   ]
  },
  {
   "cell_type": "code",
   "execution_count": 30,
   "metadata": {},
   "outputs": [
    {
     "name": "stdout",
     "output_type": "stream",
     "text": [
      "enter a numbr1:10\n",
      "enter a numbr2:10\n",
      " both are eqaul\n"
     ]
    }
   ],
   "source": [
    "num1  = int(input(\"enter a numbr1:\"))\n",
    "num2 = int(input(\"enter a numbr2:\"))\n",
    "if num1==num2:\n",
    "    print(\" both are eqaul\")\n",
    "elif num1!=num2:\n",
    "    print(\" both are not eqaul\")\n",
    "else:\n",
    "    print(\"Terminate\")\n"
   ]
  },
  {
   "cell_type": "code",
   "execution_count": 31,
   "metadata": {},
   "outputs": [
    {
     "name": "stdout",
     "output_type": "stream",
     "text": [
      "enter a numbr1:10\n",
      "enter a numbr2:20\n",
      " both are not eqaul\n"
     ]
    }
   ],
   "source": [
    "num1  = int(input(\"enter a numbr1:\"))\n",
    "num2 = int(input(\"enter a numbr2:\"))\n",
    "if num1==num2: # 10 == 20 -- False\n",
    "    print(\" both are eqaul\")\n",
    "elif num1!=num2: # 10 != 20 --- True\n",
    "    print(\" both are not eqaul\")\n",
    "else:\n",
    "    print(\"Terminate\")"
   ]
  },
  {
   "cell_type": "code",
   "execution_count": 32,
   "metadata": {},
   "outputs": [
    {
     "name": "stdout",
     "output_type": "stream",
     "text": [
      "enter a numbr1:12\n",
      "enter a numbr2:23\n",
      "Terminate\n"
     ]
    }
   ],
   "source": [
    "num1  = int(input(\"enter a numbr1:\"))\n",
    "num2 = int(input(\"enter a numbr2:\"))\n",
    "if num1==num2: # 12 == 23 ---- False\n",
    "    print(\" both are eqaul\")\n",
    "elif num1 > num2: #  12 > 23 ------ False\n",
    "    print(\" both are not eqaul\")\n",
    "else:\n",
    "    print(\"Terminate\")"
   ]
  },
  {
   "cell_type": "markdown",
   "metadata": {},
   "source": [
    "# IF IF"
   ]
  },
  {
   "cell_type": "code",
   "execution_count": 33,
   "metadata": {},
   "outputs": [],
   "source": [
    "d = 12\n",
    "dd = 20\n",
    "\n",
    "if d==dd: # 12 ==20 ---false\n",
    "    print(\"bothe are equal\")\n",
    "if d>dd: # 12 >20 -- false\n",
    "    print(\"d is greater\")"
   ]
  },
  {
   "cell_type": "code",
   "execution_count": 34,
   "metadata": {},
   "outputs": [
    {
     "name": "stdout",
     "output_type": "stream",
     "text": [
      "terminate\n"
     ]
    }
   ],
   "source": [
    "d = 12\n",
    "dd = 20\n",
    "\n",
    "if d==dd: # 12 ==20 ---false\n",
    "    print(\"bothe are equal\")\n",
    "if d>dd: # 12 >20 -- false\n",
    "    print(\"d is greater\")\n",
    "else:\n",
    "    print(\"terminate\")"
   ]
  },
  {
   "cell_type": "code",
   "execution_count": 36,
   "metadata": {},
   "outputs": [
    {
     "name": "stdout",
     "output_type": "stream",
     "text": [
      "d is small\n",
      "dd id greater\n"
     ]
    }
   ],
   "source": [
    "d = 12\n",
    "dd = 20\n",
    "\n",
    "if d < dd: # 12 < 20 --- True\n",
    "    print(\"d is small\")\n",
    "if d < dd: # 12 >20 -- True\n",
    "    print(\"dd id greater\")\n",
    "else:\n",
    "    print(\"terminate\")"
   ]
  },
  {
   "cell_type": "code",
   "execution_count": null,
   "metadata": {},
   "outputs": [],
   "source": []
  }
 ],
 "metadata": {
  "kernelspec": {
   "display_name": "Python 3",
   "language": "python",
   "name": "python3"
  },
  "language_info": {
   "codemirror_mode": {
    "name": "ipython",
    "version": 3
   },
   "file_extension": ".py",
   "mimetype": "text/x-python",
   "name": "python",
   "nbconvert_exporter": "python",
   "pygments_lexer": "ipython3",
   "version": "3.10.12"
  }
 },
 "nbformat": 4,
 "nbformat_minor": 5
}
