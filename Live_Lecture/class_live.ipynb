{
 "cells": [
  {
   "cell_type": "markdown",
   "metadata": {},
   "source": [
    "# OOPS"
   ]
  },
  {
   "cell_type": "markdown",
   "metadata": {},
   "source": [
    "# Python Class"
   ]
  },
  {
   "cell_type": "markdown",
   "metadata": {},
   "source": [
    "# Syntax"
   ]
  },
  {
   "cell_type": "code",
   "execution_count": null,
   "metadata": {},
   "outputs": [],
   "source": [
    "class class_name:\n",
    "    pass # empty class"
   ]
  },
  {
   "cell_type": "code",
   "execution_count": null,
   "metadata": {},
   "outputs": [],
   "source": [
    "class person:\n",
    "    pass"
   ]
  },
  {
   "cell_type": "code",
   "execution_count": null,
   "metadata": {},
   "outputs": [],
   "source": [
    "class p1:\n",
    "    pass"
   ]
  },
  {
   "cell_type": "code",
   "execution_count": null,
   "metadata": {},
   "outputs": [],
   "source": [
    "class student:\n",
    "    pass"
   ]
  },
  {
   "cell_type": "code",
   "execution_count": null,
   "metadata": {},
   "outputs": [],
   "source": [
    "class emp:\n",
    "    pass"
   ]
  },
  {
   "cell_type": "code",
   "execution_count": null,
   "metadata": {},
   "outputs": [],
   "source": [
    "class teacher:\n",
    "    pass"
   ]
  },
  {
   "cell_type": "code",
   "execution_count": 1,
   "metadata": {},
   "outputs": [
    {
     "name": "stdout",
     "output_type": "stream",
     "text": [
      "Hello student\n"
     ]
    }
   ],
   "source": [
    "class student:\n",
    "    print(\"Hello student\")\n",
    "    "
   ]
  },
  {
   "cell_type": "code",
   "execution_count": 3,
   "metadata": {},
   "outputs": [
    {
     "name": "stdout",
     "output_type": "stream",
     "text": [
      "Welcome to the class\n",
      "------------\n"
     ]
    }
   ],
   "source": [
    "class welcome:\n",
    "    print(\"Welcome to the class\")\n",
    "    print(\"------------\")"
   ]
  },
  {
   "cell_type": "code",
   "execution_count": 7,
   "metadata": {},
   "outputs": [
    {
     "name": "stdout",
     "output_type": "stream",
     "text": [
      "22\n"
     ]
    }
   ],
   "source": [
    "class mathematics:\n",
    "    num1 =12\n",
    "    num2 = 10\n",
    "    result = num1+num2\n",
    "    print(result)"
   ]
  },
  {
   "cell_type": "code",
   "execution_count": null,
   "metadata": {},
   "outputs": [],
   "source": []
  },
  {
   "cell_type": "markdown",
   "metadata": {},
   "source": [
    "# Object in class"
   ]
  },
  {
   "cell_type": "code",
   "execution_count": null,
   "metadata": {},
   "outputs": [],
   "source": [
    "class math:\n",
    "    pass\n",
    "\n",
    "obj = math()"
   ]
  },
  {
   "cell_type": "markdown",
   "metadata": {},
   "source": [
    "## You can create multiple objects on a single class"
   ]
  },
  {
   "cell_type": "code",
   "execution_count": null,
   "metadata": {},
   "outputs": [],
   "source": [
    "class math:\n",
    "    pass\n",
    "\n",
    "m = math()"
   ]
  },
  {
   "cell_type": "code",
   "execution_count": 9,
   "metadata": {},
   "outputs": [],
   "source": [
    "class math:\n",
    "    pass\n",
    "\n",
    "mt = math()\n",
    "m1 = math()\n",
    "m2 = math()"
   ]
  },
  {
   "cell_type": "code",
   "execution_count": 11,
   "metadata": {},
   "outputs": [
    {
     "data": {
      "text/plain": [
       "<__main__.math at 0x7f8ec8724f10>"
      ]
     },
     "execution_count": 11,
     "metadata": {},
     "output_type": "execute_result"
    }
   ],
   "source": [
    "m1"
   ]
  },
  {
   "cell_type": "code",
   "execution_count": 12,
   "metadata": {},
   "outputs": [
    {
     "name": "stdout",
     "output_type": "stream",
     "text": [
      "<__main__.mathematics object at 0x7f8ec8724880>\n"
     ]
    }
   ],
   "source": [
    "class mathematics:\n",
    "    num1 =12\n",
    "    num2 = 10\n",
    "    result = num1+num2\n",
    "    \n",
    "    \n",
    "math1 = mathematics() # object of class\n",
    "print(math1)\n",
    "#print(num1)"
   ]
  },
  {
   "cell_type": "code",
   "execution_count": 13,
   "metadata": {},
   "outputs": [
    {
     "data": {
      "text/plain": [
       "22"
      ]
     },
     "execution_count": 13,
     "metadata": {},
     "output_type": "execute_result"
    }
   ],
   "source": [
    "math1.result"
   ]
  },
  {
   "cell_type": "code",
   "execution_count": 15,
   "metadata": {},
   "outputs": [
    {
     "data": {
      "text/plain": [
       "10"
      ]
     },
     "execution_count": 15,
     "metadata": {},
     "output_type": "execute_result"
    }
   ],
   "source": [
    "math1.num2"
   ]
  },
  {
   "cell_type": "markdown",
   "metadata": {},
   "source": [
    "# object2"
   ]
  },
  {
   "cell_type": "code",
   "execution_count": 16,
   "metadata": {},
   "outputs": [],
   "source": [
    "math2 = mathematics()"
   ]
  },
  {
   "cell_type": "code",
   "execution_count": 17,
   "metadata": {},
   "outputs": [
    {
     "data": {
      "text/plain": [
       "22"
      ]
     },
     "execution_count": 17,
     "metadata": {},
     "output_type": "execute_result"
    }
   ],
   "source": [
    "math2.result"
   ]
  },
  {
   "cell_type": "code",
   "execution_count": 18,
   "metadata": {},
   "outputs": [],
   "source": [
    "math3 = mathematics()"
   ]
  },
  {
   "cell_type": "code",
   "execution_count": 19,
   "metadata": {},
   "outputs": [
    {
     "data": {
      "text/plain": [
       "12"
      ]
     },
     "execution_count": 19,
     "metadata": {},
     "output_type": "execute_result"
    }
   ],
   "source": [
    "math3.num1"
   ]
  },
  {
   "cell_type": "code",
   "execution_count": 20,
   "metadata": {},
   "outputs": [
    {
     "name": "stdout",
     "output_type": "stream",
     "text": [
      "name is : Ram\n"
     ]
    }
   ],
   "source": [
    "def detail(name,age):\n",
    "    print(\"name is :\",name)\n",
    "    \n",
    "detail(\"Ram\",1000)\n"
   ]
  },
  {
   "cell_type": "code",
   "execution_count": 21,
   "metadata": {},
   "outputs": [
    {
     "name": "stdout",
     "output_type": "stream",
     "text": [
      "name is : Sham\n"
     ]
    }
   ],
   "source": [
    "detail(\"Sham\",199)"
   ]
  },
  {
   "cell_type": "code",
   "execution_count": 23,
   "metadata": {},
   "outputs": [
    {
     "name": "stdout",
     "output_type": "stream",
     "text": [
      "name is : Ram\n"
     ]
    }
   ],
   "source": [
    "class person:\n",
    "    def detail(name,age):\n",
    "        print(\"name is :\",name)\n",
    "    \n",
    "detail(\"Ram\",1000)"
   ]
  },
  {
   "cell_type": "code",
   "execution_count": null,
   "metadata": {},
   "outputs": [],
   "source": []
  },
  {
   "cell_type": "code",
   "execution_count": null,
   "metadata": {},
   "outputs": [],
   "source": [
    "class person:\n",
    "    \n",
    "    def __init__(self,name,age): # constructor\n",
    "        self.name = name\n",
    "        self.age = age\n",
    "        \n",
    "    def details(self):\n",
    "        print(\"Name of person is:\",self.name)\n",
    "    \n",
    "\n",
    "        \n",
    "p = person(\"sham\",1222) # object of class\n",
    "p.details()\n",
    "\n",
    "\n",
    "p1 = person(\"sham\",1222)\n",
    "p2 = person(\"sham\",1222)"
   ]
  },
  {
   "cell_type": "code",
   "execution_count": 26,
   "metadata": {},
   "outputs": [
    {
     "name": "stdout",
     "output_type": "stream",
     "text": [
      "fail\n"
     ]
    }
   ],
   "source": [
    "def pass_fail(mark):\n",
    "    if mark >=45:\n",
    "        print(\"pass\")\n",
    "    else:\n",
    "        print('fail')\n",
    "        \n",
    "pass_fail(10)"
   ]
  },
  {
   "cell_type": "code",
   "execution_count": 41,
   "metadata": {},
   "outputs": [
    {
     "name": "stdout",
     "output_type": "stream",
     "text": [
      "------\n",
      "00000\n"
     ]
    }
   ],
   "source": [
    "class student:\n",
    "    print(\"------\")\n",
    "    def __init__(self,mark,age): # constructor\n",
    "        self.mark = mark\n",
    "        self.age = age\n",
    "        \n",
    "    def pass_fail(self):\n",
    "        print(\"---===\")\n",
    "        if self.mark >=45:\n",
    "            print(\"pass\")\n",
    "        else:\n",
    "            print('fail')\n",
    "            \n",
    "    def voting(self):\n",
    "        if self.age >= 18:\n",
    "            print(\"you are eligible for voting\")\n",
    "        else:\n",
    "            print(\"you are not eligible\")\n",
    "            \n",
    "            \n",
    "print(\"00000\")           \n",
    "st = student(12,10) # object of class \n",
    "\n",
    "# st.pass_fail()\n",
    "# st.voting()\n"
   ]
  },
  {
   "cell_type": "code",
   "execution_count": 42,
   "metadata": {},
   "outputs": [
    {
     "name": "stdout",
     "output_type": "stream",
     "text": [
      "---===\n",
      "fail\n"
     ]
    }
   ],
   "source": [
    "st.pass_fail()"
   ]
  },
  {
   "cell_type": "code",
   "execution_count": 43,
   "metadata": {},
   "outputs": [
    {
     "name": "stdout",
     "output_type": "stream",
     "text": [
      "you are not eligible\n"
     ]
    }
   ],
   "source": [
    "st.voting()"
   ]
  },
  {
   "cell_type": "code",
   "execution_count": 47,
   "metadata": {},
   "outputs": [
    {
     "name": "stdout",
     "output_type": "stream",
     "text": [
      "------\n",
      "00000\n",
      "enter you mark of single subject 50\n",
      "Enter you respective age 23\n"
     ]
    }
   ],
   "source": [
    "class student:\n",
    "    print(\"------\")\n",
    "    def __init__(self,mark,age): # constructor\n",
    "        self.m = mark\n",
    "        self.a = age\n",
    "        \n",
    "    def pass_fail(self):\n",
    "        print(\"---===\")\n",
    "        if self.m >=45:\n",
    "            print(\"pass\")\n",
    "        else:\n",
    "            print('fail')\n",
    "            \n",
    "    def voting(self):\n",
    "        if self.a >= 18:\n",
    "            print(\"you are eligible for voting\")\n",
    "        else:\n",
    "            print(\"you are not eligible\")\n",
    "            \n",
    "            \n",
    "print(\"00000\") \n",
    "\n",
    "mrk = int(input(\"enter you mark of single subject \"))\n",
    "ag = int(input(\"Enter you respective age \"))\n",
    "st = student(mrk,ag) # object of class \n",
    "\n",
    "# st.pass_fail()\n",
    "# st.voting()\n"
   ]
  },
  {
   "cell_type": "code",
   "execution_count": 48,
   "metadata": {},
   "outputs": [
    {
     "name": "stdout",
     "output_type": "stream",
     "text": [
      "---===\n",
      "pass\n"
     ]
    }
   ],
   "source": [
    "st.pass_fail()\n"
   ]
  },
  {
   "cell_type": "code",
   "execution_count": 49,
   "metadata": {},
   "outputs": [
    {
     "name": "stdout",
     "output_type": "stream",
     "text": [
      "you are eligible for voting\n"
     ]
    }
   ],
   "source": [
    "st.voting()"
   ]
  },
  {
   "cell_type": "code",
   "execution_count": null,
   "metadata": {},
   "outputs": [],
   "source": []
  },
  {
   "cell_type": "code",
   "execution_count": 40,
   "metadata": {},
   "outputs": [],
   "source": [
    "def voting(self):\n",
    "    if self.age >= 18:\n",
    "        print(\"you are eligible for voting\")\n",
    "    else:\n",
    "        print(\"you are not eligible\")"
   ]
  },
  {
   "cell_type": "code",
   "execution_count": null,
   "metadata": {},
   "outputs": [],
   "source": [
    "class person:\n",
    "    \n",
    "    def __init__(self,name,age): # constructor\n",
    "        self.name = name\n",
    "        self.age = age\n",
    "        \n",
    "    def details(self):\n",
    "        print(\"Name of person is:\",self.name)\n",
    "    \n",
    "    def check(self):\n",
    "        if self.age>20:\n",
    "            print(\"age is greater than 20\")\n",
    "        else:\n",
    "            print(\"age is less than 20\")\n",
    "        \n",
    "p = person(\"sham\",1222) # object of class\n",
    "p.details()\n",
    "\n",
    "p.check()"
   ]
  },
  {
   "cell_type": "code",
   "execution_count": null,
   "metadata": {},
   "outputs": [],
   "source": [
    "class student:\n",
    "    def details(self):\n",
    "        print(\"Welcome to the class\")"
   ]
  },
  {
   "cell_type": "code",
   "execution_count": null,
   "metadata": {},
   "outputs": [],
   "source": [
    "class student:\n",
    "    \n",
    "    def details(self):\n",
    "        print(\"Welcome to the class\")\n",
    "        \n",
    "s = student()"
   ]
  },
  {
   "cell_type": "code",
   "execution_count": null,
   "metadata": {},
   "outputs": [],
   "source": [
    "class student:\n",
    "    \n",
    "    def details(self):\n",
    "        print(\"Welcome to the class\")\n",
    "        \n",
    "s = student()\n",
    "\n",
    "s.details()"
   ]
  },
  {
   "cell_type": "code",
   "execution_count": null,
   "metadata": {},
   "outputs": [],
   "source": [
    "class student:\n",
    "    \n",
    "    def details(self):\n",
    "        print(\"you r in details function\")\n",
    "        \n",
    "    def age(self):\n",
    "        print(\"your in age method or function\")\n",
    "        \n",
    "    def address(self):\n",
    "        print(\"you r in address function\")\n",
    "        \n",
    "s = student()\n",
    "s.address()\n",
    "s.details()\n",
    "s.age()\n",
    "\n",
    "print(\">>>>>Std>>>>>>>>>>\")\n",
    "\n",
    "std = student()\n",
    "std.age()\n"
   ]
  },
  {
   "cell_type": "code",
   "execution_count": null,
   "metadata": {},
   "outputs": [],
   "source": [
    "s.age()"
   ]
  },
  {
   "cell_type": "code",
   "execution_count": null,
   "metadata": {},
   "outputs": [],
   "source": []
  },
  {
   "cell_type": "code",
   "execution_count": null,
   "metadata": {},
   "outputs": [],
   "source": []
  },
  {
   "cell_type": "code",
   "execution_count": null,
   "metadata": {},
   "outputs": [],
   "source": [
    "def pass_fail(makrs):\n",
    "    \n",
    "    if makrs>40:\n",
    "        print(\"student is pass\")\n",
    "    else:\n",
    "        print(\"fail\")\n",
    "\n",
    "pass_fail(130)"
   ]
  },
  {
   "cell_type": "code",
   "execution_count": null,
   "metadata": {},
   "outputs": [],
   "source": [
    "class student:\n",
    "    def pass_fail(self):"
   ]
  },
  {
   "cell_type": "code",
   "execution_count": null,
   "metadata": {},
   "outputs": [],
   "source": []
  },
  {
   "cell_type": "code",
   "execution_count": null,
   "metadata": {},
   "outputs": [],
   "source": []
  },
  {
   "cell_type": "code",
   "execution_count": null,
   "metadata": {},
   "outputs": [],
   "source": []
  },
  {
   "cell_type": "markdown",
   "metadata": {},
   "source": [
    "# Start"
   ]
  },
  {
   "cell_type": "code",
   "execution_count": null,
   "metadata": {},
   "outputs": [],
   "source": [
    "class mathematics:\n",
    "    # print(\"welcome to the class\")\n",
    "    num = 10\n",
    "    num1 = 20\n",
    "    result = num+num1\n",
    "    result1 = num-num1\n",
    "    #print(result)\n",
    "\n",
    "obj = mathematics()  # class object"
   ]
  },
  {
   "cell_type": "code",
   "execution_count": null,
   "metadata": {},
   "outputs": [],
   "source": [
    "print(\"addition is =\",obj.result)"
   ]
  },
  {
   "cell_type": "markdown",
   "metadata": {},
   "source": [
    "you can create multiple objects of single class"
   ]
  },
  {
   "cell_type": "code",
   "execution_count": null,
   "metadata": {},
   "outputs": [],
   "source": [
    "obj1 = mathematics() #\n",
    "\n",
    "print(\"Getting output through obj1 =\",obj1.result)\n",
    "print(\"Getting output through obj1 =\",obj1.result1)"
   ]
  },
  {
   "cell_type": "code",
   "execution_count": null,
   "metadata": {},
   "outputs": [],
   "source": [
    "obj2 = mathematics()"
   ]
  },
  {
   "cell_type": "code",
   "execution_count": null,
   "metadata": {},
   "outputs": [],
   "source": [
    "obj3 = mathematics()"
   ]
  },
  {
   "cell_type": "code",
   "execution_count": null,
   "metadata": {},
   "outputs": [],
   "source": []
  },
  {
   "cell_type": "code",
   "execution_count": null,
   "metadata": {},
   "outputs": [],
   "source": [
    "class student:\n",
    "    \n",
    "    def check_age(self):\n",
    "        print(\"you are in check_age method\")\n",
    "        \n",
    "std = student()\n",
    "\n",
    "std.check_age\n"
   ]
  },
  {
   "cell_type": "code",
   "execution_count": null,
   "metadata": {},
   "outputs": [],
   "source": [
    "class student:\n",
    "    num = 10\n",
    "    def check_age(self):\n",
    "        print(\"you are in check_age method\")\n",
    "        \n",
    "std = student()\n",
    "\n",
    "print(std.check_age)\n",
    "\n",
    "print(std.num)\n"
   ]
  },
  {
   "cell_type": "code",
   "execution_count": null,
   "metadata": {},
   "outputs": [],
   "source": [
    "std.check_age()"
   ]
  },
  {
   "cell_type": "code",
   "execution_count": null,
   "metadata": {},
   "outputs": [],
   "source": [
    "\n"
   ]
  },
  {
   "cell_type": "code",
   "execution_count": null,
   "metadata": {},
   "outputs": [],
   "source": []
  },
  {
   "cell_type": "code",
   "execution_count": null,
   "metadata": {},
   "outputs": [],
   "source": [
    "class student:\n",
    "    \n",
    "\n",
    "    def check_age(self):\n",
    "        \n",
    "        print(\"you are in check_age method\")\n",
    "        \n",
    "std = student()\n",
    "\n",
    "\n",
    "std.check_age()"
   ]
  },
  {
   "cell_type": "code",
   "execution_count": null,
   "metadata": {},
   "outputs": [],
   "source": [
    "std1 = student()"
   ]
  },
  {
   "cell_type": "code",
   "execution_count": null,
   "metadata": {},
   "outputs": [],
   "source": [
    "std1.check_age()"
   ]
  },
  {
   "cell_type": "code",
   "execution_count": null,
   "metadata": {},
   "outputs": [],
   "source": []
  },
  {
   "cell_type": "code",
   "execution_count": null,
   "metadata": {},
   "outputs": [],
   "source": [
    "class Employee:\n",
    "    \n",
    "    def sal(self):\n",
    "        print(\"Hi your salry is about 100000\")\n",
    "        \n",
    "    def exp(self):\n",
    "        print(\"your exp ois almost 5 year\")\n",
    "        \n",
    "    def education(self):\n",
    "        print(\"Hi thank you for joining our organization with having PHD \")\n",
    "        \n",
    "        \n",
    "emp = Employee()\n",
    "\n",
    "emp.sal()"
   ]
  },
  {
   "cell_type": "code",
   "execution_count": null,
   "metadata": {},
   "outputs": [],
   "source": [
    "emp.exp()"
   ]
  },
  {
   "cell_type": "code",
   "execution_count": null,
   "metadata": {},
   "outputs": [],
   "source": [
    "emp.education()"
   ]
  },
  {
   "cell_type": "code",
   "execution_count": null,
   "metadata": {},
   "outputs": [],
   "source": [
    "emp2 = Employee()"
   ]
  },
  {
   "cell_type": "code",
   "execution_count": null,
   "metadata": {},
   "outputs": [],
   "source": [
    "emp2.sal()"
   ]
  },
  {
   "cell_type": "code",
   "execution_count": null,
   "metadata": {},
   "outputs": [],
   "source": [
    "emp2.education()"
   ]
  },
  {
   "cell_type": "markdown",
   "metadata": {},
   "source": [
    "# constuctor"
   ]
  },
  {
   "cell_type": "code",
   "execution_count": null,
   "metadata": {},
   "outputs": [],
   "source": [
    "\n"
   ]
  },
  {
   "cell_type": "code",
   "execution_count": null,
   "metadata": {},
   "outputs": [],
   "source": [
    "class Employee:\n",
    "    \n",
    "    def __init__(self,sal):# constructor\n",
    "        self.sal = sal\n",
    "        \n",
    "        \n",
    "    def sal1(self):\n",
    "        print(\"Hi your salry is about 100000\",)\n",
    "        \n",
    "    def exp(self):\n",
    "        print(\"your exp ois almost 5 year\")\n",
    "        \n",
    "    def education(self):\n",
    "        print(\"Hi thank you for joining our organization with having PHD \")\n",
    "        \n",
    "        \n",
    "emp = Employee(10000) # object of class\n",
    "\n",
    "emp.sal1()"
   ]
  },
  {
   "cell_type": "code",
   "execution_count": null,
   "metadata": {},
   "outputs": [],
   "source": [
    "emp.exp()"
   ]
  },
  {
   "cell_type": "code",
   "execution_count": null,
   "metadata": {},
   "outputs": [],
   "source": [
    "class Employee:\n",
    "    \n",
    "    def __init__(self,sal):# constructor\n",
    "        self.sal = sal\n",
    "        \n",
    "        \n",
    "    def sal1(self):\n",
    "        print(\"Hi your salry is about 100000\",)\n",
    "       \n",
    "        if self.sal>10000:\n",
    "            print(\"the salry is greater than 1L\")\n",
    "        else:\n",
    "            print(\"sal is not more than 1L\")\n",
    "        \n",
    "    def exp(self):\n",
    "        print(\"your exp ois almost 5 year\")\n",
    "        \n",
    "    def education(self):\n",
    "        print(\"Hi thank you for joining our organization with having PHD \")\n",
    "        \n",
    "        \n",
    "emp = Employee(10000) # object of class\n",
    "\n",
    "emp.sal1()"
   ]
  },
  {
   "cell_type": "code",
   "execution_count": null,
   "metadata": {},
   "outputs": [],
   "source": [
    "class Employee:\n",
    "    \n",
    "    def __init__(self,sal,exp):# constructor\n",
    "        self.sal = sal\n",
    "        self.exp = exp\n",
    "        \n",
    "    def sal1(self):\n",
    "        print(\"Hi your salry is about 100000\",)\n",
    "       \n",
    "        if self.sal>10000:\n",
    "            print(\"the salry is greater than 1L\")\n",
    "        else:\n",
    "            print(\"sal is not more than 1L\")\n",
    "        \n",
    "    def experiance(self):\n",
    "        print(\"your exp ois almost 5 year\")\n",
    "        \n",
    "        if self.exp > 5:\n",
    "            print(\"you are eligible for promotion\")\n",
    "        else:\n",
    "            print(\"you r not eligible for promotion\")\n",
    "        \n",
    "    def education(self):\n",
    "        print(\"Hi thank you for joining our organization with having PHD \")\n",
    "        \n",
    "        \n",
    "emp = Employee(10000,5) # object of class\n",
    "\n",
    "emp.sal1()"
   ]
  },
  {
   "cell_type": "code",
   "execution_count": null,
   "metadata": {},
   "outputs": [],
   "source": [
    "emp.experiance()"
   ]
  },
  {
   "cell_type": "code",
   "execution_count": null,
   "metadata": {},
   "outputs": [],
   "source": []
  },
  {
   "cell_type": "code",
   "execution_count": null,
   "metadata": {},
   "outputs": [],
   "source": [
    "class Employee:\n",
    "    \n",
    "    def __init__(self,sal,exp):# constructor\n",
    "        self.sal = sal\n",
    "        self.exp = exp\n",
    "        \n",
    "    def sal1(self):\n",
    "        print(\"Hi your salry is about 100000\",)\n",
    "       \n",
    "        if self.sal>10000:\n",
    "            print(\"the salry is greater than 1L\")\n",
    "        else:\n",
    "            print(\"sal is not more than 1L\")\n",
    "        \n",
    "    def experiance(self):\n",
    "        print(\"your exp ois almost 5 year\")\n",
    "        \n",
    "        if self.exp > 5:\n",
    "            print(\"you are eligible for promotion\")\n",
    "        else:\n",
    "            print(\"you r not eligible for promotion\")\n",
    "        \n",
    "    def education(self):\n",
    "        print(\"Hi thank you for joining our organization with having PHD \")\n",
    "\n",
    "salary = int(input(\"enter your salary:\"))\n",
    "expp   = int(input(\"enter your experiance:\"))\n",
    "        \n",
    "emp = Employee(salary,expp) # object of class\n",
    "\n",
    "emp.sal1()"
   ]
  },
  {
   "cell_type": "code",
   "execution_count": null,
   "metadata": {},
   "outputs": [],
   "source": [
    "emp.experiance()"
   ]
  },
  {
   "cell_type": "code",
   "execution_count": null,
   "metadata": {},
   "outputs": [],
   "source": []
  },
  {
   "cell_type": "code",
   "execution_count": null,
   "metadata": {},
   "outputs": [],
   "source": [
    "class student: # classs\n",
    "    \n",
    "    def detail(self): # class method\n",
    "        print(\"your are in detail function\")\n",
    "        num =  19\n",
    "        num1 = 12\n",
    "        result = num+ num1\n",
    "        print(\"Result= \",result)\n",
    "        \n",
    "        \n",
    "std = student() # object of class student\n"
   ]
  },
  {
   "cell_type": "code",
   "execution_count": null,
   "metadata": {},
   "outputs": [],
   "source": [
    "std.detail()"
   ]
  },
  {
   "cell_type": "code",
   "execution_count": null,
   "metadata": {},
   "outputs": [],
   "source": [
    "#print(std.num1)"
   ]
  },
  {
   "cell_type": "code",
   "execution_count": null,
   "metadata": {},
   "outputs": [],
   "source": [
    "class xtz:\n",
    "    x = 10\n",
    "    \n",
    "x1 = xtz()\n",
    "print(x1.x)"
   ]
  },
  {
   "cell_type": "code",
   "execution_count": null,
   "metadata": {},
   "outputs": [],
   "source": []
  },
  {
   "cell_type": "code",
   "execution_count": null,
   "metadata": {},
   "outputs": [],
   "source": [
    "class actor:\n",
    "    def tiger(self):\n",
    "        print(\"hi tiger \")\n",
    "        \n",
    "    def hritik(self):\n",
    "        print(\"Hi hritik\")\n",
    "\n",
    "a = actor()\n",
    "a.tiger()\n",
    "        "
   ]
  },
  {
   "cell_type": "code",
   "execution_count": null,
   "metadata": {},
   "outputs": [],
   "source": [
    "a.hritik()"
   ]
  },
  {
   "cell_type": "code",
   "execution_count": null,
   "metadata": {},
   "outputs": [],
   "source": [
    "a1 = actor()"
   ]
  },
  {
   "cell_type": "code",
   "execution_count": null,
   "metadata": {},
   "outputs": [],
   "source": [
    "a1.tiger()"
   ]
  },
  {
   "cell_type": "code",
   "execution_count": null,
   "metadata": {},
   "outputs": [],
   "source": [
    "def pass_fail(mark):\n",
    "    if mark>=40:\n",
    "        print(\"student is pass\")\n",
    "    else:\n",
    "        print(\"student is not passed\")\n",
    "\n",
    "pass_fail(40)\n",
    "    "
   ]
  },
  {
   "cell_type": "code",
   "execution_count": null,
   "metadata": {},
   "outputs": [],
   "source": [
    "def pass_fail(mark):\n",
    "    if mark>=40:\n",
    "        print(\"you are pass\")\n",
    "    else:\n",
    "        print(\"you are not passed\")\n",
    "\n",
    "mark_math = int(input(\"enter your mathematic mark:\"))\n",
    "pass_fail(mark_math)\n",
    "    "
   ]
  },
  {
   "cell_type": "code",
   "execution_count": null,
   "metadata": {},
   "outputs": [],
   "source": [
    "class student:\n",
    "    \n",
    "    def pass_fail(self):\n",
    "        if self.mark>=40:\n",
    "            print(\"you are pass\")\n",
    "        else:\n",
    "            print(\"you are not passed\")\n",
    "        \n",
    "st = student()\n",
    "\n",
    "st.mark = 40\n",
    "\n",
    "st.pass_fail()"
   ]
  },
  {
   "cell_type": "code",
   "execution_count": null,
   "metadata": {},
   "outputs": [],
   "source": [
    "class student:\n",
    "    \n",
    "    def pass_fail(self):\n",
    "        if self.mark>=40:\n",
    "            print(\"you are pass\")\n",
    "        else:\n",
    "            print(\"you are not passed\")\n",
    "        \n",
    "st = student()\n",
    "\n",
    "st.mark = int(input(\"Enter your marks:\"))\n",
    "st.pass_fail()"
   ]
  },
  {
   "cell_type": "code",
   "execution_count": null,
   "metadata": {},
   "outputs": [],
   "source": []
  },
  {
   "cell_type": "code",
   "execution_count": null,
   "metadata": {},
   "outputs": [],
   "source": [
    "class student:\n",
    "    def __init__(self,mark):\n",
    "        self.mark = mark\n",
    "    \n",
    "    def pass_fail(self):\n",
    "        if self.mark>=40:\n",
    "            print(\"you are pass\")\n",
    "        else:\n",
    "            print(\"you are not passed\")\n",
    "        \n",
    "st = student(30)\n"
   ]
  },
  {
   "cell_type": "code",
   "execution_count": null,
   "metadata": {},
   "outputs": [],
   "source": [
    "st.pass_fail()"
   ]
  },
  {
   "cell_type": "code",
   "execution_count": null,
   "metadata": {},
   "outputs": [],
   "source": [
    "class student:\n",
    "    def __init__(self,mark):\n",
    "        self.mark = mark\n",
    "    \n",
    "    def pass_fail(self):\n",
    "        if self.mark>=40:\n",
    "            print(\"you are pass\")\n",
    "        else:\n",
    "            print(\"you are not passed\")\n",
    "\n",
    "math_mark = int(input(\"enter your mathematics mark:\"))            \n",
    "st = student(math_mark)\n",
    "st.pass_fail()\n"
   ]
  },
  {
   "cell_type": "code",
   "execution_count": null,
   "metadata": {},
   "outputs": [],
   "source": [
    "class emp:\n",
    "    \n",
    "    def __init__(self):\n",
    "        self.num  = 20\n",
    "        self.num1 = 30\n",
    "        \n",
    "e = emp()\n",
    "print(e.num)"
   ]
  },
  {
   "cell_type": "code",
   "execution_count": null,
   "metadata": {},
   "outputs": [],
   "source": [
    "class emp:\n",
    "    \n",
    "    def __init__(self,num,num1):\n",
    "        self.n  = num\n",
    "        self.n1 = num1\n",
    "        \n",
    "e = emp(20,30)\n",
    "print(e.n1)"
   ]
  },
  {
   "cell_type": "code",
   "execution_count": null,
   "metadata": {},
   "outputs": [],
   "source": []
  },
  {
   "cell_type": "code",
   "execution_count": null,
   "metadata": {},
   "outputs": [],
   "source": []
  },
  {
   "cell_type": "code",
   "execution_count": null,
   "metadata": {},
   "outputs": [],
   "source": []
  },
  {
   "cell_type": "code",
   "execution_count": null,
   "metadata": {},
   "outputs": [],
   "source": []
  },
  {
   "cell_type": "code",
   "execution_count": null,
   "metadata": {},
   "outputs": [],
   "source": [
    "class person:\n",
    "    \n",
    "    def __init__(self,age):\n",
    "        self.age = age\n",
    "        \n",
    "    def voting(self):\n",
    "        if self.age>18:\n",
    "            print(\"person is eligible\")\n",
    "        else:\n",
    "            print(\"person is not eligible\")\n",
    "\n",
    "p = person(20)   "
   ]
  },
  {
   "cell_type": "code",
   "execution_count": null,
   "metadata": {},
   "outputs": [],
   "source": [
    "p.voting()"
   ]
  },
  {
   "cell_type": "markdown",
   "metadata": {},
   "source": [
    "# User input"
   ]
  },
  {
   "cell_type": "code",
   "execution_count": null,
   "metadata": {},
   "outputs": [],
   "source": [
    "class person:\n",
    "    \n",
    "    def __init__(self,age):\n",
    "        self.age = age\n",
    "        \n",
    "    def voting(self):\n",
    "        if self.age>=18:\n",
    "            print(\"person is eligible\")\n",
    "        else:\n",
    "            print(\"person is not eligible\")                  \n",
    "age1 = int(input(\"Enter your age:\"))\n",
    "p = person(age1)\n",
    "\n",
    "p.voting()"
   ]
  },
  {
   "cell_type": "markdown",
   "metadata": {},
   "source": [
    "# OR"
   ]
  },
  {
   "cell_type": "code",
   "execution_count": null,
   "metadata": {},
   "outputs": [],
   "source": [
    "class person:\n",
    "    \n",
    "    def __init__(self,age):\n",
    "        self.age = age\n",
    "        \n",
    "    def voting(self):\n",
    "        if self.age>18:\n",
    "            print(\"person is eligible\")\n",
    "        else:\n",
    "            if self.age == 18:\n",
    "                print(\"person is eligible bcz age is 18\")\n",
    "            else:\n",
    "                print(\"person is not eligible\")                  \n",
    "age1 = int(input(\"Enter your age:\"))\n",
    "p = person(age1)\n",
    "\n",
    "p.voting()"
   ]
  },
  {
   "cell_type": "code",
   "execution_count": null,
   "metadata": {},
   "outputs": [],
   "source": []
  },
  {
   "cell_type": "code",
   "execution_count": null,
   "metadata": {},
   "outputs": [],
   "source": [
    "class person:\n",
    "    \n",
    "    def __init__(self,age,*name):\n",
    "        self.age = age\n",
    "        self.name = name\n",
    "    def voting(self):\n",
    "        if self.age>18:\n",
    "            print(self.name,\"is eligible\")\n",
    "        else:\n",
    "            if self.age == 18:\n",
    "                print(self.name,\" eligible bcz age is 18\")\n",
    "            else:\n",
    "                print(self.name,\" not eligible\")                  \n",
    "age1 = int(input(\"Enter your age:\"))\n",
    "name1 = input(\"enter your name\")\n",
    "name2 = input(\"enter your name\")\n",
    "name3 = input(\"enter your name\")\n",
    "p = person(age1,name1,name2,name3)\n",
    "\n",
    "p.voting()"
   ]
  },
  {
   "cell_type": "code",
   "execution_count": 11,
   "metadata": {},
   "outputs": [
    {
     "name": "stdout",
     "output_type": "stream",
     "text": [
      "Hello, how are you doing?\n",
      "I am John\n",
      "I am John\n"
     ]
    }
   ],
   "source": [
    "class Person:\n",
    "    def set_details(self,name,age):\n",
    "        self.name = name\n",
    "        self.age = age\n",
    "        \n",
    "    def display(self):\n",
    "        print('I am',self.name)\n",
    "        #print(\"Done\")\n",
    "         \n",
    "    def greet(self):\n",
    "        if self.age < 80:\n",
    "            print('Hello, how are you doing?')\n",
    "        else:\n",
    "            print('Hello, How do you do ?')\n",
    "        self.display() # call function within a function\n",
    "        \n",
    "    def get_old(self):\n",
    "        self.age = 75\n",
    "\n",
    "        \n",
    "p1 = Person()\n",
    "#p2 = Person()\n",
    "\n",
    "p1.set_details('John',20)\n",
    "#p2.set_details('Jack',90)\n",
    "\n",
    "p1.greet()\n",
    "# p2.greet()\n",
    "\n",
    "# p1.get_old()\n",
    "# print(p1.age)"
   ]
  },
  {
   "cell_type": "code",
   "execution_count": 27,
   "metadata": {},
   "outputs": [
    {
     "name": "stdout",
     "output_type": "stream",
     "text": [
      "Prepare to stop\n"
     ]
    }
   ],
   "source": [
    "class TrafficLight:\n",
    "    '''This is an updated traffic light class'''\n",
    "    def __init__(self, color):\n",
    "        self.color = color\n",
    "\n",
    "    def action(self):\n",
    "        if self.color=='red':\n",
    "            print('Stop & wait')\n",
    "        elif self.color=='yellow':\n",
    "            print('Prepare to stop')\n",
    "        elif self.color=='green':\n",
    "            print('Go')\n",
    "        else:\n",
    "            print('Stop drinking 😉')\n",
    "\n",
    "yellow = TrafficLight('yellow')\n",
    "yellow.action()"
   ]
  },
  {
   "cell_type": "markdown",
   "metadata": {},
   "source": [
    "# Class and Instance Variables\n",
    "\n",
    "The difference between class and instance variables is where their values were assigned in a class definition, which also determines the scope of the variables.\n",
    "\n",
    "Class variables: assigned in the class declaration but outside any method definition (including the class constructor). They are related to all object instances of that class.\n",
    "\n",
    "\n",
    "Instance variables: assigned inside a class method or constructor definition. They are unique to each object instance of that class.\n"
   ]
  },
  {
   "cell_type": "code",
   "execution_count": null,
   "metadata": {},
   "outputs": [],
   "source": [
    "class TrafficLight:\n",
    "    '''This is an updated traffic light class'''\n",
    "\n",
    "    # Class variable\n",
    "    traffic_light_address = 'NYC_Cranberry_Hicks'\n",
    "\n",
    "    def __init__(self, color):\n",
    "\n",
    "        # Instance variable assigned inside the class constructor\n",
    "        self.color = color\n",
    "\n",
    "    def action(self):\n",
    "        if self.color=='red':\n",
    "\n",
    "            # Instance variable assigned inside a class method\n",
    "            self.next_color = 'yellow'\n",
    "            print('Stop & wait')\n",
    "        elif self.color=='yellow':\n",
    "            self.next_color = 'green'\n",
    "            print('Prepare to stop')\n",
    "        elif self.color=='green':\n",
    "            self.next_color = 'red'\n",
    "            print('Go')\n",
    "        else:\n",
    "            self.next_color = 'Brandy'\n",
    "            print('Stop drinking 😉')\n",
    "\n",
    "# Creating class objects\n",
    "for c in ['red', 'yellow', 'green', 'fuchsia']:\n",
    "    c = TrafficLight(c)\n",
    "    print(c.traffic_light_address)\n",
    "    print(c.color)\n",
    "    c.action()\n",
    "    print(c.next_color)\n",
    "    print('\\n')"
   ]
  },
  {
   "cell_type": "markdown",
   "metadata": {},
   "source": [
    "# create a class\n",
    "\n",
    "reference\n",
    ">https://vegibit.com/python-class-examples/\n",
    "\n",
    ">https://www.softwaretestinghelp.com/python-classes-and-objects/ to explore class concept"
   ]
  },
  {
   "cell_type": "code",
   "execution_count": null,
   "metadata": {},
   "outputs": [],
   "source": []
  },
  {
   "cell_type": "code",
   "execution_count": 2,
   "metadata": {},
   "outputs": [],
   "source": [
    "class Vehicle:\n",
    "    def __init__(self, brand, model, type):\n",
    "        self.brand = brand\n",
    "        self.model = model\n",
    "        self.type = type\n",
    "        self.gas_tank_size = 14\n",
    "        self.fuel_level = 0\n",
    "\n",
    "    def fuel_up(self):\n",
    "        self.fuel_level = self.gas_tank_size\n",
    "        print('Gas tank is now full.')\n",
    "\n",
    "    def drive(self):\n",
    "        print(f'The {self.model} is now driving.')\n"
   ]
  },
  {
   "cell_type": "markdown",
   "metadata": {},
   "source": [
    "# Constructing an object\n",
    "\n",
    "An instance of a class is called an object. It’s created by calling the class itself as if it were a function. The code below passes in three python strings to create a new vehicle object."
   ]
  },
  {
   "cell_type": "code",
   "execution_count": 3,
   "metadata": {},
   "outputs": [],
   "source": [
    "vehicle_object = Vehicle('Honda', 'Ridgeline', 'Truck')"
   ]
  },
  {
   "cell_type": "markdown",
   "metadata": {},
   "source": [
    "# Accessing attribute values"
   ]
  },
  {
   "cell_type": "code",
   "execution_count": 4,
   "metadata": {},
   "outputs": [
    {
     "name": "stdout",
     "output_type": "stream",
     "text": [
      "Honda\n",
      "Ridgeline\n",
      "Truck\n"
     ]
    }
   ],
   "source": [
    "print(vehicle_object.brand)\n",
    "print(vehicle_object.model)\n",
    "print(vehicle_object.type)\n"
   ]
  },
  {
   "cell_type": "markdown",
   "metadata": {},
   "source": [
    "# Calling methods"
   ]
  },
  {
   "cell_type": "code",
   "execution_count": 5,
   "metadata": {},
   "outputs": [
    {
     "name": "stdout",
     "output_type": "stream",
     "text": [
      "Gas tank is now full.\n",
      "The Ridgeline is now driving.\n"
     ]
    }
   ],
   "source": [
    "vehicle_object.fuel_up()\n",
    "vehicle_object.drive()\n"
   ]
  },
  {
   "cell_type": "markdown",
   "metadata": {},
   "source": [
    "# Creating multiple objects"
   ]
  },
  {
   "cell_type": "code",
   "execution_count": 6,
   "metadata": {},
   "outputs": [],
   "source": [
    "vehicle_object = Vehicle('Honda', 'Ridgeline', 'Truck')\n",
    "a_subaru = Vehicle('Subaru', 'Forester', 'Crossover')\n",
    "an_suv = Vehicle('Ford', 'Explorer', 'SUV')\n"
   ]
  },
  {
   "cell_type": "code",
   "execution_count": 7,
   "metadata": {},
   "outputs": [
    {
     "data": {
      "text/plain": [
       "<__main__.Vehicle at 0x7fbe582457b8>"
      ]
     },
     "execution_count": 7,
     "metadata": {},
     "output_type": "execute_result"
    }
   ],
   "source": [
    "an_suv"
   ]
  },
  {
   "cell_type": "markdown",
   "metadata": {},
   "source": [
    "# Modifying attribute values\n",
    "\n",
    "It is possible to update an attribute value directly, or better yet via methods that can get and set attribute values."
   ]
  },
  {
   "cell_type": "code",
   "execution_count": 8,
   "metadata": {},
   "outputs": [],
   "source": [
    "cool_new_vehicle = Vehicle('Honda', 'Ridgeline', 'Truck')\n",
    "cool_new_vehicle.fuel_level = 7"
   ]
  },
  {
   "cell_type": "code",
   "execution_count": 10,
   "metadata": {},
   "outputs": [
    {
     "name": "stdout",
     "output_type": "stream",
     "text": [
      "Gas tank is now full.\n"
     ]
    }
   ],
   "source": [
    "cool_new_vehicle.fuel_up()"
   ]
  },
  {
   "cell_type": "code",
   "execution_count": null,
   "metadata": {},
   "outputs": [],
   "source": []
  },
  {
   "cell_type": "markdown",
   "metadata": {},
   "source": [
    "# Define a method to update an attribute’s value"
   ]
  },
  {
   "cell_type": "code",
   "execution_count": 11,
   "metadata": {},
   "outputs": [],
   "source": [
    "class Vehicle:\n",
    "    def __init__(self, brand, model, type):\n",
    "        self.brand = brand\n",
    "        self.model = model\n",
    "        self.type = type\n",
    "        self.gas_tank_size = 14\n",
    "        self.fuel_level = 0\n",
    "\n",
    "    def fuel_up(self):\n",
    "        self.fuel_level = self.gas_tank_size\n",
    "        print('Gas tank is now full.')\n",
    "\n",
    "    def drive(self):\n",
    "        print(f'The {self.model} is now driving.')\n",
    "\n",
    "    def update_fuel_level(self, new_level):\n",
    "        if new_level <= self.gas_tank_size:\n",
    "            self.fuel_level = new_level\n",
    "        else:\n",
    "            print('Exceeded capacity')\n"
   ]
  },
  {
   "cell_type": "code",
   "execution_count": 17,
   "metadata": {},
   "outputs": [],
   "source": [
    "V = Vehicle('Honda', 'Ridgeline', 'Tempo')\n",
    "#cool_new_vehicle.fuel_level = 7"
   ]
  },
  {
   "cell_type": "code",
   "execution_count": 26,
   "metadata": {},
   "outputs": [
    {
     "name": "stdout",
     "output_type": "stream",
     "text": [
      "14\n"
     ]
    }
   ],
   "source": [
    "V.update_fuel_level(14)\n",
    "print(V.fuel_level)"
   ]
  },
  {
   "cell_type": "markdown",
   "metadata": {},
   "source": [
    "# Define a method to increment an attribute’s value"
   ]
  },
  {
   "cell_type": "code",
   "execution_count": null,
   "metadata": {},
   "outputs": [],
   "source": [
    "class Vehicle:\n",
    "    def __init__(self, brand, model, type):\n",
    "        self.brand = brand\n",
    "        self.model = model\n",
    "        self.type = type\n",
    "        self.gas_tank_size = 14\n",
    "        self.fuel_level = 0\n",
    "\n",
    "    def fuel_up(self):\n",
    "        self.fuel_level = self.gas_tank_size\n",
    "        print('Gas tank is now full.')\n",
    "\n",
    "    def drive(self):\n",
    "        print(f'The {self.model} is now driving.')\n",
    "\n",
    "    def update_fuel_level(self, new_level):\n",
    "        if new_level <= self.gas_tank_size:\n",
    "            self.fuel_level = new_level\n",
    "        else:\n",
    "            print('Exceeded capacity')\n",
    "\n",
    "    def get_gas(self, amount):\n",
    "        if (self.fuel_level + amount <= self.gas_tank_size):\n",
    "            self.fuel_level += amount\n",
    "            print('Added fuel.')\n",
    "        else:\n",
    "            print('The tank wont hold that much.')"
   ]
  },
  {
   "cell_type": "code",
   "execution_count": null,
   "metadata": {},
   "outputs": [],
   "source": []
  },
  {
   "cell_type": "code",
   "execution_count": null,
   "metadata": {},
   "outputs": [],
   "source": []
  },
  {
   "cell_type": "markdown",
   "metadata": {},
   "source": [
    "# End Class notebook"
   ]
  },
  {
   "cell_type": "code",
   "execution_count": null,
   "metadata": {},
   "outputs": [],
   "source": []
  },
  {
   "cell_type": "code",
   "execution_count": null,
   "metadata": {},
   "outputs": [],
   "source": []
  },
  {
   "cell_type": "code",
   "execution_count": null,
   "metadata": {},
   "outputs": [],
   "source": []
  },
  {
   "cell_type": "code",
   "execution_count": null,
   "metadata": {},
   "outputs": [],
   "source": []
  },
  {
   "cell_type": "code",
   "execution_count": null,
   "metadata": {},
   "outputs": [],
   "source": []
  },
  {
   "cell_type": "code",
   "execution_count": null,
   "metadata": {},
   "outputs": [],
   "source": []
  },
  {
   "cell_type": "code",
   "execution_count": null,
   "metadata": {},
   "outputs": [],
   "source": []
  },
  {
   "cell_type": "markdown",
   "metadata": {},
   "source": [
    "# Oops Concepts"
   ]
  },
  {
   "cell_type": "markdown",
   "metadata": {},
   "source": [
    "# Inheritance"
   ]
  },
  {
   "cell_type": "code",
   "execution_count": 1,
   "metadata": {},
   "outputs": [
    {
     "name": "stdout",
     "output_type": "stream",
     "text": [
      "GrandPaa you are great\n"
     ]
    }
   ],
   "source": [
    "class ajoba:\n",
    "    \n",
    "    def great_ajoba(self):\n",
    "        print(\"GrandPaa you are great\")\n",
    "    \n",
    "obj = ajoba()\n",
    "\n",
    "obj.great_ajoba()\n",
    "        "
   ]
  },
  {
   "cell_type": "code",
   "execution_count": null,
   "metadata": {},
   "outputs": [],
   "source": []
  },
  {
   "cell_type": "code",
   "execution_count": 10,
   "metadata": {},
   "outputs": [],
   "source": [
    "class home:\n",
    "    \n",
    "    def kitchen(self):\n",
    "        print(\"u r in kitchen\")\n",
    "    \n",
    "    def hall(self):\n",
    "        print(\"u r in hall\")\n",
    "    \n",
    "    def ground(self):\n",
    "        print(\"u r in ground\")\n",
    "    \n",
    "    def bedroom(self):\n",
    "        print(\"u r in bedroom\")\n",
    "        \n",
    "        \n",
    "        \n",
    "class home1:\n",
    "    def terress(self):\n",
    "        print(\"u r on terress\")\n",
    "    \n",
    "    def library(self):\n",
    "        print(\"u r ini library\")\n",
    "        \n",
    "    def temple(self):\n",
    "        print(\"u can have prashad after chanting the strot\")\n",
    "        \n",
    "\n",
    "mk = home()\n",
    "mk1 = home1()"
   ]
  },
  {
   "cell_type": "code",
   "execution_count": null,
   "metadata": {},
   "outputs": [],
   "source": []
  },
  {
   "cell_type": "code",
   "execution_count": 13,
   "metadata": {},
   "outputs": [
    {
     "ename": "AttributeError",
     "evalue": "'home' object has no attribute 'terress'",
     "output_type": "error",
     "traceback": [
      "\u001b[0;31m---------------------------------------------------------------------------\u001b[0m",
      "\u001b[0;31mAttributeError\u001b[0m                            Traceback (most recent call last)",
      "Input \u001b[0;32mIn [13]\u001b[0m, in \u001b[0;36m<cell line: 1>\u001b[0;34m()\u001b[0m\n\u001b[0;32m----> 1\u001b[0m \u001b[43mmk\u001b[49m\u001b[38;5;241;43m.\u001b[39;49m\u001b[43mterress\u001b[49m()\n",
      "\u001b[0;31mAttributeError\u001b[0m: 'home' object has no attribute 'terress'"
     ]
    }
   ],
   "source": [
    "mk.terress()"
   ]
  },
  {
   "cell_type": "code",
   "execution_count": 11,
   "metadata": {},
   "outputs": [
    {
     "name": "stdout",
     "output_type": "stream",
     "text": [
      "u r on terress\n"
     ]
    }
   ],
   "source": [
    "mk1.terress()"
   ]
  },
  {
   "cell_type": "code",
   "execution_count": 12,
   "metadata": {},
   "outputs": [
    {
     "ename": "AttributeError",
     "evalue": "'home1' object has no attribute 'bedroom'",
     "output_type": "error",
     "traceback": [
      "\u001b[0;31m---------------------------------------------------------------------------\u001b[0m",
      "\u001b[0;31mAttributeError\u001b[0m                            Traceback (most recent call last)",
      "Input \u001b[0;32mIn [12]\u001b[0m, in \u001b[0;36m<cell line: 1>\u001b[0;34m()\u001b[0m\n\u001b[0;32m----> 1\u001b[0m \u001b[43mmk1\u001b[49m\u001b[38;5;241;43m.\u001b[39;49m\u001b[43mbedroom\u001b[49m()\n",
      "\u001b[0;31mAttributeError\u001b[0m: 'home1' object has no attribute 'bedroom'"
     ]
    }
   ],
   "source": [
    "mk1.bedroom()"
   ]
  },
  {
   "cell_type": "markdown",
   "metadata": {},
   "source": [
    "# Single inheritance"
   ]
  },
  {
   "cell_type": "code",
   "execution_count": 15,
   "metadata": {},
   "outputs": [],
   "source": [
    "class home:  \n",
    "    def kitchen(self):\n",
    "        print(\"u r in kitchen\")\n",
    "    \n",
    "    def hall(self):\n",
    "        print(\"u r in hall\")\n",
    "    \n",
    "    def ground(self):\n",
    "        print(\"u r in ground\")\n",
    "    \n",
    "    def bedroom(self):\n",
    "        print(\"u r in bedroom\")     \n",
    "        \n",
    "class home1(home):\n",
    "    def terress(self):\n",
    "        print(\"u r on terress\")\n",
    "    \n",
    "    def library(self):\n",
    "        print(\"u r ini library\")\n",
    "        \n",
    "    def temple(self):\n",
    "        print(\"u can have prashad after chanting the strot\")\n",
    "        \n",
    "\n",
    "mk = home()\n",
    "mk1 = home1()"
   ]
  },
  {
   "cell_type": "code",
   "execution_count": 16,
   "metadata": {},
   "outputs": [
    {
     "name": "stdout",
     "output_type": "stream",
     "text": [
      "u r in bedroom\n"
     ]
    }
   ],
   "source": [
    "mk1.bedroom()"
   ]
  },
  {
   "cell_type": "code",
   "execution_count": null,
   "metadata": {},
   "outputs": [],
   "source": []
  },
  {
   "cell_type": "code",
   "execution_count": null,
   "metadata": {},
   "outputs": [],
   "source": []
  },
  {
   "cell_type": "code",
   "execution_count": 6,
   "metadata": {},
   "outputs": [
    {
     "name": "stdout",
     "output_type": "stream",
     "text": [
      "u r in kitchen\n"
     ]
    }
   ],
   "source": [
    "mk.kitchen()"
   ]
  },
  {
   "cell_type": "code",
   "execution_count": 7,
   "metadata": {},
   "outputs": [
    {
     "name": "stdout",
     "output_type": "stream",
     "text": [
      "u r in hall\n"
     ]
    }
   ],
   "source": [
    "mk.hall()"
   ]
  },
  {
   "cell_type": "markdown",
   "metadata": {},
   "source": [
    "# Multiple inheritance"
   ]
  },
  {
   "cell_type": "code",
   "execution_count": 18,
   "metadata": {},
   "outputs": [],
   "source": [
    "class home:  \n",
    "    def kitchen(self):\n",
    "        print(\"u r in kitchen\")\n",
    "    \n",
    "    def hall(self):\n",
    "        print(\"u r in hall\")\n",
    "    \n",
    "    def ground(self):\n",
    "        print(\"u r in ground\")\n",
    "    \n",
    "    def bedroom(self):\n",
    "        print(\"u r in bedroom\")     \n",
    "        \n",
    "class home1:\n",
    "    def terress(self):\n",
    "        print(\"u r on terress\")\n",
    "    \n",
    "    def library(self):\n",
    "        print(\"u r ini library\")\n",
    "        \n",
    "    def temple(self):\n",
    "        print(\"u can have prashad after chanting the strot\")\n",
    "        \n",
    "        \n",
    "class home2(home,home1):\n",
    "    def loby(self):\n",
    "        print('u r in loby')\n",
    "        \n",
    "    def meeting_room(self):\n",
    "        print(\"please ready for meeting because we all r in meeting room\")\n",
    "        \n",
    "    def study_room(self):\n",
    "        print(\"u need to remember a part of our life in none other than study room\")\n",
    "        \n",
    "    def garden(self):\n",
    "        print(\"u r in garden\")\n",
    "        \n",
    "    def living_room(self):\n",
    "        print(\"u r in living room\")\n",
    "\n",
    "mk = home()\n",
    "mk1 = home1()\n",
    "\n",
    "mk2 = home2()"
   ]
  },
  {
   "cell_type": "code",
   "execution_count": 20,
   "metadata": {},
   "outputs": [
    {
     "name": "stdout",
     "output_type": "stream",
     "text": [
      "u r in ground\n"
     ]
    }
   ],
   "source": [
    "mk2.ground()"
   ]
  },
  {
   "cell_type": "code",
   "execution_count": 21,
   "metadata": {},
   "outputs": [
    {
     "name": "stdout",
     "output_type": "stream",
     "text": [
      "u r ini library\n"
     ]
    }
   ],
   "source": [
    "mk2.library()"
   ]
  },
  {
   "cell_type": "code",
   "execution_count": 22,
   "metadata": {},
   "outputs": [
    {
     "name": "stdout",
     "output_type": "stream",
     "text": [
      "u r in living room\n"
     ]
    }
   ],
   "source": [
    "mk2.living_room()"
   ]
  },
  {
   "cell_type": "markdown",
   "metadata": {},
   "source": [
    "# Multilevel inheritance"
   ]
  },
  {
   "cell_type": "code",
   "execution_count": 23,
   "metadata": {},
   "outputs": [],
   "source": [
    "class home:  \n",
    "    def kitchen(self):\n",
    "        print(\"u r in kitchen\")\n",
    "    \n",
    "    def hall(self):\n",
    "        print(\"u r in hall\")\n",
    "    \n",
    "    def ground(self):\n",
    "        print(\"u r in ground\")\n",
    "    \n",
    "    def bedroom(self):\n",
    "        print(\"u r in bedroom\")     \n",
    "        \n",
    "class home1(home):\n",
    "    def terress(self):\n",
    "        print(\"u r on terress\")\n",
    "    \n",
    "    def library(self):\n",
    "        print(\"u r ini library\")\n",
    "        \n",
    "    def temple(self):\n",
    "        print(\"u can have prashad after chanting the strot\")\n",
    "        \n",
    "        \n",
    "class home2(home1):\n",
    "    def loby(self):\n",
    "        print('u r in loby')\n",
    "        \n",
    "    def meeting_room(self):\n",
    "        print(\"please ready for meeting because we all r in meeting room\")\n",
    "        \n",
    "    def study_room(self):\n",
    "        print(\"u need to remember a part of our life in none other than study room\")\n",
    "        \n",
    "    def garden(self):\n",
    "        print(\"u r in garden\")\n",
    "        \n",
    "    def living_room(self):\n",
    "        print(\"u r in living room\")\n",
    "\n",
    "\n",
    "mk1 = home1()\n",
    "mk2 = home2()"
   ]
  },
  {
   "cell_type": "code",
   "execution_count": 27,
   "metadata": {},
   "outputs": [
    {
     "name": "stdout",
     "output_type": "stream",
     "text": [
      "u can have prashad after chanting the strot\n"
     ]
    }
   ],
   "source": [
    "mk1.temple()"
   ]
  },
  {
   "cell_type": "code",
   "execution_count": 29,
   "metadata": {},
   "outputs": [
    {
     "name": "stdout",
     "output_type": "stream",
     "text": [
      "u r on terress\n"
     ]
    }
   ],
   "source": [
    "mk2.terress()"
   ]
  },
  {
   "cell_type": "code",
   "execution_count": 30,
   "metadata": {},
   "outputs": [
    {
     "name": "stdout",
     "output_type": "stream",
     "text": [
      "u r in bedroom\n"
     ]
    }
   ],
   "source": [
    "mk2.bedroom()"
   ]
  },
  {
   "cell_type": "markdown",
   "metadata": {},
   "source": [
    "# Hierarchical inheritance"
   ]
  },
  {
   "cell_type": "code",
   "execution_count": null,
   "metadata": {},
   "outputs": [],
   "source": [
    "class home:  \n",
    "    def kitchen(self):\n",
    "        print(\"u r in kitchen\")\n",
    "    \n",
    "    def hall(self):\n",
    "        print(\"u r in hall\")\n",
    "    \n",
    "    def ground(self):\n",
    "        print(\"u r in ground\")\n",
    "    \n",
    "    def bedroom(self):\n",
    "        print(\"u r in bedroom\")     \n",
    "        \n",
    "class home1(home):\n",
    "    def terress(self):\n",
    "        print(\"u r on terress\")\n",
    "    \n",
    "    def library(self):\n",
    "        print(\"u r ini library\")\n",
    "        \n",
    "    def temple(self):\n",
    "        print(\"u can have prashad after chanting the strot\")\n",
    "        \n",
    "        \n",
    "class home2(home):\n",
    "    def loby(self):\n",
    "        print('u r in loby')\n",
    "        \n",
    "    def meeting_room(self):\n",
    "        print(\"please ready for meeting because we all r in meeting room\")\n",
    "        \n",
    "    def study_room(self):\n",
    "        print(\"u need to remember a part of our life in none other than study room\")\n",
    "        \n",
    "    def garden(self):\n",
    "        print(\"u r in garden\")\n",
    "        \n",
    "    def living_room(self):\n",
    "        print(\"u r in living room\")\n",
    "\n",
    "\n",
    "mk1 = home1()\n",
    "mk2 = home2()"
   ]
  },
  {
   "cell_type": "code",
   "execution_count": 31,
   "metadata": {},
   "outputs": [
    {
     "name": "stdout",
     "output_type": "stream",
     "text": [
      "u r in bedroom\n"
     ]
    }
   ],
   "source": [
    "mk1.bedroom()"
   ]
  },
  {
   "cell_type": "code",
   "execution_count": 32,
   "metadata": {},
   "outputs": [
    {
     "name": "stdout",
     "output_type": "stream",
     "text": [
      "u r in bedroom\n"
     ]
    }
   ],
   "source": [
    "mk2.bedroom()"
   ]
  },
  {
   "cell_type": "markdown",
   "metadata": {},
   "source": [
    "# Hybrid inheritance"
   ]
  },
  {
   "cell_type": "code",
   "execution_count": null,
   "metadata": {},
   "outputs": [],
   "source": [
    "class home1:  \n",
    "    def kitchen(self):\n",
    "        print(\"u r in kitchen\")\n",
    "    \n",
    "    def hall(self):\n",
    "        print(\"u r in hall\")\n",
    "    \n",
    "    def ground(self):\n",
    "        print(\"u r in ground\")\n",
    "    \n",
    "    def bedroom(self):\n",
    "        print(\"u r in bedroom\")     \n",
    "        \n",
    "class home2(home1):\n",
    "    def terress(self):\n",
    "        print(\"u r on terress\")\n",
    "    \n",
    "    def library(self):\n",
    "        print(\"u r ini library\")\n",
    "        \n",
    "    def temple(self):\n",
    "        print(\"u can have prashad after chanting the strot\")\n",
    "        \n",
    "        \n",
    "class home3(home2):\n",
    "    def loby(self):\n",
    "        print('u r in loby')\n",
    "        \n",
    "    def meeting_room(self):\n",
    "        print(\"please ready for meeting because we all r in meeting room\")\n",
    "        \n",
    "    def study_room(self):\n",
    "        print(\"u need to remember a part of our life in none other than study room\")\n",
    "        \n",
    "    def garden(self):\n",
    "        print(\"u r in garden\")\n",
    "        \n",
    "    def living_room(self):\n",
    "        print(\"u r in living room\")\n",
    "        \n",
    "class home4(home1,home3,home2):\n",
    "    def Store_room():\n",
    "        print(\"please dump useless thoughts\")\n",
    "\n",
    "\n",
    "mk1 = home1()\n",
    "mk2 = home2()\n",
    "\n",
    "mk4 = home4()"
   ]
  },
  {
   "cell_type": "code",
   "execution_count": null,
   "metadata": {},
   "outputs": [],
   "source": []
  },
  {
   "cell_type": "code",
   "execution_count": null,
   "metadata": {},
   "outputs": [],
   "source": []
  },
  {
   "cell_type": "code",
   "execution_count": null,
   "metadata": {},
   "outputs": [],
   "source": []
  },
  {
   "cell_type": "code",
   "execution_count": null,
   "metadata": {},
   "outputs": [],
   "source": []
  },
  {
   "cell_type": "code",
   "execution_count": null,
   "metadata": {},
   "outputs": [],
   "source": []
  },
  {
   "cell_type": "code",
   "execution_count": 2,
   "metadata": {},
   "outputs": [
    {
     "name": "stdout",
     "output_type": "stream",
     "text": [
      "GrandPaa you are great\n"
     ]
    }
   ],
   "source": [
    "class ajoba:\n",
    "    \n",
    "    def great_ajoba(self):\n",
    "        print(\"GrandPaa you are great\")\n",
    "        \n",
    "class parent:\n",
    "    \n",
    "    def great_father(self):\n",
    "        print(\"Pappa you are geate person, i ever seen\")\n",
    "\n",
    "        \n",
    "\n",
    "aj = ajoba() \n",
    "aj.great_ajoba()\n",
    "\n"
   ]
  },
  {
   "cell_type": "code",
   "execution_count": 3,
   "metadata": {},
   "outputs": [
    {
     "name": "stdout",
     "output_type": "stream",
     "text": [
      "Pappa you are geate person, i ever seen\n"
     ]
    }
   ],
   "source": [
    "class ajoba:\n",
    "    \n",
    "    def great_ajoba(self):\n",
    "        print(\"GrandPaa you are great\")\n",
    "        \n",
    "class parent:\n",
    "    \n",
    "    def great_father(self):\n",
    "        print(\"Pappa you are geate person, i ever seen\")\n",
    "\n",
    "        \n",
    "\n",
    "# aj = ajoba() \n",
    "# aj.great_ajoba()\n",
    "\n",
    "\n",
    "p = parent()\n",
    "p.great_father()"
   ]
  },
  {
   "cell_type": "code",
   "execution_count": 4,
   "metadata": {},
   "outputs": [
    {
     "name": "stdout",
     "output_type": "stream",
     "text": [
      "GrandPaa you are great\n",
      "Pappa you are geate person, i ever seen\n"
     ]
    }
   ],
   "source": [
    "class ajoba:\n",
    "    \n",
    "    def great_ajoba(self):\n",
    "        print(\"GrandPaa you are great\")\n",
    "        \n",
    "class parent:\n",
    "    \n",
    "    def great_father(self):\n",
    "        print(\"Pappa you are geate person, i ever seen\")\n",
    "\n",
    "        \n",
    "\n",
    "aj = ajoba() \n",
    "aj.great_ajoba()\n",
    "\n",
    "\n",
    "p = parent()\n",
    "p.great_father()"
   ]
  },
  {
   "cell_type": "code",
   "execution_count": 8,
   "metadata": {},
   "outputs": [
    {
     "name": "stdout",
     "output_type": "stream",
     "text": [
      "Pappa you are geate person, i ever seen\n"
     ]
    },
    {
     "ename": "AttributeError",
     "evalue": "'parent' object has no attribute 'great_ajoba'",
     "output_type": "error",
     "traceback": [
      "\u001b[0;31m---------------------------------------------------------------------------\u001b[0m",
      "\u001b[0;31mAttributeError\u001b[0m                            Traceback (most recent call last)",
      "Input \u001b[0;32mIn [8]\u001b[0m, in \u001b[0;36m<cell line: 21>\u001b[0;34m()\u001b[0m\n\u001b[1;32m     17\u001b[0m p \u001b[38;5;241m=\u001b[39m parent()\n\u001b[1;32m     18\u001b[0m p\u001b[38;5;241m.\u001b[39mgreat_father()\n\u001b[0;32m---> 21\u001b[0m \u001b[43mp\u001b[49m\u001b[38;5;241;43m.\u001b[39;49m\u001b[43mgreat_ajoba\u001b[49m()\n",
      "\u001b[0;31mAttributeError\u001b[0m: 'parent' object has no attribute 'great_ajoba'"
     ]
    }
   ],
   "source": [
    "class ajoba:\n",
    "    \n",
    "    def great_ajoba(self):\n",
    "        print(\"GrandPaa you are great\")\n",
    "        \n",
    "class parent:\n",
    "    \n",
    "    def great_father(self):\n",
    "        print(\"Pappa you are geate person, i ever seen\")\n",
    "\n",
    "        \n",
    "\n",
    "# aj = ajoba() \n",
    "# aj.great_ajoba()\n",
    "\n",
    "\n",
    "p = parent()\n",
    "p.great_father()\n",
    "\n",
    "\n",
    "p.great_ajoba()"
   ]
  },
  {
   "cell_type": "code",
   "execution_count": 11,
   "metadata": {},
   "outputs": [
    {
     "name": "stdout",
     "output_type": "stream",
     "text": [
      "Pappa you are geate person, i ever seen\n",
      "GrandPaa you are great\n"
     ]
    }
   ],
   "source": [
    "class ajoba:\n",
    "    \n",
    "    def great_ajoba(self):\n",
    "        print(\"GrandPaa you are great\")\n",
    "        \n",
    "class parent(ajoba):\n",
    "    \n",
    "    def great_father(self):\n",
    "        print(\"Pappa you are geate person, i ever seen\")\n",
    "\n",
    "        \n",
    "\n",
    "# aj = ajoba() \n",
    "# aj.great_ajoba()\n",
    "\n",
    "\n",
    "p = parent()\n",
    "p.great_father()\n",
    "\n",
    "\n",
    "p.great_ajoba()"
   ]
  },
  {
   "cell_type": "code",
   "execution_count": 14,
   "metadata": {},
   "outputs": [
    {
     "name": "stdout",
     "output_type": "stream",
     "text": [
      "GrandPaa you are great\n",
      "Grandpa has a a good personality \n"
     ]
    }
   ],
   "source": [
    "class ajoba:\n",
    "    \n",
    "    def great_ajoba(self):\n",
    "        print(\"GrandPaa you are great\")\n",
    "        \n",
    "    def great_personality(self):\n",
    "        print(\"Grandpa has a a good personality \")\n",
    "        \n",
    "class parent(ajoba):\n",
    "    \n",
    "    def great_father(self):\n",
    "        print(\"Pappa you are geate person, i ever seen\")\n",
    "\n",
    "        \n",
    "\n",
    "# aj = ajoba() \n",
    "# aj.great_ajoba()\n",
    "\n",
    "\n",
    "p = parent()\n",
    "#p.great_father()\n",
    "\n",
    "\n",
    "p.great_ajoba()\n",
    "p.great_personality()"
   ]
  },
  {
   "cell_type": "code",
   "execution_count": null,
   "metadata": {},
   "outputs": [],
   "source": []
  },
  {
   "cell_type": "code",
   "execution_count": null,
   "metadata": {},
   "outputs": [],
   "source": []
  },
  {
   "cell_type": "code",
   "execution_count": 19,
   "metadata": {},
   "outputs": [
    {
     "name": "stdout",
     "output_type": "stream",
     "text": [
      "Looking good child\n",
      "GrandPaa you are great\n",
      "GrandPaa you are great\n"
     ]
    }
   ],
   "source": [
    "class ajoba:\n",
    "    \n",
    "    def great_ajoba(self):\n",
    "        print(\"GrandPaa you are great\")\n",
    "        \n",
    "    def great_personality(self):\n",
    "        print(\"Grandpa has a a good personality \")\n",
    "        \n",
    "class child1(ajoba):\n",
    "    \n",
    "    def great_father(self):\n",
    "        print(\"Pappa you are geate person, i ever seen\")        \n",
    "\n",
    "        \n",
    "class child2(ajoba):\n",
    "    \n",
    "    def good_child(self):\n",
    "        print(\"Looking good child\")\n",
    "        \n",
    "\n",
    "        \n",
    "ch2 = child2()\n",
    "ch2.good_child()               \n",
    "ch2.great_ajoba()      \n",
    "     \n",
    "    \n",
    "ch1 = child1()\n",
    "ch1.great_ajoba()"
   ]
  },
  {
   "cell_type": "code",
   "execution_count": null,
   "metadata": {},
   "outputs": [],
   "source": []
  },
  {
   "cell_type": "code",
   "execution_count": 25,
   "metadata": {},
   "outputs": [
    {
     "name": "stdout",
     "output_type": "stream",
     "text": [
      "Pappa you are geate person, i ever seen\n",
      "Looking good child\n"
     ]
    }
   ],
   "source": [
    "class A:\n",
    "    \n",
    "    def great_ajoba(self):\n",
    "        print(\"GrandPaa you are great\")\n",
    "        \n",
    "    def great_personality(self):\n",
    "        print(\"Grandpa has a a good personality \")\n",
    "        \n",
    "class B(A):\n",
    "    \n",
    "    def great_father(self):\n",
    "        print(\"Pappa you are geate person, i ever seen\")        \n",
    "\n",
    "        \n",
    "class C(A):\n",
    "    \n",
    "    def good_child(self):\n",
    "        print(\"Looking good child\")\n",
    "        \n",
    "\n",
    "        \n",
    "class D(B,C):\n",
    "    \n",
    "    def d_method(self):\n",
    "        print(\"Looking good child\")\n",
    "        \n",
    "        \n",
    "        \n",
    "d = D()\n",
    "d.great_father()\n",
    "\n",
    "d.good_child()"
   ]
  },
  {
   "cell_type": "code",
   "execution_count": null,
   "metadata": {},
   "outputs": [],
   "source": []
  },
  {
   "cell_type": "code",
   "execution_count": null,
   "metadata": {},
   "outputs": [],
   "source": []
  },
  {
   "cell_type": "code",
   "execution_count": 27,
   "metadata": {},
   "outputs": [
    {
     "name": "stdout",
     "output_type": "stream",
     "text": [
      "Pappa you are geate person, i ever seen\n",
      "Looking good child\n"
     ]
    }
   ],
   "source": [
    "class A:\n",
    "    \n",
    "    def great_ajoba(self):\n",
    "        print(\"GrandPaa you are great\")\n",
    "        \n",
    "    def great_personality(self):\n",
    "        print(\"Grandpa has a a good personality \")\n",
    "        \n",
    "class B:\n",
    "    \n",
    "    def great_father(self):\n",
    "        print(\"Pappa you are geate person, i ever seen\")  \n",
    "        \n",
    "class C:\n",
    "    \n",
    "    def good_child(self):\n",
    "        print(\"Looking good child\")\n",
    "        \n",
    "class D(B,C):\n",
    "    \n",
    "    def d_method(self):\n",
    "        print(\"Looking good child\")\n",
    "        \n",
    "d  = D()\n",
    "\n",
    "d.great_father()\n",
    "\n",
    "d.good_child()"
   ]
  },
  {
   "cell_type": "code",
   "execution_count": null,
   "metadata": {},
   "outputs": [],
   "source": []
  },
  {
   "cell_type": "code",
   "execution_count": null,
   "metadata": {},
   "outputs": [],
   "source": []
  },
  {
   "cell_type": "code",
   "execution_count": 28,
   "metadata": {},
   "outputs": [
    {
     "name": "stdout",
     "output_type": "stream",
     "text": [
      "GrandPaa you are great\n"
     ]
    }
   ],
   "source": [
    "class A:\n",
    "    \n",
    "    def great_ajoba(self):\n",
    "        print(\"GrandPaa you are great\")\n",
    "        \n",
    "    def great_personality(self):\n",
    "        print(\"Grandpa has a a good personality \")\n",
    "        \n",
    "class B(A):\n",
    "    \n",
    "    def great_father(self):\n",
    "        print(\"Pappa you are geate person, i ever seen\")  \n",
    "        \n",
    "class C:\n",
    "    \n",
    "    def good_child(self):\n",
    "        print(\"Looking good child\")\n",
    "        \n",
    "b = B()\n",
    "b.great_ajoba()"
   ]
  },
  {
   "cell_type": "code",
   "execution_count": 29,
   "metadata": {},
   "outputs": [
    {
     "name": "stdout",
     "output_type": "stream",
     "text": [
      "Grandpa has a a good personality \n"
     ]
    }
   ],
   "source": [
    "b.great_personality()"
   ]
  },
  {
   "cell_type": "code",
   "execution_count": 30,
   "metadata": {},
   "outputs": [
    {
     "name": "stdout",
     "output_type": "stream",
     "text": [
      "Pappa you are geate person, i ever seen\n"
     ]
    }
   ],
   "source": [
    "class A:\n",
    "    \n",
    "    def great_ajoba(self):\n",
    "        print(\"GrandPaa you are great\")\n",
    "        \n",
    "    def great_personality(self):\n",
    "        print(\"Grandpa has a a good personality \")\n",
    "        \n",
    "class B:\n",
    "    \n",
    "    def great_father(self):\n",
    "        print(\"Pappa you are geate person, i ever seen\")  \n",
    "        \n",
    "class C(B):\n",
    "    \n",
    "    def good_child(self):\n",
    "        print(\"Looking good child\")\n",
    "        \n",
    "# b = B()\n",
    "# b.great_ajoba()\n",
    "\n",
    "c =C()\n",
    "c.great_father()"
   ]
  },
  {
   "cell_type": "code",
   "execution_count": null,
   "metadata": {},
   "outputs": [],
   "source": []
  },
  {
   "cell_type": "code",
   "execution_count": null,
   "metadata": {},
   "outputs": [],
   "source": []
  },
  {
   "cell_type": "code",
   "execution_count": 31,
   "metadata": {},
   "outputs": [
    {
     "name": "stdout",
     "output_type": "stream",
     "text": [
      "GrandPaa you are great\n",
      "Pappa you are geate person, i ever seen\n"
     ]
    }
   ],
   "source": [
    "class A:\n",
    "    \n",
    "    def great_ajoba(self):\n",
    "        print(\"GrandPaa you are great\")\n",
    "        \n",
    "    def great_personality(self):\n",
    "        print(\"Grandpa has a a good personality \")\n",
    "        \n",
    "class B:\n",
    "    \n",
    "    def great_father(self):\n",
    "        print(\"Pappa you are geate person, i ever seen\")  \n",
    "        \n",
    "class C(A,B):\n",
    "    \n",
    "    def good_child(self):\n",
    "        print(\"Looking good child\")\n",
    "        \n",
    "c = C()\n",
    "\n",
    "c.great_ajoba()\n",
    "\n",
    "c.great_father()"
   ]
  },
  {
   "cell_type": "code",
   "execution_count": null,
   "metadata": {},
   "outputs": [],
   "source": []
  },
  {
   "cell_type": "markdown",
   "metadata": {},
   "source": [
    "# hybrid"
   ]
  },
  {
   "cell_type": "code",
   "execution_count": 33,
   "metadata": {},
   "outputs": [
    {
     "name": "stdout",
     "output_type": "stream",
     "text": [
      "GrandPaa you are great\n",
      "Grandpa has a a good personality \n"
     ]
    }
   ],
   "source": [
    "class A:\n",
    "    \n",
    "    def great_ajoba(self):\n",
    "        print(\"GrandPaa you are great\")\n",
    "        \n",
    "    def great_personality(self):\n",
    "        print(\"Grandpa has a a good personality \")\n",
    "        \n",
    "class B(A):\n",
    "    \n",
    "    def great_father(self):\n",
    "        print(\"Pappa you are geate person, i ever seen\") \n",
    "        \n",
    "class C(A):\n",
    "    \n",
    "    def good_child(self):\n",
    "        print(\"Looking good child\")\n",
    "        \n",
    "class D(A):\n",
    "    \n",
    "    def D_method(self):\n",
    "        print(\"D methos looks great\")\n",
    "        \n",
    "\n",
    "b = B()# object of class B\n",
    "b.great_ajoba()\n",
    "b.great_personality()"
   ]
  },
  {
   "cell_type": "code",
   "execution_count": 35,
   "metadata": {},
   "outputs": [
    {
     "name": "stdout",
     "output_type": "stream",
     "text": [
      "GrandPaa you are great\n",
      "Grandpa has a a good personality \n"
     ]
    }
   ],
   "source": [
    "c = C()\n",
    "c.great_ajoba()\n",
    "c.great_personality()"
   ]
  },
  {
   "cell_type": "code",
   "execution_count": 36,
   "metadata": {},
   "outputs": [
    {
     "name": "stdout",
     "output_type": "stream",
     "text": [
      "GrandPaa you are great\n",
      "Grandpa has a a good personality \n"
     ]
    }
   ],
   "source": [
    "d = D()\n",
    "\n",
    "d.great_ajoba()\n",
    "d.great_personality()"
   ]
  },
  {
   "cell_type": "code",
   "execution_count": null,
   "metadata": {},
   "outputs": [],
   "source": []
  },
  {
   "cell_type": "code",
   "execution_count": null,
   "metadata": {},
   "outputs": [],
   "source": []
  },
  {
   "cell_type": "code",
   "execution_count": 37,
   "metadata": {},
   "outputs": [],
   "source": [
    "class A:\n",
    "    \n",
    "    def great_ajoba(self):\n",
    "        print(\"GrandPaa you are great\")\n",
    "        \n",
    "    def great_personality(self):\n",
    "        print(\"Grandpa has a a good personality \")\n",
    "        \n",
    "class B(A):\n",
    "    \n",
    "    def great_father(self):\n",
    "        print(\"Pappa you are geate person, i ever seen\")  \n",
    "        \n",
    "class C(B):\n",
    "    \n",
    "    def good_child(self):\n",
    "        print(\"Looking good child\")\n",
    "        \n",
    "        \n",
    "class D(A,C):\n",
    "    \n",
    "    def D_method(self):\n",
    "        print(\"D methos looks great\")"
   ]
  },
  {
   "cell_type": "code",
   "execution_count": null,
   "metadata": {},
   "outputs": [],
   "source": []
  }
 ],
 "metadata": {
  "kernelspec": {
   "display_name": "Python 3",
   "language": "python",
   "name": "python3"
  },
  "language_info": {
   "codemirror_mode": {
    "name": "ipython",
    "version": 3
   },
   "file_extension": ".py",
   "mimetype": "text/x-python",
   "name": "python",
   "nbconvert_exporter": "python",
   "pygments_lexer": "ipython3",
   "version": "3.7.0"
  }
 },
 "nbformat": 4,
 "nbformat_minor": 5
}
