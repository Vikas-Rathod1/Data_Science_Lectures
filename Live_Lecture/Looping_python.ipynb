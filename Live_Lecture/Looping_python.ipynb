{
 "cells": [
  {
   "cell_type": "code",
   "execution_count": null,
   "metadata": {
    "id": "1IC_Cz-Oe4aU"
   },
   "outputs": [],
   "source": [
    "lst = [10,2.8,34,5,\"Nick\",\"Priyanka\",\"Jonus\"]\n",
    "tup = (\"Mango\",\"Appple\",\"Nick\",\"Priyanka\",\"Jonus\")"
   ]
  },
  {
   "cell_type": "code",
   "execution_count": null,
   "metadata": {
    "id": "ctBHF3G5gf9E"
   },
   "outputs": [],
   "source": [
    "# Syntax\n",
    "\n",
    "for var_name in \"sequence\":\n",
    "    pass"
   ]
  },
  {
   "cell_type": "code",
   "execution_count": null,
   "metadata": {
    "colab": {
     "base_uri": "https://localhost:8080/"
    },
    "id": "Q223I6Q3hGFN",
    "outputId": "0f3dd6dd-34a3-4da5-b388-0f275588713f"
   },
   "outputs": [
    {
     "name": "stdout",
     "output_type": "stream",
     "text": [
      "u r in for loop 10\n",
      "u r in for loop 2.8\n",
      "u r in for loop Pratik\n"
     ]
    }
   ],
   "source": [
    "lst = [10,2.8,\"Pratik\"]\n",
    "for h in lst:\n",
    "    print(\"u r in for loop\",h)"
   ]
  },
  {
   "cell_type": "code",
   "execution_count": null,
   "metadata": {
    "colab": {
     "base_uri": "https://localhost:8080/"
    },
    "id": "dpBy6_K2inv8",
    "outputId": "af2491c1-0c8a-4b0b-af2a-e102229db317"
   },
   "outputs": [
    {
     "name": "stdout",
     "output_type": "stream",
     "text": [
      "u r in for loop 10\n",
      "u r in for loop 2.8\n",
      "u r in for loop Pratik\n"
     ]
    }
   ],
   "source": [
    "lst = (10,2.8,\"Pratik\")\n",
    "for h in lst:\n",
    "    print(\"u r in for loop\",h)"
   ]
  },
  {
   "cell_type": "code",
   "execution_count": null,
   "metadata": {
    "colab": {
     "base_uri": "https://localhost:8080/"
    },
    "id": "zHgn-MLtjaJn",
    "outputId": "726eeafb-04a0-4532-eb0e-a3d3890f5d7c"
   },
   "outputs": [
    {
     "name": "stdout",
     "output_type": "stream",
     "text": [
      "W e l c o m e ----\n"
     ]
    }
   ],
   "source": [
    "str = \"Welcome\"\n",
    "for i in str:\n",
    "    print(i,end = \" \")\n",
    "print(\"----\")"
   ]
  },
  {
   "cell_type": "code",
   "execution_count": null,
   "metadata": {
    "colab": {
     "base_uri": "https://localhost:8080/"
    },
    "id": "boIsbE8Bjutu",
    "outputId": "5f1f65c6-ae9a-433b-d5d4-3c556a517a1f"
   },
   "outputs": [
    {
     "name": "stdout",
     "output_type": "stream",
     "text": [
      "W-e-l-c-o-m-e-\n",
      "End of the for loop\n"
     ]
    }
   ],
   "source": [
    "str = \"Welcome\"\n",
    "for i in str:\n",
    "    print(i,end = \"-\")\n",
    "else:\n",
    "    print(\"\\nEnd of the for loop\")"
   ]
  },
  {
   "cell_type": "code",
   "execution_count": null,
   "metadata": {
    "colab": {
     "base_uri": "https://localhost:8080/"
    },
    "id": "3YrgV56TlDEe",
    "outputId": "0e024287-3d69-42d4-8b56-5567c34a8942"
   },
   "outputs": [
    {
     "name": "stdout",
     "output_type": "stream",
     "text": [
      "Mango, Appple, Nick, Priyanka, Jonus, \n",
      "End of the for loop\n"
     ]
    }
   ],
   "source": [
    "tup = (\"Mango\",\"Appple\",\"Nick\",\"Priyanka\",\"Jonus\")\n",
    "for i in tup:\n",
    "    print(i,end = \", \")\n",
    "else:\n",
    "    print(\"\\nEnd of the for loop\")"
   ]
  },
  {
   "cell_type": "code",
   "execution_count": null,
   "metadata": {
    "colab": {
     "base_uri": "https://localhost:8080/"
    },
    "id": "xs1Kb3cImY_o",
    "outputId": "49e165ca-68c0-45f8-c20c-cc8d04181ce9"
   },
   "outputs": [
    {
     "name": "stdout",
     "output_type": "stream",
     "text": [
      "Present sir\n",
      "End of the for loop\n"
     ]
    }
   ],
   "source": [
    "tup = (\"Ketan\",\"Pratik\",\"Sahil\",\"Abhishek\",\"Pratiksha\",\n",
    "       \"Harshada K\",\"Harshada Kr\",\"Harshada shinde\")\n",
    "for i in tup:\n",
    "    #print(i)\n",
    "    if i==\"Sahil\":\n",
    "        print(\"Present sir\")\n",
    "else:\n",
    "    print(\"End of the for loop\")\n"
   ]
  },
  {
   "cell_type": "code",
   "execution_count": null,
   "metadata": {
    "colab": {
     "base_uri": "https://localhost:8080/"
    },
    "id": "tQXj3o6anrQY",
    "outputId": "15ad5614-319b-4b0b-9c01-bd96b3a1f024"
   },
   "outputs": [
    {
     "name": "stdout",
     "output_type": "stream",
     "text": [
      "[1, 2, 3, 4, 5, 6, 7, 8, 9, 10]\n",
      "[1, 3, 5, 7, 9]\n",
      "[1, 4, 7, 10]\n"
     ]
    }
   ],
   "source": [
    "print(list(range(1,11)))\n",
    "print(list(range(1,11,2)))\n",
    "print(list(range(1,11,3)))"
   ]
  },
  {
   "cell_type": "code",
   "execution_count": null,
   "metadata": {
    "colab": {
     "base_uri": "https://localhost:8080/"
    },
    "id": "Sr2AWIupqazQ",
    "outputId": "657a3fae-cd34-46f1-9983-099b760b3036"
   },
   "outputs": [
    {
     "name": "stdout",
     "output_type": "stream",
     "text": [
      "1\n",
      "2\n",
      "3\n",
      "4\n",
      "5\n"
     ]
    }
   ],
   "source": [
    "print(1)\n",
    "print(2)\n",
    "print(3)\n",
    "print(4)\n",
    "print(5)\n"
   ]
  },
  {
   "cell_type": "code",
   "execution_count": null,
   "metadata": {
    "colab": {
     "base_uri": "https://localhost:8080/"
    },
    "id": "YzL2al_YrBcW",
    "outputId": "05f33549-c4b6-4527-d68b-86072a24421b"
   },
   "outputs": [
    {
     "name": "stdout",
     "output_type": "stream",
     "text": [
      "50\n"
     ]
    }
   ],
   "source": [
    "empt = []\n",
    "for i in range(1,101):\n",
    "    #print(i)\n",
    "    if i%2==0:\n",
    "        #print(i,end = \" \")\n",
    "        empt.append(i)\n",
    "print(len(empt))\n",
    "\n"
   ]
  },
  {
   "cell_type": "code",
   "execution_count": null,
   "metadata": {
    "id": "zp_LlrXKpYUu"
   },
   "outputs": [],
   "source": [
    "# even_sum = 0\n",
    "# odd_sum = 0\n",
    "# even = []\n",
    "# odd = []\n",
    "# for i in range(1,10):\n",
    "#     if i%2==0:\n",
    "#         even.append(i)\n",
    "#         even_sum = even_sum+i\n",
    "#     else:\n",
    "#         odd.append(i)\n",
    "#         odd_sum = odd_sum+i\n",
    "# print(\"Sum of even = >\" ,even_sum)\n",
    "\n",
    "# even.insert(2,100)\n",
    "# print(even)\n",
    "# print(\"Sum of odd = >\",odd_sum)\n",
    "# print(odd)\n",
    "# #print(sum)"
   ]
  },
  {
   "cell_type": "code",
   "execution_count": null,
   "metadata": {
    "colab": {
     "base_uri": "https://localhost:8080/"
    },
    "id": "ceBDev9SV96W",
    "outputId": "3240ab74-1767-4884-cae3-c4110648d0ce"
   },
   "outputs": [
    {
     "name": "stdout",
     "output_type": "stream",
     "text": [
      "not present\n",
      "not present\n",
      "Columbia\n"
     ]
    }
   ],
   "source": [
    "student = {\"Name\":\"RAju\",\"Age\":29,\"Address\":\"Columbia\",\n",
    "           \"Education\":\"PHD\",\"list\":[1,32,5]}\n",
    "for key in student:\n",
    "    #print(key)\n",
    "    if key==\"Address\":\n",
    "        print(student[\"Address\"])\n",
    "        break\n",
    "    else:\n",
    "        print(\"not present\")\n",
    "# print(student[\"list\"])"
   ]
  },
  {
   "cell_type": "code",
   "execution_count": null,
   "metadata": {
    "colab": {
     "base_uri": "https://localhost:8080/"
    },
    "id": "c5BylwKLiybw",
    "outputId": "00f9825c-404b-44f5-b9cb-99414d84e7f2"
   },
   "outputs": [
    {
     "name": "stdout",
     "output_type": "stream",
     "text": [
      "not present\n",
      "not present\n",
      "Columbia\n",
      "not present\n",
      "not present\n"
     ]
    }
   ],
   "source": [
    "student = {\"Name\":\"RAju\",\"Age\":29,\"Address\":\"Columbia\",\n",
    "           \"Education\":\"PHD\",\"list\":[1,32,5]}\n",
    "for key in student:\n",
    "    #print(key)\n",
    "    if key==\"Address\":\n",
    "        print(student[\"Address\"])\n",
    "        continue\n",
    "    else:\n",
    "        print(\"not present\")\n",
    "# print(student[\"list\"])"
   ]
  },
  {
   "cell_type": "code",
   "execution_count": null,
   "metadata": {
    "colab": {
     "base_uri": "https://localhost:8080/"
    },
    "id": "ikTBg4BNnzMx",
    "outputId": "0f6922e4-32aa-4a17-8f96-4e395ecf50f4"
   },
   "outputs": [
    {
     "name": "stdout",
     "output_type": "stream",
     "text": [
      "3\n",
      "4 ---\n"
     ]
    }
   ],
   "source": [
    "for i in range(0,5):#0,1,2,3,4\n",
    "    if i ==3:\n",
    "        print(i)\n",
    "        continue\n",
    "print(i,\"---\")"
   ]
  },
  {
   "cell_type": "code",
   "execution_count": null,
   "metadata": {
    "colab": {
     "base_uri": "https://localhost:8080/"
    },
    "id": "c0sw9vTxorns",
    "outputId": "77a4f7d6-d04c-46c4-86b8-1c58f422c6c4"
   },
   "outputs": [
    {
     "name": "stdout",
     "output_type": "stream",
     "text": [
      "1 2 3 4 W e l c o m e "
     ]
    }
   ],
   "source": [
    "for i in range(1,5):\n",
    "    print(i,end = \" \")\n",
    "for j in \"Welcome\":\n",
    "    print(j,end=\" \")"
   ]
  },
  {
   "cell_type": "code",
   "execution_count": null,
   "metadata": {
    "colab": {
     "base_uri": "https://localhost:8080/"
    },
    "id": "5k9PRUmDqI6m",
    "outputId": "7ae8212b-9562-477f-cd7b-b9bab61d8248"
   },
   "outputs": [
    {
     "name": "stdout",
     "output_type": "stream",
     "text": [
      "outer loop\n",
      "inner loop\n",
      "inner loop\n",
      "inner loop\n",
      "outer loop\n",
      "inner loop\n",
      "inner loop\n",
      "inner loop\n",
      "outer loop\n",
      "inner loop\n",
      "inner loop\n",
      "inner loop\n",
      "outer loop\n",
      "inner loop\n",
      "inner loop\n",
      "inner loop\n",
      "outer loop\n",
      "inner loop\n",
      "inner loop\n",
      "inner loop\n"
     ]
    }
   ],
   "source": [
    "for i in range(0,5):#0,1,2,3\n",
    "    print(\"outer loop\")\n",
    "    for i in range(0,3):\n",
    "        print(\"inner loop\")"
   ]
  },
  {
   "cell_type": "code",
   "execution_count": null,
   "metadata": {
    "colab": {
     "base_uri": "https://localhost:8080/"
    },
    "id": "JiuosRw5q_Gj",
    "outputId": "d7ec5791-1763-480b-db9b-5cd57e90c7f3"
   },
   "outputs": [
    {
     "name": "stdout",
     "output_type": "stream",
     "text": [
      "[1, 2, 3, 4, 5, 6]\n",
      "[2, 43, 32, 4, 54]\n"
     ]
    }
   ],
   "source": [
    "lst = [[1,2,3,4,5,6],[2,43,32,4,54]]\n",
    "for d in lst:\n",
    "    print(d)"
   ]
  },
  {
   "cell_type": "code",
   "execution_count": null,
   "metadata": {
    "colab": {
     "base_uri": "https://localhost:8080/"
    },
    "id": "RBtApuGDs3CA",
    "outputId": "b78ec2ca-7372-420b-fd46-fcff56e2f263"
   },
   "outputs": [
    {
     "name": "stdout",
     "output_type": "stream",
     "text": [
      "[5, 6, 43, 32, 54]\n"
     ]
    }
   ],
   "source": [
    "lst = [[1,2,3,4,5,6],[2,43,32,4,54]]\n",
    "even = []\n",
    "h = 0\n",
    "for d in lst:#l2\n",
    "    for j in d:\n",
    "        #print(j)\n",
    "        if j>4:\n",
    "            even.append(j)\n",
    "        h = h+2\n",
    "            #print(j,end=\" \")\n",
    "print(even)\n",
    "    "
   ]
  },
  {
   "cell_type": "code",
   "execution_count": null,
   "metadata": {
    "colab": {
     "base_uri": "https://localhost:8080/"
    },
    "id": "ssX9c5-ite8R",
    "outputId": "395b5d6c-8c93-4afb-e2fb-8f70ca2c59d6"
   },
   "outputs": [
    {
     "name": "stdout",
     "output_type": "stream",
     "text": [
      "1\n",
      "2\n",
      "3\n",
      "4\n",
      "5\n"
     ]
    }
   ],
   "source": [
    "\n",
    "lis = [1, 2, 3, 4, 5]\n",
    " \n",
    "for i in range(len(lis)):\n",
    "     \n",
    "    print(lis[i])\n",
    "    i += 2"
   ]
  },
  {
   "cell_type": "code",
   "execution_count": null,
   "metadata": {
    "colab": {
     "base_uri": "https://localhost:8080/"
    },
    "id": "_9w_H4D02T7q",
    "outputId": "39042803-eb08-458f-fb73-479f553deb0a"
   },
   "outputs": [
    {
     "name": "stdout",
     "output_type": "stream",
     "text": [
      "1 3 5 "
     ]
    }
   ],
   "source": [
    "\n",
    "# Using for loop\n",
    " \n",
    "lis = [1, 2, 3, 4, 5]\n",
    " \n",
    "i = 0\n",
    " \n",
    "for j in range(len(lis)):\n",
    " \n",
    "    # Terminating condition for i\n",
    "    if(i >= len(lis)):\n",
    "        break\n",
    "     \n",
    "    print(lis[i], end = \" \")   \n",
    "    i += 2"
   ]
  },
  {
   "cell_type": "code",
   "execution_count": null,
   "metadata": {
    "colab": {
     "base_uri": "https://localhost:8080/"
    },
    "id": "uUTxXbO5u45t",
    "outputId": "2cce18d2-aabb-48b8-b27b-bfff9fcf010b"
   },
   "outputs": [
    {
     "name": "stdout",
     "output_type": "stream",
     "text": [
      "0\n",
      "1\n",
      "2\n"
     ]
    }
   ],
   "source": [
    "for i in range(3):\n",
    "    print(i)"
   ]
  },
  {
   "cell_type": "code",
   "execution_count": null,
   "metadata": {
    "colab": {
     "base_uri": "https://localhost:8080/"
    },
    "id": "aUKRRNgR2uea",
    "outputId": "2f15589c-974c-446c-9f8d-772e3aec2495"
   },
   "outputs": [
    {
     "name": "stdout",
     "output_type": "stream",
     "text": [
      "outer loop\n",
      "inner loop\n",
      "inner loop\n",
      "inner loop\n",
      "outer loop\n",
      "inner loop\n",
      "inner loop\n",
      "inner loop\n",
      "outer loop\n",
      "inner loop\n",
      "inner loop\n",
      "inner loop\n"
     ]
    }
   ],
   "source": [
    "for i in range(3):# 0,1,2\n",
    "    print(\"outer loop\")\n",
    "    for j in range(3):# 0,1,2\n",
    "        print(\"inner loop\")\n"
   ]
  },
  {
   "cell_type": "code",
   "execution_count": null,
   "metadata": {
    "colab": {
     "base_uri": "https://localhost:8080/"
    },
    "id": "3CNjl_VoujuC",
    "outputId": "64a0c64d-e264-4ffc-dbc6-84523ab7a1ae"
   },
   "outputs": [
    {
     "name": "stdout",
     "output_type": "stream",
     "text": [
      "10\n",
      "82\n",
      "6.3\n",
      "4\n",
      "50\n"
     ]
    }
   ],
   "source": [
    "for g in [10,82,6.3,4,50]:\n",
    "    print(g)"
   ]
  },
  {
   "cell_type": "code",
   "execution_count": null,
   "metadata": {
    "colab": {
     "base_uri": "https://localhost:8080/"
    },
    "id": "hMif5-Usvs9c",
    "outputId": "cc30c037-20c6-4a99-ae88-b32f6df29475"
   },
   "outputs": [
    {
     "name": "stdout",
     "output_type": "stream",
     "text": [
      "[10, 82, 6.3, 4, 50]\n"
     ]
    }
   ],
   "source": [
    "for g in [[10,82,6.3,4,50]]:\n",
    "    print(g)\n"
   ]
  },
  {
   "cell_type": "code",
   "execution_count": null,
   "metadata": {
    "colab": {
     "base_uri": "https://localhost:8080/"
    },
    "id": "RAyI5eQuwM2d",
    "outputId": "170e577d-ce26-4012-d766-fc8e125f8dd6"
   },
   "outputs": [
    {
     "name": "stdout",
     "output_type": "stream",
     "text": [
      "[10, 82, 6.3, 4, 50]\n",
      "10\n",
      "82\n",
      "6.3\n",
      "4\n",
      "50\n"
     ]
    }
   ],
   "source": [
    "for g in [[10,82,6.3,4,50]]:\n",
    "    print(g)\n",
    "    for j in g:\n",
    "        print(j)"
   ]
  },
  {
   "cell_type": "code",
   "execution_count": null,
   "metadata": {
    "colab": {
     "base_uri": "https://localhost:8080/"
    },
    "id": "2LTM3sE6xJbV",
    "outputId": "31a52aab-ff6b-42e8-8b4f-401eca64933f"
   },
   "outputs": [
    {
     "name": "stdout",
     "output_type": "stream",
     "text": [
      "[10, 82, 6.3, 4, 50]\n",
      "[99, 43, 55]\n"
     ]
    }
   ],
   "source": [
    "for g in [[10,82,6.3,4,50],[99,43,55]]:\n",
    "    print(g)"
   ]
  },
  {
   "cell_type": "code",
   "execution_count": null,
   "metadata": {
    "colab": {
     "base_uri": "https://localhost:8080/"
    },
    "id": "aC2k8xwiyaII",
    "outputId": "23bb2efb-ec69-4f1d-d702-c30270188df9"
   },
   "outputs": [
    {
     "name": "stdout",
     "output_type": "stream",
     "text": [
      ">>>> [10, 82, 6.3, 4, 50]\n",
      "----- 10\n",
      "----- 82\n",
      "----- 6.3\n",
      "----- 4\n",
      "----- 50\n",
      ">>>> [99, 43, 55]\n",
      "----- 99\n",
      "----- 43\n",
      "----- 55\n"
     ]
    }
   ],
   "source": [
    "for g in [[10,82,6.3,4,50],[99,43,55]]:\n",
    "    print('>>>>',g)\n",
    "    for j in g:\n",
    "        print(\"-----\",j)\n"
   ]
  },
  {
   "cell_type": "markdown",
   "metadata": {
    "id": "FPvEgZpM0kRh"
   },
   "source": [
    "## While loop in python"
   ]
  },
  {
   "cell_type": "code",
   "execution_count": null,
   "metadata": {
    "colab": {
     "base_uri": "https://localhost:8080/"
    },
    "id": "m-NbrlpLyqWH",
    "outputId": "c5daa168-4c02-4cb3-e999-022ed7452015"
   },
   "outputs": [
    {
     "name": "stdout",
     "output_type": "stream",
     "text": [
      " \n"
     ]
    }
   ],
   "source": [
    "# syntax\n",
    "\n",
    "# i = 0 # initialization\n",
    "# while \"Condition\":# condition check\n",
    "#     print(\" \") # body of while loop\n",
    "\n",
    "#     i+=1 # Increament of initial value\n",
    "# --> end of while loop\n",
    "    "
   ]
  },
  {
   "cell_type": "code",
   "execution_count": null,
   "metadata": {
    "id": "H7uncHtv1LfP"
   },
   "outputs": [],
   "source": [
    "i = 0\n",
    "while i>5:\n",
    "    print(\"i is greater\")\n",
    "    i+=1\n"
   ]
  },
  {
   "cell_type": "code",
   "execution_count": null,
   "metadata": {
    "colab": {
     "base_uri": "https://localhost:8080/"
    },
    "id": "0YwIiwQw28Uc",
    "outputId": "1d7f6408-57aa-468a-99ce-cc4acfa2c38a"
   },
   "outputs": [
    {
     "name": "stdout",
     "output_type": "stream",
     "text": [
      "i is greater\n",
      "i is greater\n",
      "i is greater\n",
      "i is greater\n",
      "i is greater\n"
     ]
    }
   ],
   "source": [
    "i = 0\n",
    "while i<5:\n",
    "    print(\"i is greater\")\n",
    "    #i+=1\n",
    "    i=i+1\n"
   ]
  },
  {
   "cell_type": "code",
   "execution_count": null,
   "metadata": {
    "colab": {
     "background_save": true,
     "base_uri": "https://localhost:8080/"
    },
    "id": "YvCOg8iv3Jet",
    "outputId": "7c357209-f12b-4108-c00f-ceb899717908"
   },
   "outputs": [
    {
     "name": "stdout",
     "output_type": "stream",
     "text": [
      "i is greater\n",
      "i is greater\n",
      "i is greater\n",
      "i is greater\n",
      "i is greater\n",
      "process end\n"
     ]
    }
   ],
   "source": [
    "i = 0\n",
    "while i<5:\n",
    "    print(\"i is greater\")\n",
    "    #i+=1\n",
    "    i=i+1\n",
    "print(\"process end\")"
   ]
  },
  {
   "cell_type": "code",
   "execution_count": null,
   "metadata": {
    "colab": {
     "background_save": true,
     "base_uri": "https://localhost:8080/"
    },
    "id": "ubwqu4I_4NRF",
    "outputId": "fcbf4129-b96a-4ea1-f28c-7fc3b8bc826c"
   },
   "outputs": [
    {
     "name": "stdout",
     "output_type": "stream",
     "text": [
      "12\n",
      "32\n",
      "453\n",
      "43\n",
      "22\n",
      "44\n"
     ]
    }
   ],
   "source": [
    "lst = [12,32,453,43,22,44]\n",
    "for i in lst:"
   ]
  },
  {
   "cell_type": "code",
   "execution_count": null,
   "metadata": {
    "id": "quzoeWMB-jIS"
   },
   "outputs": [],
   "source": []
  },
  {
   "cell_type": "code",
   "execution_count": null,
   "metadata": {
    "id": "iNIjEsUJmwI9"
   },
   "outputs": [],
   "source": []
  },
  {
   "cell_type": "code",
   "execution_count": null,
   "metadata": {
    "id": "2xytcZLOmwOD"
   },
   "outputs": [],
   "source": []
  },
  {
   "cell_type": "markdown",
   "metadata": {
    "id": "py68fQiqm28H"
   },
   "source": [
    "# Displaying the squares of first 10 natural numbers using a dictionary"
   ]
  },
  {
   "cell_type": "code",
   "execution_count": null,
   "metadata": {
    "colab": {
     "base_uri": "https://localhost:8080/"
    },
    "id": "sXBnDGV9mwP3",
    "outputId": "e5d3641b-c76c-4099-c448-5ed14905c63d"
   },
   "outputs": [
    {
     "name": "stdout",
     "output_type": "stream",
     "text": [
      "the dictionary is :  {1: 1, 2: 4, 3: 9, 4: 16, 5: 25, 6: 36, 7: 49, 8: 64, 9: 81, 10: 100}\n"
     ]
    }
   ],
   "source": [
    "z = {}\n",
    "for i in range(1,11):\n",
    "    z[i] = i**2\n",
    "print(\"the dictionary is : \",z)"
   ]
  },
  {
   "cell_type": "markdown",
   "metadata": {
    "id": "nxHSiJlcnpPP"
   },
   "source": [
    "# store in single list from  50 numbers which are divisible by 3 or 6"
   ]
  },
  {
   "cell_type": "code",
   "execution_count": null,
   "metadata": {
    "colab": {
     "base_uri": "https://localhost:8080/"
    },
    "id": "HZa6pjPzmxx2",
    "outputId": "a995fa6d-65b2-4961-efb8-b5c7107b2bfe"
   },
   "outputs": [
    {
     "name": "stdout",
     "output_type": "stream",
     "text": [
      "The numbers divisible by 3 or 6 in first 50 numbers are:  [3, 6, 9, 12, 15, 18, 21, 24, 27, 30, 33, 36, 39, 42, 45, 48]\n"
     ]
    }
   ],
   "source": [
    "x = []\n",
    "for i in range(1,51):\n",
    "    if i%3==0 or i%6==0:\n",
    "        x.append(i)\n",
    "print(\"The numbers divisible by 3 or 6 in first 50 numbers are: \",x)"
   ]
  },
  {
   "cell_type": "code",
   "execution_count": null,
   "metadata": {
    "id": "fTHZA_HJnmlT"
   },
   "outputs": [],
   "source": []
  },
  {
   "cell_type": "code",
   "execution_count": null,
   "metadata": {
    "id": "79VUmKM3nmob"
   },
   "outputs": [],
   "source": []
  },
  {
   "cell_type": "code",
   "execution_count": null,
   "metadata": {
    "id": "C9ZyIDM3nmqo"
   },
   "outputs": [],
   "source": []
  }
 ],
 "metadata": {
  "colab": {
   "collapsed_sections": [],
   "name": "Looping_python.ipynb",
   "provenance": []
  },
  "kernelspec": {
   "display_name": "Python 3 (ipykernel)",
   "language": "python",
   "name": "python3"
  },
  "language_info": {
   "codemirror_mode": {
    "name": "ipython",
    "version": 3
   },
   "file_extension": ".py",
   "mimetype": "text/x-python",
   "name": "python",
   "nbconvert_exporter": "python",
   "pygments_lexer": "ipython3",
   "version": "3.9.12"
  }
 },
 "nbformat": 4,
 "nbformat_minor": 1
}
