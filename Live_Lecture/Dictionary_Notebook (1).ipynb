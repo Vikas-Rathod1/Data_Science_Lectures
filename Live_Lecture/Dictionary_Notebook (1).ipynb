{
 "cells": [
  {
   "cell_type": "markdown",
   "metadata": {
    "id": "n1BbBAWqtRl9"
   },
   "source": [
    "# Welcome to Python Dictinary World !!!!!!!!\n"
   ]
  },
  {
   "cell_type": "markdown",
   "metadata": {
    "id": "tzBgNCY7tRmQ"
   },
   "source": [
    "# Creating a dictinary in python"
   ]
  },
  {
   "cell_type": "markdown",
   "metadata": {
    "id": "Kb4FK7cetRmT"
   },
   "source": [
    "<font color='#6495ED'>Dictionary can be created by placing a sequence of elements within curly {} braces, separated by 'comma'. \n",
    "\n",
    "Dictionary holds pairs of values, one being the Key and the other corresponding pair element being its Key:value. \n",
    "\n",
    "Values in a dictionary can be of any data type and can be duplicated, whereas keys can't be repeated</font>\n"
   ]
  },
  {
   "cell_type": "code",
   "execution_count": null,
   "metadata": {
    "id": "5QMuPphMtRmX"
   },
   "outputs": [],
   "source": []
  },
  {
   "cell_type": "markdown",
   "metadata": {
    "id": "QtfKRT_UtRmZ"
   },
   "source": [
    "<font color='#6495ED'>Python dictionary is an unordered collection of items. Each item of a dictionary has a (key/value) pair.</font>"
   ]
  },
  {
   "cell_type": "markdown",
   "metadata": {
    "id": "fvhgLkh8tRmc"
   },
   "source": [
    "![dictinary_image.png](attachment:dictinary_image.png)"
   ]
  },
  {
   "cell_type": "code",
   "execution_count": 2,
   "metadata": {
    "id": "L1zKoa9vtRmf",
    "outputId": "34726e5c-a577-48bf-c4a3-8860e0a73794"
   },
   "outputs": [
    {
     "name": "stdout",
     "output_type": "stream",
     "text": [
      "{'John': 'A', 'Emily': 'A+', 'Betty': 'B', 'Mike': 'C', 'Ashley': 'A'}\n"
     ]
    }
   ],
   "source": [
    "Grades_dictinary = {\"John\":\"A\",\"Emily\":\"A+\",\"Betty\":\"B\",\"Mike\":\"C\",\"Ashley\":'A'}\n",
    "print(Grades_dictinary)"
   ]
  },
  {
   "cell_type": "markdown",
   "metadata": {
    "id": "8V_RmQF1tRmm"
   },
   "source": [
    "<font color='#6495ED'>To check Keys of created Dictinary</font>\n"
   ]
  },
  {
   "cell_type": "code",
   "execution_count": 3,
   "metadata": {
    "id": "reSuzKRqtRmp",
    "outputId": "9eb5c9bc-1ee5-4822-d647-a2219a406a51"
   },
   "outputs": [
    {
     "name": "stdout",
     "output_type": "stream",
     "text": [
      "dict_keys(['John', 'Emily', 'Betty', 'Mike', 'Ashley'])\n"
     ]
    }
   ],
   "source": [
    "print(Grades_dictinary.keys())"
   ]
  },
  {
   "cell_type": "markdown",
   "metadata": {
    "id": "zVnKYAVPtRmr"
   },
   "source": [
    "<font color='#6495ED'>To check Values of created Dictinary</font>"
   ]
  },
  {
   "cell_type": "code",
   "execution_count": 4,
   "metadata": {
    "id": "ZhZC1_4ytRms",
    "outputId": "5f4eb8c5-95ce-4013-dcec-c5bbc29d57f3"
   },
   "outputs": [
    {
     "name": "stdout",
     "output_type": "stream",
     "text": [
      "dict_values(['A', 'A+', 'B', 'C', 'A'])\n"
     ]
    }
   ],
   "source": [
    "print(Grades_dictinary.values())"
   ]
  },
  {
   "cell_type": "markdown",
   "metadata": {
    "id": "k1HHWMHStRmt"
   },
   "source": [
    "# Accessing Elements from Dictionary\n",
    "<font color='#6495ED'>While accessing the value from other data structure we used indexing, but in a  dictionary we uses keys to extract the values. \n",
    "\n",
    "Keys can be used either inside square brackets [] or with the get() method.\n",
    "\n",
    "If we use the square brackets [], KeyError is raised in case a key is not found in the dictionary. On the other hand, the get() method returns None if the key is not found.</font>"
   ]
  },
  {
   "cell_type": "code",
   "execution_count": 11,
   "metadata": {
    "id": "I_RDB6DHtRmu",
    "outputId": "ea3df0db-bcda-4f15-9b75-4fe2fa99713b"
   },
   "outputs": [
    {
     "name": "stdout",
     "output_type": "stream",
     "text": [
      "Phd\n"
     ]
    }
   ],
   "source": [
    "# get vs [] for retrieving elements\n",
    "my_dict = {'name': 'Nitin', 'age': 206,\"Education\":\"Phd\"}\n",
    "\n",
    "#print(my_dict['name'])\n",
    "print(my_dict['Education'])"
   ]
  },
  {
   "cell_type": "code",
   "execution_count": null,
   "metadata": {
    "id": "sDQvtNbJtRmv",
    "outputId": "b1c565d7-a1b4-4692-b388-043fbbdc1888"
   },
   "outputs": [
    {
     "name": "stdout",
     "output_type": "stream",
     "text": [
      "206\n"
     ]
    }
   ],
   "source": [
    "print(my_dict.get('age'))\n"
   ]
  },
  {
   "cell_type": "markdown",
   "metadata": {
    "id": "vnV3KY5htRmv"
   },
   "source": [
    "You can use get method to access value from a dictinary"
   ]
  },
  {
   "cell_type": "code",
   "execution_count": 13,
   "metadata": {
    "id": "m_dTySDrtRmw",
    "outputId": "7578dea2-6cbd-459e-d3bc-9500a293a495"
   },
   "outputs": [
    {
     "name": "stdout",
     "output_type": "stream",
     "text": [
      "Phd\n"
     ]
    }
   ],
   "source": [
    "print(my_dict.get('Education'))"
   ]
  },
  {
   "cell_type": "code",
   "execution_count": null,
   "metadata": {
    "id": "ed1fNaB1tRmw",
    "outputId": "bedb0ffa-d3a1-4c2b-8347-8afa8c5f1e26"
   },
   "outputs": [
    {
     "ename": "KeyError",
     "evalue": "'address'",
     "output_type": "error",
     "traceback": [
      "\u001b[1;31m---------------------------------------------------------------------------\u001b[0m",
      "\u001b[1;31mKeyError\u001b[0m                                  Traceback (most recent call last)",
      "\u001b[1;32m<ipython-input-15-2503a361ec19>\u001b[0m in \u001b[0;36m<module>\u001b[1;34m\u001b[0m\n\u001b[0;32m      1\u001b[0m \u001b[1;31m# KeyError\u001b[0m\u001b[1;33m\u001b[0m\u001b[1;33m\u001b[0m\u001b[1;33m\u001b[0m\u001b[0m\n\u001b[0;32m      2\u001b[0m \u001b[1;31m# If you are Trying to access keys which doesn't exist in dictinary throws error\u001b[0m\u001b[1;33m\u001b[0m\u001b[1;33m\u001b[0m\u001b[1;33m\u001b[0m\u001b[0m\n\u001b[1;32m----> 3\u001b[1;33m \u001b[0mprint\u001b[0m\u001b[1;33m(\u001b[0m\u001b[0mmy_dict\u001b[0m\u001b[1;33m[\u001b[0m\u001b[1;34m'address'\u001b[0m\u001b[1;33m]\u001b[0m\u001b[1;33m)\u001b[0m\u001b[1;33m\u001b[0m\u001b[1;33m\u001b[0m\u001b[0m\n\u001b[0m",
      "\u001b[1;31mKeyError\u001b[0m: 'address'"
     ]
    }
   ],
   "source": [
    "# KeyError   ----- the below key is not present in dictinary. thats why it will show you an error.\n",
    "# If you are Trying to access keys which doesn't exist in dictinary throws error\n",
    "print(my_dict['address'])"
   ]
  },
  {
   "cell_type": "markdown",
   "metadata": {
    "id": "k3Fg9kL-tRmx"
   },
   "source": [
    "# How to Change and Add Dictionary elements\n",
    "<font color='#6495ED'>Dictionaries are mutable. We can add new items or change the value of existing items using an assignment operator.\n",
    "\n",
    "If the key is already present, then the existing value gets updated. In case the key is not present, a new (key: value) pair is added to the dictionary.</font>"
   ]
  },
  {
   "cell_type": "code",
   "execution_count": null,
   "metadata": {
    "id": "j34feKJatRmy",
    "outputId": "550ec072-c83a-4f3b-f428-0d4c9937a5ba"
   },
   "outputs": [
    {
     "name": "stdout",
     "output_type": "stream",
     "text": [
      "{'Name': 'Jangleee', 'Age': 29, 'salary': 25000, 'Company': 'Goolge', 'Experience': 'Two Year'}\n"
     ]
    }
   ],
   "source": [
    "# Changing and adding Dictionary Elements\n",
    "Employee = {\"Name\": \"Jangleee\", \"Age\": 29, \"salary\":25000,\"Company\":\"Goolge\",\"Experience\":\"Two Year\"}   \n",
    "print(Employee)"
   ]
  },
  {
   "cell_type": "code",
   "execution_count": null,
   "metadata": {
    "id": "VnvjAkyqtRmz",
    "outputId": "60ed019e-9465-4cac-eba4-f15d57a2f42c"
   },
   "outputs": [
    {
     "name": "stdout",
     "output_type": "stream",
     "text": [
      "Jangleee\n"
     ]
    }
   ],
   "source": [
    "print(Employee[\"Name\"])"
   ]
  },
  {
   "cell_type": "markdown",
   "metadata": {
    "id": "zFKNggLMtRm0"
   },
   "source": [
    "\\n is used for New Line"
   ]
  },
  {
   "cell_type": "code",
   "execution_count": null,
   "metadata": {
    "id": "-Eu34q_mtRm0",
    "outputId": "69fbdaa7-30f4-407d-eab2-49a88ac6e6a4"
   },
   "outputs": [
    {
     "name": "stdout",
     "output_type": "stream",
     "text": [
      "Name of the Emp: 29 \n",
      "Salry of the emp: 25000\n"
     ]
    }
   ],
   "source": [
    "print(\"Name of the Emp:\",Employee[\"Age\"],\"\\nSalry of the emp:\",Employee[\"salary\"])"
   ]
  },
  {
   "cell_type": "markdown",
   "metadata": {
    "id": "7mvl49qztRm1"
   },
   "source": [
    "If you want to update the \"value\" of key \"Name\".then"
   ]
  },
  {
   "cell_type": "code",
   "execution_count": null,
   "metadata": {
    "id": "Gd_1bNmhtRm1",
    "outputId": "c5b9c362-6980-4758-e354-3b50ea14017a"
   },
   "outputs": [
    {
     "name": "stdout",
     "output_type": "stream",
     "text": [
      "{'Name': 'Sundar Pichai', 'Age': 29, 'salary': 25000, 'Company': 'Goolge', 'Experience': 'Two Year'}\n"
     ]
    }
   ],
   "source": [
    "Employee[\"Name\"] = \"Sundar Pichai\"\n",
    "print(Employee)"
   ]
  },
  {
   "cell_type": "markdown",
   "metadata": {
    "id": "Z6PyMVYEtRm2"
   },
   "source": [
    "If you want to update the \"value\" of key \"Salary\".then"
   ]
  },
  {
   "cell_type": "code",
   "execution_count": null,
   "metadata": {
    "id": "b-GY70JQtRm2",
    "outputId": "29dd4fcf-6c39-48d9-ea1a-2d651ef5d18c"
   },
   "outputs": [
    {
     "name": "stdout",
     "output_type": "stream",
     "text": [
      "{'Name': 'Sundar Pichai', 'Age': 29, 'salary': 25000000000000000000000, 'Company': 'Goolge', 'Experience': 'Two Year'}\n"
     ]
    }
   ],
   "source": [
    "Employee[\"salary\"] = 25000000000000000000000\n",
    "print(Employee)"
   ]
  },
  {
   "cell_type": "code",
   "execution_count": null,
   "metadata": {
    "id": "bKpIxqKHtRm3"
   },
   "outputs": [],
   "source": []
  },
  {
   "cell_type": "code",
   "execution_count": null,
   "metadata": {
    "id": "F4fQ-XweJPn0"
   },
   "outputs": [],
   "source": [
    "# Example 1: Creating a dictionary\n",
    "student = {\"name\": \"John\", \"age\": 20, \"grade\": \"A\"}\n",
    "print(student)\n",
    "\n",
    "# Example 2: Accessing values\n",
    "print(student[\"name\"])  # Output: John\n",
    "\n",
    "# Example 3: Modifying a dictionary\n",
    "student[\"age\"] = 21\n",
    "print(student)\n",
    "\n",
    "# Example 4: Adding new key-value pair\n",
    "student[\"city\"] = \"New York\"\n",
    "print(student)\n",
    "\n",
    "# Example 5: Removing a key-value pair\n",
    "del student[\"grade\"]\n",
    "print(student)\n",
    "\n",
    "# Example 6: Looping through a dictionary\n",
    "for key, value in student.items():\n",
    "    print(key, \":\", value)\n",
    "\n",
    "# Example 7: Checking if key exists\n",
    "print(\"age\" in student)  # Output: True\n",
    "\n",
    "# Example 8: Dictionary with mixed data types\n",
    "info = {\"name\": \"Alice\", \"marks\": [85, 90, 95]}\n",
    "print(info[\"marks\"][1])  # Output: 90\n",
    "\n",
    "# Example 9: Merging two dictionaries\n",
    "dict1 = {\"a\": 1, \"b\": 2}\n",
    "dict2 = {\"c\": 3, \"d\": 4}\n",
    "dict1.update(dict2)\n",
    "print(dict1)\n",
    "\n",
    "# Example 10: Dictionary comprehension\n",
    "squares = {x: x**2 for x in range(5)}\n",
    "print(squares)\n"
   ]
  },
  {
   "cell_type": "code",
   "execution_count": null,
   "metadata": {
    "id": "h8Ipnnu2JPrD"
   },
   "outputs": [],
   "source": []
  },
  {
   "cell_type": "code",
   "execution_count": null,
   "metadata": {
    "colab": {
     "base_uri": "https://localhost:8080/"
    },
    "id": "MBQRP8frJPuQ",
    "outputId": "34f3bcfd-cbc5-4b2e-fd6a-36c1c22b68de"
   },
   "outputs": [
    {
     "name": "stdout",
     "output_type": "stream",
     "text": [
      "price of  apple is Rupees  50\n",
      "price of  mango is Rupees  25\n",
      "price of  banana is Rupees  30\n",
      "price of  tomato is Rupees  40\n",
      "The total price to be paid is Rupees  145\n"
     ]
    }
   ],
   "source": [
    "# making a food bill for all the items in a dictionary\n",
    "price = {\"apple\": 50, \"mango\": 25, \"banana\": 30, \"tomato\": 40}\n",
    "sum = 0\n",
    "for i,j in price.items():\n",
    "    print(\"price of \" ,i, \"is Rupees \",j)\n",
    "    sum += int(j)\n",
    "print(\"The total price to be paid is Rupees \",sum)"
   ]
  },
  {
   "cell_type": "code",
   "execution_count": null,
   "metadata": {
    "id": "UcZUL6XLJPxO"
   },
   "outputs": [],
   "source": []
  },
  {
   "cell_type": "code",
   "execution_count": null,
   "metadata": {
    "id": "nCouCv19JP0X"
   },
   "outputs": [],
   "source": []
  }
 ],
 "metadata": {
  "colab": {
   "name": "Dictionary_Notebook.ipynb",
   "provenance": []
  },
  "kernelspec": {
   "display_name": "Python 3 (ipykernel)",
   "language": "python",
   "name": "python3"
  },
  "language_info": {
   "codemirror_mode": {
    "name": "ipython",
    "version": 3
   },
   "file_extension": ".py",
   "mimetype": "text/x-python",
   "name": "python",
   "nbconvert_exporter": "python",
   "pygments_lexer": "ipython3",
   "version": "3.10.12"
  }
 },
 "nbformat": 4,
 "nbformat_minor": 1
}
