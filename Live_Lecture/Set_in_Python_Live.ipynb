{
  "cells": [
    {
      "cell_type": "code",
      "execution_count": null,
      "metadata": {
        "id": "VcIS520xCVG2"
      },
      "outputs": [],
      "source": []
    },
    {
      "cell_type": "code",
      "execution_count": 16,
      "metadata": {
        "colab": {
          "base_uri": "https://localhost:8080/"
        },
        "id": "gYXTYceUd3eU",
        "outputId": "b4582ddd-2e6c-4f01-fb02-276e2d5534df"
      },
      "outputs": [
        {
          "name": "stdout",
          "output_type": "stream",
          "text": [
            "Set output: {'amol', 38, 'gladson', 73, 10, 43, 'sanket', 'priynka', 'poonam', 52, 86, 55, 54.9, 'dattu', 'abhishek', 'manish'}\n",
            "<class 'dict'>\n"
          ]
        }
      ],
      "source": [
        "st = {10,52,73,43,55,86,38,54.9,73,\"dattu\",\"manish\",\"amol\",\"amol\",\"sanket\",\"abhishek\",\"priynka\",\"poonam\",\"gladson\"}\n",
        "print(\"Set output:\",st)\n",
        "\n",
        "\n",
        "st1 = {} # empty set\n",
        "print(type(st1))"
      ]
    },
    {
      "cell_type": "code",
      "execution_count": 15,
      "metadata": {
        "colab": {
          "base_uri": "https://localhost:8080/"
        },
        "id": "dmUeNY4eE-FS",
        "outputId": "c489b10e-72d5-4f43-fbe9-f4fd57fa2795"
      },
      "outputs": [
        {
          "name": "stdout",
          "output_type": "stream",
          "text": [
            "List output: [1, 2, 3, 4, 3, 2, 1, 3, 2, 4, 2]\n",
            "Set output: {1, 2, 3, 4}\n"
          ]
        }
      ],
      "source": [
        "lst = [1,2,3,4,3,2,1,3,2,4,2]\n",
        "print(\"List output:\",lst)\n",
        "\n",
        "st11 = {1,2,3,4,3,2,1,3,2,4,2}\n",
        "print(\"Set output:\",st11)"
      ]
    },
    {
      "cell_type": "code",
      "execution_count": 23,
      "metadata": {
        "colab": {
          "base_uri": "https://localhost:8080/"
        },
        "id": "-UW91zOrHF79",
        "outputId": "ed1d1d6c-d703-4096-f9af-2b78b11c2fe4"
      },
      "outputs": [
        {
          "name": "stdout",
          "output_type": "stream",
          "text": [
            "{33, 11, 22}\n"
          ]
        }
      ],
      "source": [
        "\n",
        "my_set = {11, 22, 33}\n",
        "print(my_set)"
      ]
    },
    {
      "cell_type": "code",
      "execution_count": 25,
      "metadata": {
        "colab": {
          "base_uri": "https://localhost:8080/"
        },
        "id": "AS_aJL0KIA6i",
        "outputId": "e3005aa0-d058-4321-e700-2263793c2297"
      },
      "outputs": [
        {
          "name": "stdout",
          "output_type": "stream",
          "text": [
            "amol\n",
            "38\n",
            "gladson\n",
            "73\n",
            "10\n",
            "43\n",
            "sanket\n",
            "priynka\n",
            "poonam\n",
            "52\n",
            "86\n",
            "55\n",
            "54.9\n",
            "dattu\n",
            "abhishek\n",
            "manish\n"
          ]
        }
      ],
      "source": [
        "st = {10,52,73,43,55,86,38,54.9,73,\"dattu\",\"manish\",\"amol\",\"amol\",\"sanket\",\"abhishek\",\"priynka\",\"poonam\",\"gladson\"}\n",
        "# for i in st:\n",
        "#   print(i)"
      ]
    },
    {
      "cell_type": "code",
      "execution_count": 26,
      "metadata": {
        "colab": {
          "base_uri": "https://localhost:8080/"
        },
        "id": "UARcwVd-I0Mv",
        "outputId": "250bcb27-88f7-493e-f449-35f5225b1dd3"
      },
      "outputs": [
        {
          "name": "stdout",
          "output_type": "stream",
          "text": [
            "{3, 5, 42, 12, 434, 23}\n"
          ]
        }
      ],
      "source": [
        "st111 = {1,2,42323}\n",
        "\n",
        "stg = set([12,3,42,3,5,23,23,434])\n",
        "print(stg)"
      ]
    },
    {
      "cell_type": "code",
      "execution_count": 28,
      "metadata": {
        "colab": {
          "base_uri": "https://localhost:8080/"
        },
        "id": "_-bKWe6qPGrV",
        "outputId": "5f30b791-6ba4-47c8-8319-2ddec24a4f9d"
      },
      "outputs": [
        {
          "name": "stdout",
          "output_type": "stream",
          "text": [
            "{'amol', 38, 'gladson', 73, 10, 43, 'sanket', 'priynka', 'poonam', 52, 86, 55, 54.9, 'dattu', 'abhishek', 'manish'}\n"
          ]
        }
      ],
      "source": [
        "st = {10,52,73,43,55,86,38,54.9,73,\"dattu\",\"manish\",\"amol\",\"amol\",\"sanket\",\"abhishek\",\"priynka\",\"poonam\",\"gladson\"}\n",
        "print(st)"
      ]
    },
    {
      "cell_type": "code",
      "execution_count": 29,
      "metadata": {
        "id": "mFAGtLmYPGt6"
      },
      "outputs": [],
      "source": [
        "st.add(2000)"
      ]
    },
    {
      "cell_type": "code",
      "execution_count": 30,
      "metadata": {
        "colab": {
          "base_uri": "https://localhost:8080/"
        },
        "id": "dpyHuqE1PGwN",
        "outputId": "2d76e452-587f-405f-a358-fc5b3d12065f"
      },
      "outputs": [
        {
          "name": "stdout",
          "output_type": "stream",
          "text": [
            "{'amol', 38, 'gladson', 73, 10, 43, 'sanket', 'priynka', 2000, 'poonam', 52, 86, 55, 54.9, 'dattu', 'abhishek', 'manish'}\n"
          ]
        }
      ],
      "source": [
        "print(st)"
      ]
    },
    {
      "cell_type": "code",
      "execution_count": 31,
      "metadata": {
        "id": "Rbx3DkM_PGyw"
      },
      "outputs": [],
      "source": [
        "st.discard(2000)"
      ]
    },
    {
      "cell_type": "code",
      "execution_count": 32,
      "metadata": {
        "colab": {
          "base_uri": "https://localhost:8080/"
        },
        "id": "q9JkNKPsPKzj",
        "outputId": "f08fc796-a6ba-40c9-b621-2bb73406c55f"
      },
      "outputs": [
        {
          "name": "stdout",
          "output_type": "stream",
          "text": [
            "{'amol', 38, 'gladson', 73, 10, 43, 'sanket', 'priynka', 'poonam', 52, 86, 55, 54.9, 'dattu', 'abhishek', 'manish'}\n"
          ]
        }
      ],
      "source": [
        "print(st)"
      ]
    },
    {
      "cell_type": "code",
      "execution_count": 33,
      "metadata": {
        "id": "APP7_aE6PK1x"
      },
      "outputs": [],
      "source": [
        "st.remove(54.9)"
      ]
    },
    {
      "cell_type": "code",
      "execution_count": 34,
      "metadata": {
        "colab": {
          "base_uri": "https://localhost:8080/"
        },
        "id": "4v8IKgtdPK6L",
        "outputId": "f625387a-b7ea-49e9-bee6-64879f2c7cdf"
      },
      "outputs": [
        {
          "name": "stdout",
          "output_type": "stream",
          "text": [
            "{'amol', 38, 'gladson', 73, 10, 43, 'sanket', 'priynka', 'poonam', 52, 86, 55, 'dattu', 'abhishek', 'manish'}\n"
          ]
        }
      ],
      "source": [
        "print(st)"
      ]
    },
    {
      "cell_type": "code",
      "execution_count": 35,
      "metadata": {
        "colab": {
          "base_uri": "https://localhost:8080/",
          "height": 166
        },
        "id": "IppUUn6wPK8D",
        "outputId": "43b4ff56-10f5-4285-cc1a-1af009c0502a"
      },
      "outputs": [
        {
          "ename": "KeyError",
          "evalue": "ignored",
          "output_type": "error",
          "traceback": [
            "\u001b[0;31m---------------------------------------------------------------------------\u001b[0m",
            "\u001b[0;31mKeyError\u001b[0m                                  Traceback (most recent call last)",
            "\u001b[0;32m<ipython-input-35-7d5ef3351c3c>\u001b[0m in \u001b[0;36m<module>\u001b[0;34m()\u001b[0m\n\u001b[0;32m----> 1\u001b[0;31m \u001b[0mst\u001b[0m\u001b[0;34m.\u001b[0m\u001b[0mremove\u001b[0m\u001b[0;34m(\u001b[0m\u001b[0;34m\"education\"\u001b[0m\u001b[0;34m)\u001b[0m\u001b[0;34m\u001b[0m\u001b[0;34m\u001b[0m\u001b[0m\n\u001b[0m",
            "\u001b[0;31mKeyError\u001b[0m: 'education'"
          ]
        }
      ],
      "source": [
        "st.remove(\"education\")"
      ]
    },
    {
      "cell_type": "code",
      "execution_count": 36,
      "metadata": {
        "id": "JGcjOGKqPS7L"
      },
      "outputs": [],
      "source": [
        "st.discard(\"education\")\n"
      ]
    },
    {
      "cell_type": "code",
      "execution_count": 37,
      "metadata": {
        "id": "iErt-S9XPS86"
      },
      "outputs": [],
      "source": [
        "st.clear()"
      ]
    },
    {
      "cell_type": "code",
      "execution_count": null,
      "metadata": {
        "id": "atANR8WWPS_H"
      },
      "outputs": [],
      "source": [
        "print(st)"
      ]
    },
    {
      "cell_type": "code",
      "execution_count": null,
      "metadata": {
        "id": "-iy80l53Pbwn"
      },
      "outputs": [],
      "source": [
        "st = {10,52,73,43,55,86,38,54.9,73,\"dattu\",\"manish\",\"amol\",\"amol\",\"sanket\",\"abhishek\",\"priynka\",\"poonam\",\"gladson\"}\n",
        "print(st)"
      ]
    },
    {
      "cell_type": "code",
      "execution_count": null,
      "metadata": {
        "id": "owSQngvpPb1R"
      },
      "outputs": [],
      "source": []
    },
    {
      "cell_type": "code",
      "execution_count": 39,
      "metadata": {
        "colab": {
          "base_uri": "https://localhost:8080/"
        },
        "id": "bq6qnL18Pb3q",
        "outputId": "b55c091c-9335-4379-9fbb-24a51f6bb970"
      },
      "outputs": [
        {
          "name": "stdout",
          "output_type": "stream",
          "text": [
            "{1, 3, 67, 42, 3242, 5232, 21, 54}\n"
          ]
        },
        {
          "data": {
            "text/plain": [
              "{1, 2, 3, 4, 21, 42, 43, 53, 54, 67, 3242, 5232}"
            ]
          },
          "execution_count": 39,
          "metadata": {},
          "output_type": "execute_result"
        }
      ],
      "source": [
        "a  = {1,3242,3,5232,42}\n",
        "b = {21,54,67,1}\n",
        "c = {2,3,4,53,43}\n",
        "print(a|b)\n",
        "a.union(b,c)"
      ]
    },
    {
      "cell_type": "code",
      "execution_count": 40,
      "metadata": {
        "colab": {
          "base_uri": "https://localhost:8080/"
        },
        "id": "z8YIfUlYPb5p",
        "outputId": "cc69d08e-2029-45bd-aa75-97356d770f1a"
      },
      "outputs": [
        {
          "data": {
            "text/plain": [
              "{1}"
            ]
          },
          "execution_count": 40,
          "metadata": {},
          "output_type": "execute_result"
        }
      ],
      "source": [
        "a&b\n",
        "a.intersection(b)\n",
        "\n",
        "a.intersection(c)"
      ]
    },
    {
      "cell_type": "markdown",
      "metadata": {
        "id": "U-vCsX26e0yd"
      },
      "source": [
        "## Set in Python"
      ]
    },
    {
      "cell_type": "markdown",
      "metadata": {
        "id": "oPzPcgoTexkm"
      },
      "source": [
        "## Creating Python Sets\n",
        "A set is created by placing all the items (elements) inside curly braces {}, separated by comma, or by using the built-in set() function.\n",
        "\n",
        "It can have any number of items and they may be of different types (integer, float, tuple, string etc.). But a set cannot have mutable elements like lists, sets or dictionaries as its elements."
      ]
    },
    {
      "cell_type": "code",
      "execution_count": null,
      "metadata": {
        "colab": {
          "base_uri": "https://localhost:8080/"
        },
        "id": "qbwhLNcvez0W",
        "outputId": "3847e1e4-aec9-47b4-e507-6d7115436aba"
      },
      "outputs": [
        {
          "name": "stdout",
          "output_type": "stream",
          "text": [
            "{1, 2, 3}\n",
            "{1.0, 'Hello', (1, 2, 3)}\n"
          ]
        }
      ],
      "source": [
        "# Different types of sets in Python\n",
        "# set of integers\n",
        "my_set = {1, 2, 3}\n",
        "print(my_set)\n",
        "\n",
        "# set of mixed datatypes\n",
        "my_set = {1.0, \"Hello\", (1, 2, 3)}\n",
        "print(my_set)"
      ]
    },
    {
      "cell_type": "code",
      "execution_count": null,
      "metadata": {
        "colab": {
          "base_uri": "https://localhost:8080/"
        },
        "id": "GbFmz-RSfBVB",
        "outputId": "e3e13234-7730-4383-b10f-ff0b73ef5f8d"
      },
      "outputs": [
        {
          "name": "stdout",
          "output_type": "stream",
          "text": [
            "{1, 2, 3, 4}\n",
            "{1, 2, 3}\n"
          ]
        }
      ],
      "source": [
        "# set cannot have duplicates\n",
        "# Output: {1, 2, 3, 4}\n",
        "my_set = {1, 2, 3, 4, 3, 2}\n",
        "print(my_set)\n",
        "\n",
        "# we can make set from a list\n",
        "# Output: {1, 2, 3}\n",
        "my_set = set([1, 2, 3, 2])\n",
        "print(my_set)\n",
        "\n",
        "# set cannot have mutable items\n",
        "# here [4, 40] is a mutable list\n",
        "# this will cause an error.\n",
        "\n",
        "#my_set = {1, 2, [4, 40]}"
      ]
    },
    {
      "cell_type": "code",
      "execution_count": null,
      "metadata": {
        "id": "AP5D_4e1fGoa"
      },
      "outputs": [],
      "source": []
    },
    {
      "cell_type": "markdown",
      "metadata": {
        "id": "WDBmu2ySffBl"
      },
      "source": [
        "# Creating an empty set is a bit tricky.\n",
        "\n",
        "Empty curly braces {} will make an empty dictionary in Python. To make a set without any elements, we use the set() function without any argument."
      ]
    },
    {
      "cell_type": "code",
      "execution_count": null,
      "metadata": {
        "colab": {
          "base_uri": "https://localhost:8080/"
        },
        "id": "pGokAuMWfhnf",
        "outputId": "ba5189dc-4c93-4a59-f5e6-d20922c38da2"
      },
      "outputs": [
        {
          "name": "stdout",
          "output_type": "stream",
          "text": [
            "<class 'dict'>\n",
            "<class 'set'>\n"
          ]
        }
      ],
      "source": [
        "# Distinguish set and dictionary while creating empty set\n",
        "\n",
        "# initialize a with {}\n",
        "a = {}\n",
        "\n",
        "# check data type of a\n",
        "print(type(a))\n",
        "\n",
        "# initialize a with set()\n",
        "a = set()\n",
        "\n",
        "# check data type of a\n",
        "print(type(a))"
      ]
    },
    {
      "cell_type": "code",
      "execution_count": null,
      "metadata": {
        "id": "trWWFIUPfneF"
      },
      "outputs": [],
      "source": []
    },
    {
      "cell_type": "markdown",
      "metadata": {
        "id": "s4rdAy7gftlJ"
      },
      "source": [
        "## Modifying a set in Python\n",
        "Sets are mutable. However, since they are unordered, indexing has no meaning.\n",
        "\n",
        "We cannot access or change an element of a set using indexing or slicing. Set data type does not support it.\n",
        "\n",
        "We can add a single element using the add() method, and multiple elements using the update() method. The update() method can take tuples, lists, strings or other sets as its argument. In all cases, duplicates are avoided."
      ]
    },
    {
      "cell_type": "code",
      "execution_count": null,
      "metadata": {
        "colab": {
          "base_uri": "https://localhost:8080/"
        },
        "id": "uBPdYLs9fvQN",
        "outputId": "5bda3db4-7450-40da-9f12-9cda68cf3b23"
      },
      "outputs": [
        {
          "name": "stdout",
          "output_type": "stream",
          "text": [
            "{1, 3}\n",
            "{1, 2, 3}\n",
            "{1, 2, 3, 4}\n",
            "{1, 2, 3, 4, 5, 6, 8}\n"
          ]
        }
      ],
      "source": [
        "# initialize my_set\n",
        "my_set = {1, 3}\n",
        "print(my_set)\n",
        "\n",
        "# my_set[0]\n",
        "# if you uncomment the above line\n",
        "# you will get an error\n",
        "# TypeError: 'set' object does not support indexing\n",
        "\n",
        "# add an element\n",
        "# Output: {1, 2, 3}\n",
        "my_set.add(2)\n",
        "print(my_set)\n",
        "\n",
        "# add multiple elements\n",
        "# Output: {1, 2, 3, 4}\n",
        "my_set.update([2, 3, 4])\n",
        "print(my_set)\n",
        "\n",
        "# add list and set\n",
        "# Output: {1, 2, 3, 4, 5, 6, 8}\n",
        "my_set.update([4, 5], {1, 6, 8})\n",
        "print(my_set)"
      ]
    },
    {
      "cell_type": "code",
      "execution_count": 27,
      "metadata": {
        "colab": {
          "base_uri": "https://localhost:8080/"
        },
        "id": "sB1lIQ2DKgV_",
        "outputId": "47bb0bdf-66aa-4c3c-a996-56ad2f07876a"
      },
      "outputs": [
        {
          "data": {
            "text/plain": [
              "{10,\n",
              " 38,\n",
              " 43,\n",
              " 52,\n",
              " 54.9,\n",
              " 55,\n",
              " 73,\n",
              " 86,\n",
              " 'abhishek',\n",
              " 'amol',\n",
              " 'dattu',\n",
              " 'gladson',\n",
              " 'manish',\n",
              " 'poonam',\n",
              " 'priynka',\n",
              " 'sanket'}"
            ]
          },
          "execution_count": 27,
          "metadata": {},
          "output_type": "execute_result"
        }
      ],
      "source": [
        "st = {10,52,73,43,55,86,38,54.9,73,\"dattu\",\"manish\",\"amol\",\"amol\",\"sanket\",\"abhishek\",\"priynka\",\"poonam\",\"gladson\"}\n",
        "st"
      ]
    },
    {
      "cell_type": "code",
      "execution_count": null,
      "metadata": {
        "id": "oJiwAvEqfzrF"
      },
      "outputs": [],
      "source": []
    },
    {
      "cell_type": "markdown",
      "metadata": {
        "id": "jaj2hpBuf5UN"
      },
      "source": [
        "## Removing elements from a set\n",
        "\n",
        "\n",
        "\n",
        "1.   A particular item can be removed from a set using the methods discard() and remove().\n",
        "\n",
        "2. The only difference between the two is that the discard() function leaves a set unchanged if the element is not present in the set. On the other hand, the remove() function will raise an error in such a condition (if element is not present in the set).  \n"
      ]
    },
    {
      "cell_type": "code",
      "execution_count": null,
      "metadata": {
        "colab": {
          "base_uri": "https://localhost:8080/"
        },
        "id": "Awo2BA_df6Rr",
        "outputId": "97381252-c095-4f26-f573-cb836937106a"
      },
      "outputs": [
        {
          "name": "stdout",
          "output_type": "stream",
          "text": [
            "{1, 3, 4, 5, 6}\n",
            "{1, 3, 5, 6}\n",
            "{1, 3, 5}\n",
            "{1, 3, 5}\n"
          ]
        }
      ],
      "source": [
        "# Difference between discard() and remove()\n",
        "\n",
        "# initialize my_set\n",
        "my_set = {1, 3, 4, 5, 6}\n",
        "print(my_set)\n",
        "\n",
        "# discard an element\n",
        "\n",
        "my_set.discard(4)\n",
        "print(my_set)\n",
        "\n",
        "# remove an element\n",
        "\n",
        "my_set.remove(6)\n",
        "print(my_set)\n",
        "\n",
        "# discard an element\n",
        "# not present in my_set\n",
        "\n",
        "my_set.discard(2)\n",
        "print(my_set)\n",
        "\n"
      ]
    },
    {
      "cell_type": "code",
      "execution_count": null,
      "metadata": {
        "colab": {
          "base_uri": "https://localhost:8080/",
          "height": 207
        },
        "id": "9px_DDWsgmYE",
        "outputId": "a5f8ebc4-8ce1-4347-e610-291bab088347"
      },
      "outputs": [
        {
          "ename": "KeyError",
          "evalue": "ignored",
          "output_type": "error",
          "traceback": [
            "\u001b[0;31m---------------------------------------------------------------------------\u001b[0m",
            "\u001b[0;31mKeyError\u001b[0m                                  Traceback (most recent call last)",
            "\u001b[0;32m<ipython-input-8-bd7201dec10e>\u001b[0m in \u001b[0;36m<module>\u001b[0;34m()\u001b[0m\n\u001b[1;32m      4\u001b[0m \u001b[0;31m# Output: KeyError\u001b[0m\u001b[0;34m\u001b[0m\u001b[0;34m\u001b[0m\u001b[0;34m\u001b[0m\u001b[0m\n\u001b[1;32m      5\u001b[0m \u001b[0;34m\u001b[0m\u001b[0m\n\u001b[0;32m----> 6\u001b[0;31m \u001b[0mmy_set\u001b[0m\u001b[0;34m.\u001b[0m\u001b[0mremove\u001b[0m\u001b[0;34m(\u001b[0m\u001b[0;36m2\u001b[0m\u001b[0;34m)\u001b[0m\u001b[0;34m\u001b[0m\u001b[0;34m\u001b[0m\u001b[0m\n\u001b[0m",
            "\u001b[0;31mKeyError\u001b[0m: 2"
          ]
        }
      ],
      "source": [
        "# remove an element\n",
        "# not present in my_set\n",
        "# you will get an error.\n",
        "# Output: KeyError\n",
        "\n",
        "my_set.remove(2)"
      ]
    },
    {
      "cell_type": "markdown",
      "metadata": {
        "id": "GLNhVgwgf7KE"
      },
      "source": [
        "Similarly, we can remove and return an item using the pop() method.\n",
        "\n",
        "Since set is an unordered data type, there is no way of determining which item will be popped. It is completely arbitrary.\n",
        "\n",
        "We can also remove all the items from a set using the clear() method."
      ]
    },
    {
      "cell_type": "code",
      "execution_count": null,
      "metadata": {
        "colab": {
          "base_uri": "https://localhost:8080/"
        },
        "id": "_CM9OqHxgjh2",
        "outputId": "48f89aa3-30b2-4cb1-b7e0-b4921dae336c"
      },
      "outputs": [
        {
          "name": "stdout",
          "output_type": "stream",
          "text": [
            "{'c', 'l', 'm', 'o', 'e', 'W'}\n",
            "c\n",
            "{'m', 'o', 'e', 'W'}\n",
            "set()\n"
          ]
        }
      ],
      "source": [
        "# initialize my_set\n",
        "\n",
        "my_set = set(\"Welcome\")\n",
        "print(my_set)\n",
        "\n",
        "# pop an element\n",
        "# Output: random element\n",
        "print(my_set.pop())\n",
        "\n",
        "# pop another element\n",
        "my_set.pop()\n",
        "print(my_set)\n",
        "\n",
        "# clear my_set\n",
        "\n",
        "my_set.clear()\n",
        "print(my_set)"
      ]
    },
    {
      "cell_type": "code",
      "execution_count": null,
      "metadata": {
        "id": "aq6JoSkxg3IX"
      },
      "outputs": [],
      "source": []
    },
    {
      "cell_type": "markdown",
      "metadata": {
        "id": "Anuo_kGohbC1"
      },
      "source": [
        "## Python Set Operations\n",
        "Sets can be used to carry out mathematical set operations like union(|), intersection(&), difference and symmetric difference. We can do this with operators or methods.\n",
        "\n",
        "\n",
        "Let us consider the following two sets for the following operations."
      ]
    },
    {
      "cell_type": "code",
      "execution_count": null,
      "metadata": {
        "id": "ijykHLDOhcqs"
      },
      "outputs": [],
      "source": [
        "# Set union method\n",
        "# initialize A and B\n",
        "A = {1, 2, 3, 4, 5}\n",
        "B = {4, 5,3,6,7}"
      ]
    },
    {
      "cell_type": "code",
      "execution_count": null,
      "metadata": {
        "colab": {
          "base_uri": "https://localhost:8080/"
        },
        "id": "sN5mF_ixhpwR",
        "outputId": "4592811c-0170-4054-aa86-f3ca37ea8c5d"
      },
      "outputs": [
        {
          "name": "stdout",
          "output_type": "stream",
          "text": [
            "{1, 2, 3, 4, 5, 6, 7}\n",
            "{3, 4, 5}\n",
            "{1, 2}\n",
            "{1, 2, 6, 7}\n"
          ]
        }
      ],
      "source": [
        "print(A | B)\n",
        "A.union(B)\n",
        "print(A & B)\n",
        "A.intersection(B)\n",
        "# print(A - B)\n",
        "# print(A ^ B)"
      ]
    },
    {
      "cell_type": "code",
      "execution_count": null,
      "metadata": {
        "id": "U8lhJAGUiXqK"
      },
      "outputs": [],
      "source": []
    },
    {
      "cell_type": "markdown",
      "metadata": {
        "id": "2Sv_PdfckI2h"
      },
      "source": [
        "# Other Set Operations\n",
        "**Set Membership Test**\n",
        "\n",
        "We can test if an item exists in a set or not, using the in keyword.\n",
        "\n",
        "\n",
        "\n",
        "We can test if an item exists in a set or not, using the in keyword."
      ]
    },
    {
      "cell_type": "code",
      "execution_count": null,
      "metadata": {
        "colab": {
          "base_uri": "https://localhost:8080/"
        },
        "id": "G5WZw_KvkLTi",
        "outputId": "cfcdd35f-6c57-4c1b-d128-9dd02bab6245"
      },
      "outputs": [
        {
          "name": "stdout",
          "output_type": "stream",
          "text": [
            "True\n",
            "False\n"
          ]
        }
      ],
      "source": [
        "# in keyword in a set\n",
        "# initialize my_set\n",
        "my_set = set(\"apple\")\n",
        "\n",
        "# check if 'a' is present\n",
        "# Output: True\n",
        "print('a' in my_set)\n",
        "\n",
        "# check if 'p' is present\n",
        "# Output: False\n",
        "print('p' not in my_set)"
      ]
    },
    {
      "cell_type": "code",
      "execution_count": null,
      "metadata": {
        "colab": {
          "base_uri": "https://localhost:8080/"
        },
        "id": "6T4tz5CZkYKI",
        "outputId": "ef8a8e7e-5527-4ada-c410-cc911bbbb34f"
      },
      "outputs": [
        {
          "name": "stdout",
          "output_type": "stream",
          "text": [
            "vikas\n",
            "Anil\n",
            "Akash\n",
            "Krushna\n"
          ]
        }
      ],
      "source": [
        "s = {\"vikas\",\"Krushna\",\"Anil\",\"Akash\"}\n",
        "for i in s:\n",
        "    print(i)"
      ]
    },
    {
      "cell_type": "code",
      "execution_count": null,
      "metadata": {
        "colab": {
          "base_uri": "https://localhost:8080/"
        },
        "id": "escTqpNDkjTt",
        "outputId": "55298da9-43b1-47fa-b555-a6985bb2109c"
      },
      "outputs": [
        {
          "name": "stdout",
          "output_type": "stream",
          "text": [
            "{'Monday', 'Thursday', 'Saturday', 'Wednesday', 'Sunday', 'Friday', 'Tuesday'}\n",
            "<class 'set'>\n",
            "looping through the set elements ... \n",
            "Monday\n",
            "Thursday\n",
            "Saturday\n",
            "Wednesday\n",
            "Sunday\n",
            "Friday\n",
            "Tuesday\n"
          ]
        }
      ],
      "source": [
        "Days = {\"Monday\", \"Tuesday\", \"Wednesday\", \"Thursday\", \"Friday\", \"Saturday\", \"Sunday\"}  \n",
        "\n",
        "\n",
        "print(Days)    \n",
        "print(type(Days))    \n",
        "print(\"looping through the set elements ... \")    \n",
        "for i in Days:    \n",
        "    print(i)  "
      ]
    },
    {
      "cell_type": "markdown",
      "metadata": {
        "id": "IeKSBqiolNZY"
      },
      "source": [
        "## You can write Set like below"
      ]
    },
    {
      "cell_type": "code",
      "execution_count": null,
      "metadata": {
        "id": "e_uvzKQNk_9G"
      },
      "outputs": [],
      "source": [
        "#Days = set([\"Monday\", \"Tuesday\", \"Wednesday\", \"Thursday\", \"Friday\", \"Saturday\", \"Sunday\"])    "
      ]
    },
    {
      "cell_type": "markdown",
      "metadata": {
        "id": "06-KY5CxlxjQ"
      },
      "source": [
        "We can not take a list in set,because list is mutable data type.\n",
        "\n",
        "Set allow only mutable element."
      ]
    },
    {
      "cell_type": "code",
      "execution_count": null,
      "metadata": {
        "id": "axMKUEvalWfD"
      },
      "outputs": [],
      "source": [
        "# set2 = {1,2,3,[\"Javatpoint\",4]}  \n",
        "# print(type(set2))  "
      ]
    },
    {
      "cell_type": "code",
      "execution_count": null,
      "metadata": {
        "id": "FNuIFcMclhc1"
      },
      "outputs": [],
      "source": []
    },
    {
      "cell_type": "code",
      "execution_count": null,
      "metadata": {
        "id": "5r6DK13Z-pXZ"
      },
      "outputs": [],
      "source": []
    },
    {
      "cell_type": "code",
      "execution_count": 3,
      "metadata": {
        "colab": {
          "base_uri": "https://localhost:8080/"
        },
        "id": "cl8tZJMq-paO",
        "outputId": "6a930e60-f97f-49bf-fe5f-fc8e0ad73122"
      },
      "outputs": [
        {
          "data": {
            "text/plain": [
              "['amol', 'sameer', 43, 543, 'gone', '3', 2]"
            ]
          },
          "execution_count": 3,
          "metadata": {},
          "output_type": "execute_result"
        }
      ],
      "source": [
        "lst = [\"amol\",\"sameer\",43,543,\"gone\",\"3\"]\n",
        "lst.extend([2]) # syntax\n",
        "lst"
      ]
    },
    {
      "cell_type": "code",
      "execution_count": 4,
      "metadata": {
        "colab": {
          "base_uri": "https://localhost:8080/"
        },
        "id": "I9MIv0lj-90w",
        "outputId": "d639b17d-da22-4549-d900-b21035ddfadb"
      },
      "outputs": [
        {
          "name": "stdout",
          "output_type": "stream",
          "text": [
            "['amol', 'sameer', 43, 543, 'gone', '3', 2, 12, 34, 65, [8, 45]]\n"
          ]
        }
      ],
      "source": [
        "lst.extend([12,34,65,[8,45]])\n",
        "print(lst)"
      ]
    },
    {
      "cell_type": "code",
      "execution_count": null,
      "metadata": {
        "id": "9OCpBhm1_dvG"
      },
      "outputs": [],
      "source": []
    },
    {
      "cell_type": "markdown",
      "metadata": {},
      "source": [
        "for practice"
      ]
    },
    {
      "cell_type": "markdown",
      "metadata": {},
      "source": []
    },
    {
      "cell_type": "code",
      "execution_count": null,
      "metadata": {},
      "outputs": [],
      "source": [
        "# Example 1: Creating a set\n",
        "fruits = {\"apple\", \"banana\", \"cherry\"}\n",
        "print(fruits)\n",
        "\n",
        "# Example 2: Adding elements to a set\n",
        "fruits.add(\"date\")\n",
        "print(fruits)\n",
        "\n",
        "# Example 3: Removing an element\n",
        "fruits.remove(\"banana\")\n",
        "print(fruits)\n",
        "\n",
        "# Example 4: Checking for an element\n",
        "print(\"apple\" in fruits)  # Output: True\n",
        "\n",
        "# Example 5: Set union\n",
        "set1 = {1, 2, 3}\n",
        "set2 = {3, 4, 5}\n",
        "print(set1 | set2)  # {1, 2, 3, 4, 5}\n",
        "\n",
        "# Example 6: Set intersection\n",
        "print(set1 & set2)  # {3}\n",
        "\n",
        "# Example 7: Set difference\n",
        "print(set1 - set2)  # {1, 2}\n",
        "\n",
        "# Example 8: Set symmetric difference\n",
        "print(set1 ^ set2)  # {1, 2, 4, 5}\n",
        "\n",
        "# Example 9: Finding set length\n",
        "print(len(fruits))\n",
        "\n",
        "# Example 10: Set comprehension\n",
        "square_set = {x**2 for x in range(6)}\n",
        "print(square_set)\n"
      ]
    },
    {
      "cell_type": "code",
      "execution_count": null,
      "metadata": {},
      "outputs": [],
      "source": []
    }
  ],
  "metadata": {
    "colab": {
      "collapsed_sections": [],
      "name": "Set_in_Python_Live.ipynb",
      "provenance": []
    },
    "kernelspec": {
      "display_name": "Python 3",
      "name": "python3"
    },
    "language_info": {
      "name": "python"
    }
  },
  "nbformat": 4,
  "nbformat_minor": 0
}
