{
 "cells": [
  {
   "cell_type": "code",
   "execution_count": null,
   "metadata": {},
   "outputs": [],
   "source": []
  },
  {
   "cell_type": "markdown",
   "metadata": {},
   "source": [
    "1. What is a String?\n",
    "\n",
    "\n",
    "A string is a sequence of characters enclosed in single (' '), double (\" \"), or triple quotes (''' ''' or \"\"\" \"\"\")."
   ]
  },
  {
   "cell_type": "code",
   "execution_count": 6,
   "metadata": {},
   "outputs": [
    {
     "name": "stdout",
     "output_type": "stream",
     "text": [
      "Komal\n"
     ]
    }
   ],
   "source": [
    "name  =\"Omkar\"\n",
    "name1 = \"Komal\"\n",
    "name2 = \"R\"\n",
    "#name3 = \"Rah\"\n",
    "\n",
    "\n",
    "print(name1)"
   ]
  },
  {
   "cell_type": "code",
   "execution_count": 2,
   "metadata": {},
   "outputs": [
    {
     "name": "stdout",
     "output_type": "stream",
     "text": [
      "John is a data scientist.\n",
      "He loves Python.\n"
     ]
    }
   ],
   "source": [
    "# Single and double quotes\n",
    "name1 = 'John'\n",
    "name2 = \"Doe\"\n",
    "\n",
    "# Triple quotes (used for multiline strings)\n",
    "bio = \"\"\"John is a data scientist.\n",
    "He loves Python.\"\"\"\n",
    "print(bio)\n"
   ]
  },
  {
   "cell_type": "markdown",
   "metadata": {},
   "source": [
    "2. String Indexing & Slicing\n",
    "\n",
    "Explain that strings are like lists—each character has an index."
   ]
  },
  {
   "cell_type": "markdown",
   "metadata": {},
   "source": []
  },
  {
   "cell_type": "code",
   "execution_count": 7,
   "metadata": {},
   "outputs": [
    {
     "name": "stdout",
     "output_type": "stream",
     "text": [
      "6\n"
     ]
    }
   ],
   "source": [
    "text = \"Python\"\n",
    "lst = [1,2,4,123,242,4,2423,512,42,412,4]\n",
    "tpl = (223333.5,5,3,53,3,353,5)\n",
    "\n",
    "dict = {\"name\":\"Jay\",\"add\":\"ABC colany\",\"mob\":12345123456}\n",
    "\n",
    "st = {1,2,4,4,5,3,3,54}\n",
    "\n"
   ]
  },
  {
   "cell_type": "code",
   "execution_count": 11,
   "metadata": {},
   "outputs": [
    {
     "name": "stdout",
     "output_type": "stream",
     "text": [
      "11\n",
      "7\n"
     ]
    }
   ],
   "source": [
    "print(len(lst))\n",
    "print(len(tpl))\n",
    "print(len(st))\n",
    "print(len(text))"
   ]
  },
  {
   "cell_type": "code",
   "execution_count": 12,
   "metadata": {},
   "outputs": [
    {
     "name": "stdout",
     "output_type": "stream",
     "text": [
      "<class 'list'>\n"
     ]
    }
   ],
   "source": [
    "print(type(lst))\n",
    "#print(len(tpl))\n",
    "# print(len(st))\n",
    "# print(len(text))"
   ]
  },
  {
   "cell_type": "code",
   "execution_count": null,
   "metadata": {},
   "outputs": [],
   "source": [
    "text = \"Python\"\n",
    "# Indexing (0-based)\n",
    "print(text[0])   # 'P'\n",
    "print(text[-1])  # 'n' (last character)\n",
    "\n",
    "# Slicing (substring extraction)\n",
    "print(text[1:4])  # 'yth'\n",
    "print(text[:3])   # 'Pyt' (first 3 letters)\n",
    "print(text[2:])   # 'thon' (from index 2 to end)\n"
   ]
  },
  {
   "cell_type": "markdown",
   "metadata": {},
   "source": [
    "3. String Iteration\n",
    "\n",
    "Encourage students to iterate over strings like they would with lists."
   ]
  },
  {
   "cell_type": "markdown",
   "metadata": {},
   "source": []
  },
  {
   "cell_type": "code",
   "execution_count": 15,
   "metadata": {},
   "outputs": [
    {
     "name": "stdout",
     "output_type": "stream",
     "text": [
      "Welcome to the class"
     ]
    }
   ],
   "source": [
    "ts = \"Welcome to the class\"\n",
    "\n",
    "for i in ts:\n",
    "    print(i, end=\"\")"
   ]
  },
  {
   "cell_type": "code",
   "execution_count": 14,
   "metadata": {},
   "outputs": [
    {
     "name": "stdout",
     "output_type": "stream",
     "text": [
      "W\n",
      "e\n",
      "l\n",
      "c\n",
      "o\n",
      "m\n",
      "e\n",
      " \n",
      "t\n",
      "o\n",
      " \n",
      "t\n",
      "h\n",
      "e\n",
      " \n",
      "c\n",
      "l\n",
      "a\n",
      "s\n",
      "s\n"
     ]
    }
   ],
   "source": [
    "#ts = \"Welcome to the class\"\n",
    "\n",
    "for i in \"Welcome to the class\":\n",
    "    print(i)"
   ]
  },
  {
   "cell_type": "code",
   "execution_count": null,
   "metadata": {},
   "outputs": [],
   "source": [
    "for char in \"Python\":\n",
    "    print(char)\n"
   ]
  },
  {
   "cell_type": "markdown",
   "metadata": {},
   "source": [
    "4. String Concatenation & Repetition\n",
    "\n",
    "Use examples like joining names, creating patterns."
   ]
  },
  {
   "cell_type": "markdown",
   "metadata": {},
   "source": []
  },
  {
   "cell_type": "code",
   "execution_count": 20,
   "metadata": {},
   "outputs": [
    {
     "name": "stdout",
     "output_type": "stream",
     "text": [
      "String concatination ---> vikasRathod\n"
     ]
    }
   ],
   "source": [
    "name = \"vikas\"\n",
    "surname = \"Rathod\"\n",
    "\n",
    "print(\"String concatination --->\",name+surname)"
   ]
  },
  {
   "cell_type": "code",
   "execution_count": null,
   "metadata": {},
   "outputs": [],
   "source": [
    "# Concatenation\n",
    "first = \"Hello\"\n",
    "second = \"World\"\n",
    "print(first + \" \" + second)  # 'Hello World'\n",
    "\n",
    "# Repetition\n",
    "print(\"*\" * 10)  # **********\n"
   ]
  },
  {
   "cell_type": "code",
   "execution_count": null,
   "metadata": {},
   "outputs": [],
   "source": []
  },
  {
   "cell_type": "markdown",
   "metadata": {},
   "source": [
    "5. String Methods (Must-Know Functions)\n",
    "\n",
    "Uppercase & Lowercase"
   ]
  },
  {
   "cell_type": "code",
   "execution_count": 21,
   "metadata": {},
   "outputs": [
    {
     "name": "stdout",
     "output_type": "stream",
     "text": [
      "SOMETHING\n"
     ]
    }
   ],
   "source": [
    "var = \"something\"\n",
    "\n",
    "print(var.upper())"
   ]
  },
  {
   "cell_type": "code",
   "execution_count": 23,
   "metadata": {},
   "outputs": [
    {
     "name": "stdout",
     "output_type": "stream",
     "text": [
      "something\n"
     ]
    }
   ],
   "source": [
    "var = \"SOMETHING\"\n",
    "\n",
    "print(var.lower())"
   ]
  },
  {
   "cell_type": "code",
   "execution_count": null,
   "metadata": {},
   "outputs": [],
   "source": []
  },
  {
   "cell_type": "code",
   "execution_count": null,
   "metadata": {},
   "outputs": [],
   "source": [
    "text = \"python\"\n",
    "print(text.upper())  # PYTHON\n",
    "print(text.lower())  # python\n"
   ]
  },
  {
   "cell_type": "markdown",
   "metadata": {},
   "source": [
    "Finding & Replacing\n",
    "\n"
   ]
  },
  {
   "cell_type": "code",
   "execution_count": 25,
   "metadata": {},
   "outputs": [
    {
     "name": "stdout",
     "output_type": "stream",
     "text": [
      "17\n",
      "Welcome thos the Airtificial intelligence world\n"
     ]
    }
   ],
   "source": [
    "text = \"Welcome thos the AI world\"\n",
    "print(text.find(\"AI\"))   # 7 (starting index)\n",
    "print(text.replace(\"AI\", \"Airtificial intelligence\")) "
   ]
  },
  {
   "cell_type": "code",
   "execution_count": null,
   "metadata": {},
   "outputs": [],
   "source": [
    "text = \"I love Python\"\n",
    "print(text.find(\"Python\"))   # 7 (starting index)\n",
    "print(text.replace(\"love\", \"like\"))  # 'I like Python'\n"
   ]
  },
  {
   "cell_type": "code",
   "execution_count": null,
   "metadata": {},
   "outputs": [],
   "source": []
  },
  {
   "cell_type": "markdown",
   "metadata": {},
   "source": [
    "Stripping (removing spaces)"
   ]
  },
  {
   "cell_type": "markdown",
   "metadata": {},
   "source": []
  },
  {
   "cell_type": "code",
   "execution_count": 26,
   "metadata": {},
   "outputs": [
    {
     "name": "stdout",
     "output_type": "stream",
     "text": [
      "Hello\n"
     ]
    }
   ],
   "source": [
    "text = \"   Hello   \"\n",
    "print(text.strip())  # 'Hello'\n"
   ]
  },
  {
   "cell_type": "markdown",
   "metadata": {},
   "source": [
    "Splitting & Joining"
   ]
  },
  {
   "cell_type": "code",
   "execution_count": 30,
   "metadata": {},
   "outputs": [],
   "source": [
    "sentence = \"Python is awesome\"\n",
    "words = sentence.split() \n",
    "for i in words:\n",
    "    if i==\"iss\":\n",
    "        print(\"this 'is' present in the list \")\n",
    "    #print(i)"
   ]
  },
  {
   "cell_type": "code",
   "execution_count": 34,
   "metadata": {},
   "outputs": [
    {
     "name": "stdout",
     "output_type": "stream",
     "text": [
      "Python @ is @ awesome\n"
     ]
    }
   ],
   "source": [
    "sentence = \"Python is awesome\"\n",
    "words = sentence.split()  # ['Python', 'is', 'awesome']\n",
    "print(\" @ \".join(words))  # 'Python-is-awesome'\n"
   ]
  },
  {
   "cell_type": "markdown",
   "metadata": {},
   "source": [
    "6. Checking String Properties"
   ]
  },
  {
   "cell_type": "code",
   "execution_count": null,
   "metadata": {},
   "outputs": [],
   "source": [
    "text = \"Python123\"\n",
    "\n",
    "print(text.isalpha())   # False (contains numbers)\n",
    "print(text.isdigit())   # False (contains letters)\n",
    "print(text.isalnum())   # True (letters and numbers)\n",
    "print(text.startswith(\"Py\"))  # True\n",
    "print(text.endswith(\"123\"))   # True\n"
   ]
  },
  {
   "cell_type": "markdown",
   "metadata": {},
   "source": [
    "7. Formatting Strings (f-strings, format(), %)\n",
    "Using f-strings (Best Practice)"
   ]
  },
  {
   "cell_type": "code",
   "execution_count": 40,
   "metadata": {},
   "outputs": [
    {
     "name": "stdout",
     "output_type": "stream",
     "text": [
      "Welcome to the python training\n",
      "Welcome John and Jay to the python training\n",
      "welcom to the class ['om', 'samarth', 'varun', 'mubarish']\n"
     ]
    }
   ],
   "source": [
    "name = \"John\"\n",
    "name1 = \"Jay\"\n",
    "\n",
    "std_lst = [\"om\",\"samarth\",\"varun\",\"mubarish\"]\n",
    "\n",
    "print(\"Welcome to the python training\")\n",
    "\n",
    "print(f\"Welcome {name} and {name1} to the python training\")\n",
    "print(f\"welcom to the class {std_lst}\")"
   ]
  },
  {
   "cell_type": "code",
   "execution_count": 42,
   "metadata": {},
   "outputs": [
    {
     "name": "stdout",
     "output_type": "stream",
     "text": [
      "My name is John and I am 25 years old.\n"
     ]
    }
   ],
   "source": [
    "name = \"John\"\n",
    "age = 25\n",
    "print(f\"My name is {name} and I am {age} years old.\")\n"
   ]
  },
  {
   "cell_type": "markdown",
   "metadata": {},
   "source": [
    "Using format()"
   ]
  },
  {
   "cell_type": "code",
   "execution_count": 45,
   "metadata": {},
   "outputs": [
    {
     "name": "stdout",
     "output_type": "stream",
     "text": [
      "My name is John and I am 25 years old.\n"
     ]
    }
   ],
   "source": [
    "name1 = \"John\"\n",
    "age1 = 25\n",
    "print(\"My name is {} and I am {} years old.\".format(name1, age1))\n"
   ]
  },
  {
   "cell_type": "markdown",
   "metadata": {},
   "source": [
    "Using % Formatting (Old method)"
   ]
  },
  {
   "cell_type": "code",
   "execution_count": null,
   "metadata": {},
   "outputs": [],
   "source": [
    "print(\"My name is %s and I am %d years old.\" % (name, age))\n"
   ]
  },
  {
   "cell_type": "markdown",
   "metadata": {},
   "source": []
  }
 ],
 "metadata": {
  "kernelspec": {
   "display_name": "Python 3",
   "language": "python",
   "name": "python3"
  },
  "language_info": {
   "codemirror_mode": {
    "name": "ipython",
    "version": 3
   },
   "file_extension": ".py",
   "mimetype": "text/x-python",
   "name": "python",
   "nbconvert_exporter": "python",
   "pygments_lexer": "ipython3",
   "version": "3.10.12"
  }
 },
 "nbformat": 4,
 "nbformat_minor": 2
}
