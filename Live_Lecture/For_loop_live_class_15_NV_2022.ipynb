{
 "cells": [
  {
   "cell_type": "code",
   "execution_count": 1,
   "id": "f1397065",
   "metadata": {},
   "outputs": [],
   "source": [
    "lst = [1,2,3,44,\"god\",2,4,\"krishn\",2,34] # list\n",
    "tpl = (3,2,4,2,1,3,343,2,'great','good') # tuple\n",
    "\n",
    "dict1 = {\"name\":\"Ramu\",'age':300,\"adress\":\"ABC chowk\"\n",
    "         ,\"marks\":99,\"education\":\"BE_IT\"} # Dictionary\n",
    "\n",
    "st = {1,42,5,23,5,23,14,23} # set\n",
    "st1 = set([\"vikas\",\"shayma\",32,54,212]) # set\n",
    "\n",
    "str = \"Welcome\" # String\n"
   ]
  },
  {
   "cell_type": "code",
   "execution_count": null,
   "id": "1d3c460c",
   "metadata": {},
   "outputs": [],
   "source": [
    "# loop is use for iteration over sequence\n",
    "# "
   ]
  },
  {
   "cell_type": "code",
   "execution_count": null,
   "id": "c32ee709",
   "metadata": {},
   "outputs": [],
   "source": [
    "# for i in lst:\n",
    "#     #body of for loop\n",
    "#     print()\n",
    "#     vr = 10+28\n",
    "#     print()\n",
    "    "
   ]
  },
  {
   "cell_type": "code",
   "execution_count": 3,
   "id": "35be26f0",
   "metadata": {},
   "outputs": [
    {
     "name": "stdout",
     "output_type": "stream",
     "text": [
      "m\n",
      "t\n",
      "w\n",
      "Th\n",
      "Fr\n",
      "sat\n"
     ]
    }
   ],
   "source": [
    "lst = [\"m\",\"t\",\"w\",\"Th\",\"Fr\",'sat']\n",
    "#print(lst)\n",
    "\n",
    "for i in lst:\n",
    "    print(i)"
   ]
  },
  {
   "cell_type": "code",
   "execution_count": null,
   "id": "f3ac7ce7",
   "metadata": {},
   "outputs": [],
   "source": [
    "lst_demo = [\"Ram\",35,462,\"Shyam\",\"Krishn\",\"Radhe\",45]\n",
    "#print(lst_demo)\n",
    "for i in lst_demo:\n",
    "    print(i)"
   ]
  },
  {
   "cell_type": "code",
   "execution_count": 5,
   "id": "283d4134",
   "metadata": {},
   "outputs": [
    {
     "name": "stdout",
     "output_type": "stream",
     "text": [
      "(0, 'Ram')\n",
      "(1, 35)\n",
      "(2, 462)\n",
      "(3, 'Shyam')\n",
      "(4, 'Krishn')\n",
      "(5, 'Radhe')\n",
      "(6, 45)\n"
     ]
    }
   ],
   "source": [
    "lst_demo = [\"Ram\",35,462,\"Shyam\",\"Krishn\",\"Radhe\",45]\n",
    "#print(lst_demo)\n",
    "for i in enumerate(lst_demo):\n",
    "    print(i)"
   ]
  },
  {
   "cell_type": "code",
   "execution_count": 6,
   "id": "0f1b250e",
   "metadata": {},
   "outputs": [
    {
     "name": "stdout",
     "output_type": "stream",
     "text": [
      "0\n",
      "1\n",
      "2\n",
      "3\n",
      "4\n",
      "5\n",
      "6\n",
      "7\n",
      "8\n",
      "9\n"
     ]
    }
   ],
   "source": [
    "for i in range(10):\n",
    "    print(i)"
   ]
  },
  {
   "cell_type": "code",
   "execution_count": null,
   "id": "8ac784da",
   "metadata": {},
   "outputs": [
    {
     "name": "stdout",
     "output_type": "stream",
     "text": [
      "1\n",
      "2\n",
      "3\n",
      "4\n",
      "5\n",
      "6\n",
      "7\n",
      "8\n",
      "9\n"
     ]
    }
   ],
   "source": [
    "for i in range(1,10): # i will start from 1 to 9 bcz 10-1 = 9\n",
    "    print(i)"
   ]
  },
  {
   "cell_type": "code",
   "execution_count": null,
   "id": "4bc1a54c",
   "metadata": {},
   "outputs": [
    {
     "name": "stdout",
     "output_type": "stream",
     "text": [
      "1\n",
      "7\n",
      "13\n",
      "19\n"
     ]
    }
   ],
   "source": [
    "for i in range(1,20,7): # i will start from 1 to 9 bcz 10-1 = 9\n",
    "    print(i)"
   ]
  },
  {
   "cell_type": "code",
   "execution_count": 10,
   "id": "987cd005",
   "metadata": {},
   "outputs": [
    {
     "name": "stdout",
     "output_type": "stream",
     "text": [
      "apple\n",
      "banana\n",
      "cherry\n",
      "date\n",
      "elderberry\n",
      "fig\n",
      "grape\n",
      "honeydew\n",
      "kiwi\n",
      "lemon\n",
      "mango\n",
      "nectarine\n",
      "orange\n",
      "papaya\n",
      "quince\n",
      "raspberry\n",
      "strawberry\n",
      "tangerine\n",
      "ugli fruit\n",
      "watermelon\n"
     ]
    }
   ],
   "source": [
    "strings_list = [\n",
    "    \"apple\", \"banana\", \"cherry\", \"date\", \"elderberry\", \"fig\", \"grape\", \"honeydew\", \n",
    "    \"kiwi\", \"lemon\", \"mango\", \"nectarine\", \"orange\", \"papaya\", \"quince\", \"raspberry\", \n",
    "    \"strawberry\", \"tangerine\", \"ugli fruit\", \"watermelon\"\n",
    "]\n",
    "\n",
    "for fruits in strings_list:\n",
    "    print(fruits)"
   ]
  },
  {
   "cell_type": "code",
   "execution_count": null,
   "id": "12d9b06b",
   "metadata": {},
   "outputs": [],
   "source": []
  },
  {
   "cell_type": "code",
   "execution_count": 11,
   "id": "551724df",
   "metadata": {},
   "outputs": [
    {
     "name": "stdout",
     "output_type": "stream",
     "text": [
      "name\n",
      "age\n",
      "adress\n",
      "marks\n",
      "education\n"
     ]
    }
   ],
   "source": [
    "dict1 = {\"name\":\"Ramu\",'age':300,\"adress\":\"ABC chowk\"\n",
    "         ,\"marks\":99,\"education\":\"BE_IT\"} # Dictionary\n",
    "\n",
    "for j in dict1:\n",
    "    print(j)"
   ]
  },
  {
   "cell_type": "code",
   "execution_count": 12,
   "id": "3de89383",
   "metadata": {},
   "outputs": [
    {
     "name": "stdout",
     "output_type": "stream",
     "text": [
      "Ramu\n",
      "300\n",
      "ABC chowk\n",
      "99\n",
      "BE_IT\n"
     ]
    }
   ],
   "source": [
    "for j in dict1.values():\n",
    "    print(j)"
   ]
  },
  {
   "cell_type": "markdown",
   "id": "669b99d6",
   "metadata": {},
   "source": [
    "# print key and value at same time"
   ]
  },
  {
   "cell_type": "code",
   "execution_count": 15,
   "id": "6d63d62c",
   "metadata": {},
   "outputs": [
    {
     "name": "stdout",
     "output_type": "stream",
     "text": [
      "------ 300\n",
      "------ ABC chowk\n",
      "Completed\n"
     ]
    }
   ],
   "source": [
    "dict1 = {\"name\":\"Ramu\",'age':300,\"adress\":\"ABC chowk\"\n",
    "         ,\"marks\":99,\"education\":\"BE_IT\"} # Dictionary\n",
    "\n",
    "for j in dict1:\n",
    "    #print(j,dict1[j])\n",
    "    if j ==\"age\":\n",
    "        print(\"------\",dict1[j])\n",
    "    if j==\"adress\":\n",
    "        print(\"------\",dict1[j])\n",
    "else:\n",
    "    print(\"Completed\")"
   ]
  },
  {
   "cell_type": "code",
   "execution_count": null,
   "id": "f0cd6e66",
   "metadata": {},
   "outputs": [],
   "source": []
  },
  {
   "cell_type": "code",
   "execution_count": 29,
   "id": "cbf69e94",
   "metadata": {},
   "outputs": [
    {
     "name": "stdout",
     "output_type": "stream",
     "text": [
      "W\n",
      "e\n",
      "l\n",
      "c\n",
      "o\n",
      "m\n",
      "e\n",
      " \n",
      "t\n",
      "o\n",
      " \n",
      "t\n",
      "h\n",
      "e\n",
      " \n",
      "P\n",
      "y\n",
      "t\n",
      "h\n",
      "o\n",
      "n\n",
      " \n",
      "w\n",
      "o\n",
      "r\n",
      "l\n",
      "d\n"
     ]
    }
   ],
   "source": [
    "srt = \"Welcome to the Python world\"\n",
    "\n",
    "for st in srt:\n",
    "    print(st)"
   ]
  },
  {
   "cell_type": "code",
   "execution_count": 40,
   "id": "cbc48175",
   "metadata": {},
   "outputs": [
    {
     "name": "stdout",
     "output_type": "stream",
     "text": [
      "Welcome to the P----\n",
      "ython world"
     ]
    }
   ],
   "source": [
    "srt = \"Welcome to the Python world\"\n",
    "\n",
    "for st in srt:\n",
    "    print(st,end = \"\")\n",
    "    if \"P\" == st:\n",
    "        print(\"----\")\n",
    "        #break\n",
    "#         continue"
   ]
  },
  {
   "cell_type": "code",
   "execution_count": 45,
   "id": "055f98fe",
   "metadata": {},
   "outputs": [
    {
     "name": "stdout",
     "output_type": "stream",
     "text": [
      "4\n"
     ]
    }
   ],
   "source": [
    "srt = \"Welcome to the Python world\"\n",
    "char = \"o\"\n",
    "count = 0\n",
    "for j in srt:\n",
    "    if j==char:\n",
    "        count+=1\n",
    "print(count)"
   ]
  },
  {
   "cell_type": "code",
   "execution_count": 39,
   "id": "a8f38cc1",
   "metadata": {},
   "outputs": [
    {
     "data": {
      "text/plain": [
       "4"
      ]
     },
     "execution_count": 39,
     "metadata": {},
     "output_type": "execute_result"
    }
   ],
   "source": [
    "srt = \"Welcome to the Python world\"\n",
    "srt.count(\"o\")"
   ]
  },
  {
   "cell_type": "code",
   "execution_count": 64,
   "id": "51000789",
   "metadata": {},
   "outputs": [
    {
     "name": "stdout",
     "output_type": "stream",
     "text": [
      "Please enter your own String : Welcome\n",
      "Please enter your own Character : e\n",
      "The total Number of Times  e  has Occurred =  2\n"
     ]
    }
   ],
   "source": [
    "string = input(\"Please enter your own String : \")\n",
    "char = input(\"Please enter your own Character : \")\n",
    "\n",
    "count = 0\n",
    "for i in range(len(string)):\n",
    "    if(string[i] == char):\n",
    "        count = count + 1\n",
    "\n",
    "print(\"The total Number of Times \", char, \" has Occurred = \" , count)"
   ]
  },
  {
   "cell_type": "code",
   "execution_count": 48,
   "id": "c0a0a10e",
   "metadata": {},
   "outputs": [
    {
     "name": "stdout",
     "output_type": "stream",
     "text": [
      "Ram\n",
      "35\n",
      "462\n",
      "Shyam\n",
      "Krishn\n",
      "Radhe\n",
      "45\n"
     ]
    }
   ],
   "source": [
    "lst_demo = [\"Ram\",35,462,\"Shyam\",\"Krishn\",\"Radhe\",45]\n",
    "\n",
    "for i in lst_demo:\n",
    "    print(i)"
   ]
  },
  {
   "cell_type": "code",
   "execution_count": 55,
   "id": "e67f6226",
   "metadata": {},
   "outputs": [
    {
     "data": {
      "text/plain": [
       "{0, 1, 2, 3, 4, 5, 6, 7, 8, 9}"
      ]
     },
     "execution_count": 55,
     "metadata": {},
     "output_type": "execute_result"
    }
   ],
   "source": [
    "set(range(10))"
   ]
  },
  {
   "cell_type": "code",
   "execution_count": 56,
   "id": "bbb92c3f",
   "metadata": {},
   "outputs": [
    {
     "data": {
      "text/plain": [
       "[0, 1, 2, 3, 4, 5, 6, 7, 8, 9]"
      ]
     },
     "execution_count": 56,
     "metadata": {},
     "output_type": "execute_result"
    }
   ],
   "source": [
    "list(range(10))"
   ]
  },
  {
   "cell_type": "code",
   "execution_count": 57,
   "id": "4c752ad7",
   "metadata": {},
   "outputs": [
    {
     "data": {
      "text/plain": [
       "(0, 1, 2, 3, 4, 5, 6, 7, 8, 9)"
      ]
     },
     "execution_count": 57,
     "metadata": {},
     "output_type": "execute_result"
    }
   ],
   "source": [
    "tuple(range(10))"
   ]
  },
  {
   "cell_type": "code",
   "execution_count": null,
   "id": "60273fe2",
   "metadata": {},
   "outputs": [],
   "source": []
  },
  {
   "cell_type": "code",
   "execution_count": 50,
   "id": "03d3d5b2",
   "metadata": {},
   "outputs": [
    {
     "name": "stdout",
     "output_type": "stream",
     "text": [
      "0\n",
      "1\n",
      "2\n",
      "3\n",
      "4\n",
      "5\n",
      "6\n",
      "7\n",
      "8\n",
      "9\n"
     ]
    }
   ],
   "source": [
    "for i in range(10):\n",
    "    print(i)"
   ]
  },
  {
   "cell_type": "code",
   "execution_count": null,
   "id": "28322a41",
   "metadata": {},
   "outputs": [],
   "source": []
  },
  {
   "cell_type": "code",
   "execution_count": null,
   "id": "605d2792",
   "metadata": {},
   "outputs": [],
   "source": []
  },
  {
   "cell_type": "code",
   "execution_count": 46,
   "id": "ecd4fbb9",
   "metadata": {},
   "outputs": [
    {
     "data": {
      "text/plain": [
       "27"
      ]
     },
     "execution_count": 46,
     "metadata": {},
     "output_type": "execute_result"
    }
   ],
   "source": [
    "len(srt)"
   ]
  },
  {
   "cell_type": "code",
   "execution_count": 47,
   "id": "29173a29",
   "metadata": {},
   "outputs": [
    {
     "data": {
      "text/plain": [
       "range(0, 27)"
      ]
     },
     "execution_count": 47,
     "metadata": {},
     "output_type": "execute_result"
    }
   ],
   "source": [
    "range(len(srt))"
   ]
  },
  {
   "cell_type": "code",
   "execution_count": 62,
   "id": "aac8d6ed",
   "metadata": {},
   "outputs": [
    {
     "data": {
      "text/plain": [
       "27"
      ]
     },
     "execution_count": 62,
     "metadata": {},
     "output_type": "execute_result"
    }
   ],
   "source": [
    "len(srt)"
   ]
  },
  {
   "cell_type": "code",
   "execution_count": null,
   "id": "b0d30db4",
   "metadata": {},
   "outputs": [],
   "source": [
    "string = input(\"Please enter your own String : \")\n",
    "char = input(\"Please enter your own Character : \")\n",
    "\n",
    "count = 0\n",
    "for i in range(len(string)):\n",
    "    if(string[i] == char):\n",
    "        count = count + 1\n",
    "\n",
    "print(\"The total Number of Times \", char, \" has Occurred = \" , count)"
   ]
  },
  {
   "cell_type": "code",
   "execution_count": null,
   "id": "c561fece",
   "metadata": {},
   "outputs": [],
   "source": []
  },
  {
   "cell_type": "code",
   "execution_count": null,
   "id": "bb6a7ea0",
   "metadata": {},
   "outputs": [],
   "source": []
  },
  {
   "cell_type": "code",
   "execution_count": 8,
   "id": "c00aa20a",
   "metadata": {},
   "outputs": [
    {
     "name": "stdout",
     "output_type": "stream",
     "text": [
      "{'name': 'Ramu', 'age': 300, 'adress': 'ABC chowk', 'marks': 99, 'education': 'BE_IT'}\n"
     ]
    }
   ],
   "source": [
    "print(dict1)"
   ]
  },
  {
   "cell_type": "code",
   "execution_count": 9,
   "id": "2065d478",
   "metadata": {},
   "outputs": [
    {
     "name": "stdout",
     "output_type": "stream",
     "text": [
      "[1, 2, 3, 44, 'god', 2, 4, 'krishn', 2, 34]\n"
     ]
    }
   ],
   "source": [
    "print(lst)"
   ]
  },
  {
   "cell_type": "code",
   "execution_count": 10,
   "id": "2b41714a",
   "metadata": {},
   "outputs": [
    {
     "name": "stdout",
     "output_type": "stream",
     "text": [
      "(3, 2, 4, 2, 1, 3, 343, 2, 'great', 'good')\n"
     ]
    }
   ],
   "source": [
    "print(tpl)"
   ]
  },
  {
   "cell_type": "code",
   "execution_count": 11,
   "id": "758caebc",
   "metadata": {},
   "outputs": [
    {
     "name": "stdout",
     "output_type": "stream",
     "text": [
      "Welcome\n"
     ]
    }
   ],
   "source": [
    "print(str)"
   ]
  },
  {
   "cell_type": "code",
   "execution_count": 12,
   "id": "9b042735",
   "metadata": {},
   "outputs": [
    {
     "name": "stdout",
     "output_type": "stream",
     "text": [
      "{1, 5, 23, 42, 14}\n"
     ]
    }
   ],
   "source": [
    "print(st)"
   ]
  },
  {
   "cell_type": "code",
   "execution_count": 13,
   "id": "f0f613dd",
   "metadata": {},
   "outputs": [
    {
     "name": "stdout",
     "output_type": "stream",
     "text": [
      "{32, 'vikas', 212, 54, 'shayma'}\n"
     ]
    }
   ],
   "source": [
    "print(st1)"
   ]
  },
  {
   "cell_type": "markdown",
   "id": "ded728c6",
   "metadata": {},
   "source": [
    "# Syntax of for loop"
   ]
  },
  {
   "cell_type": "code",
   "execution_count": 15,
   "id": "3ac71a6c",
   "metadata": {},
   "outputs": [],
   "source": [
    "# if \"condition\":\n",
    "    # body of  if block"
   ]
  },
  {
   "cell_type": "code",
   "execution_count": 16,
   "id": "68486526",
   "metadata": {},
   "outputs": [],
   "source": [
    "# for iterable_var_name in sequence:\n",
    "    #body of for loop"
   ]
  },
  {
   "cell_type": "code",
   "execution_count": 17,
   "id": "f20f3b75",
   "metadata": {},
   "outputs": [
    {
     "name": "stdout",
     "output_type": "stream",
     "text": [
      "for loop\n",
      "for loop\n",
      "for loop\n",
      "for loop\n",
      "for loop\n",
      "for loop\n",
      "for loop\n",
      "for loop\n",
      "for loop\n",
      "for loop\n"
     ]
    }
   ],
   "source": [
    "lst = [1,2,3,44,\"god\",2,4,\"krishn\",2,34]\n",
    "for i in lst:\n",
    "    print(\"for loop\")\n",
    "    "
   ]
  },
  {
   "cell_type": "code",
   "execution_count": 20,
   "id": "b457b9a7",
   "metadata": {},
   "outputs": [
    {
     "name": "stdout",
     "output_type": "stream",
     "text": [
      "1\n",
      "2\n",
      "3\n",
      "44\n",
      "god\n",
      "2\n",
      "4\n",
      "krishn\n",
      "2\n",
      "34\n"
     ]
    }
   ],
   "source": [
    "lst = [1,2,3,44,\"god\",2,4,\"krishn\",2,34]\n",
    "for i in lst:\n",
    "    print(i)\n",
    "    #break"
   ]
  },
  {
   "cell_type": "code",
   "execution_count": 33,
   "id": "a5029123",
   "metadata": {},
   "outputs": [
    {
     "name": "stdout",
     "output_type": "stream",
     "text": [
      "[1, 2, 3, 44, 'god']\n"
     ]
    }
   ],
   "source": [
    "lst = [1,2,3,44,\"god\",2,4,\"krishn\",2,34]\n",
    "lst1 = []\n",
    "for i in lst:\n",
    "    l= lst1.append(i)\n",
    "    if l==\"good\":\n",
    "        break\n",
    "print(lst1[0:5])\n",
    "    \n",
    "    #break"
   ]
  },
  {
   "cell_type": "code",
   "execution_count": 75,
   "id": "64b68630",
   "metadata": {},
   "outputs": [
    {
     "name": "stdout",
     "output_type": "stream",
     "text": [
      "[10, 'god', 23, 10]\n",
      "[21, 323, 44, 40, 'krishn', 212, 34]\n"
     ]
    }
   ],
   "source": [
    "lst = [10,21,323,44,\"god\",23,40,\"krishn\",212,34,10]\n",
    "l = []\n",
    "other = []\n",
    "for i in lst:\n",
    "    #print(i)\n",
    "    if i == 10 or i==\"god\" or i==23:\n",
    "        l.append(i)\n",
    "    else:\n",
    "        other.append(i)           \n",
    "print(l)\n",
    "print(other)"
   ]
  },
  {
   "cell_type": "code",
   "execution_count": null,
   "id": "a632f3e1",
   "metadata": {},
   "outputs": [],
   "source": []
  },
  {
   "cell_type": "code",
   "execution_count": null,
   "id": "e7765879",
   "metadata": {},
   "outputs": [],
   "source": []
  },
  {
   "cell_type": "code",
   "execution_count": null,
   "id": "7e6bda2e",
   "metadata": {},
   "outputs": [],
   "source": []
  },
  {
   "cell_type": "code",
   "execution_count": 47,
   "id": "1e4e95e8",
   "metadata": {},
   "outputs": [
    {
     "name": "stdout",
     "output_type": "stream",
     "text": [
      "4\n"
     ]
    }
   ],
   "source": [
    "lst = [1,2,3,44,\"god\",2,4,\"krishn\",2,34]\n",
    "for i in lst:\n",
    "    if i==4:\n",
    "        print(i)"
   ]
  },
  {
   "cell_type": "markdown",
   "id": "cbb13d7c",
   "metadata": {},
   "source": [
    "# For loop can iterate on tuple"
   ]
  },
  {
   "cell_type": "code",
   "execution_count": 48,
   "id": "1fa97bf1",
   "metadata": {},
   "outputs": [
    {
     "name": "stdout",
     "output_type": "stream",
     "text": [
      "3\n",
      "2\n",
      "4\n",
      "2\n",
      "1\n",
      "3\n",
      "343\n",
      "2\n",
      "great\n",
      "good\n"
     ]
    }
   ],
   "source": [
    "tpl = (3,2,4,2,1,3,343,2,'great','good') # tuple\n",
    "for j in tpl:\n",
    "    print(j)"
   ]
  },
  {
   "cell_type": "markdown",
   "id": "276d9e46",
   "metadata": {},
   "source": [
    "# For loop on Dictinary"
   ]
  },
  {
   "cell_type": "code",
   "execution_count": 49,
   "id": "676fab4e",
   "metadata": {},
   "outputs": [
    {
     "name": "stdout",
     "output_type": "stream",
     "text": [
      "name\n",
      "age\n",
      "adress\n",
      "marks\n",
      "education\n"
     ]
    }
   ],
   "source": [
    "dict1 = {\"name\":\"Ramu\",'age':300,\"adress\":\"ABC chowk\"\n",
    "         ,\"marks\":99,\"education\":\"BE_IT\"} \n",
    "\n",
    "for k in dict1:\n",
    "    print(k)"
   ]
  },
  {
   "cell_type": "markdown",
   "id": "58cf1ada",
   "metadata": {},
   "source": [
    "# For loop on Set data structure"
   ]
  },
  {
   "cell_type": "code",
   "execution_count": 50,
   "id": "81aed07b",
   "metadata": {},
   "outputs": [
    {
     "name": "stdout",
     "output_type": "stream",
     "text": [
      "32\n",
      "vikas\n",
      "212\n",
      "54\n",
      "shayma\n"
     ]
    }
   ],
   "source": [
    "st1 = set([\"vikas\",\"shayma\",32,54,212]) \n",
    "for l in st1:\n",
    "    print(l)"
   ]
  },
  {
   "cell_type": "markdown",
   "id": "0bd56b3b",
   "metadata": {},
   "source": [
    "# For loop on String"
   ]
  },
  {
   "cell_type": "code",
   "execution_count": 53,
   "id": "9ca1b6ee",
   "metadata": {},
   "outputs": [
    {
     "name": "stdout",
     "output_type": "stream",
     "text": [
      "w\n",
      "e\n",
      "l\n",
      "c\n",
      "o\n",
      "m\n",
      "e\n"
     ]
    }
   ],
   "source": [
    "str = \"welcome\"\n",
    "for m in str:\n",
    "    print(m)"
   ]
  },
  {
   "cell_type": "markdown",
   "id": "59e28612",
   "metadata": {},
   "source": [
    "# use of  end keyword"
   ]
  },
  {
   "cell_type": "code",
   "execution_count": 54,
   "id": "76f6f426",
   "metadata": {},
   "outputs": [
    {
     "name": "stdout",
     "output_type": "stream",
     "text": [
      "welcome"
     ]
    }
   ],
   "source": [
    "str = \"welcome\"\n",
    "for m in str:\n",
    "    print(m,end = \"\")"
   ]
  },
  {
   "cell_type": "code",
   "execution_count": 55,
   "id": "f104a913",
   "metadata": {},
   "outputs": [
    {
     "name": "stdout",
     "output_type": "stream",
     "text": [
      "w e l c o m e "
     ]
    }
   ],
   "source": [
    "str = \"welcome\"\n",
    "for m in str:\n",
    "    print(m,end = \" \") # space "
   ]
  },
  {
   "cell_type": "code",
   "execution_count": 56,
   "id": "43e77306",
   "metadata": {},
   "outputs": [
    {
     "name": "stdout",
     "output_type": "stream",
     "text": [
      "w-e-l-c-o-m-e-"
     ]
    }
   ],
   "source": [
    "str = \"welcome\"\n",
    "for m in str:\n",
    "    print(m,end = \"-\") # - "
   ]
  },
  {
   "cell_type": "markdown",
   "id": "bf5ad4be",
   "metadata": {},
   "source": [
    "# For loop with condition"
   ]
  },
  {
   "cell_type": "code",
   "execution_count": 59,
   "id": "0ce9a314",
   "metadata": {},
   "outputs": [
    {
     "name": "stdout",
     "output_type": "stream",
     "text": [
      "21 43 31 31 45 2312 3 233 12 4 5 23 "
     ]
    }
   ],
   "source": [
    "lst11  = [21,43,31,31,45,2312,3,233,12,4,5,23]\n",
    "for d in lst11:\n",
    "    print(d,end=\" \")"
   ]
  },
  {
   "cell_type": "code",
   "execution_count": 60,
   "id": "7332bffe",
   "metadata": {},
   "outputs": [
    {
     "name": "stdout",
     "output_type": "stream",
     "text": [
      "odd 21\n",
      "odd 43\n",
      "odd 31\n",
      "odd 31\n",
      "odd 45\n",
      "even 2312\n",
      "odd 3\n",
      "odd 233\n",
      "even 12\n",
      "even 4\n",
      "odd 5\n",
      "odd 23\n"
     ]
    }
   ],
   "source": [
    "lst11  = [21,43,31,31,45,2312,3,233,12,4,5,23]\n",
    "for d in lst11:\n",
    "    #print(d,end=\" \")\n",
    "    if d%2==0: # 21 %2 == 0\n",
    "        print(\"even\",d)\n",
    "    else:\n",
    "        print(\"odd\",d)"
   ]
  },
  {
   "cell_type": "code",
   "execution_count": 61,
   "id": "bfa87e97",
   "metadata": {},
   "outputs": [
    {
     "data": {
      "text/plain": [
       "False"
      ]
     },
     "execution_count": 61,
     "metadata": {},
     "output_type": "execute_result"
    }
   ],
   "source": [
    "21 %2 == 0"
   ]
  },
  {
   "cell_type": "code",
   "execution_count": 62,
   "id": "33f22a57",
   "metadata": {},
   "outputs": [
    {
     "data": {
      "text/plain": [
       "True"
      ]
     },
     "execution_count": 62,
     "metadata": {},
     "output_type": "execute_result"
    }
   ],
   "source": [
    "2312%2 == 0"
   ]
  },
  {
   "cell_type": "code",
   "execution_count": 64,
   "id": "eb8cb1e8",
   "metadata": {},
   "outputs": [
    {
     "name": "stdout",
     "output_type": "stream",
     "text": [
      "Even numbers are: [2312, 12, 4]\n",
      "Odd numbers are: [21, 43, 31, 31, 45, 3, 233, 5, 23]\n"
     ]
    }
   ],
   "source": [
    "lst11  = [21,43,31,31,45,2312,3,233,12,4,5,23]\n",
    "even = []\n",
    "odd = []\n",
    "for d in lst11:\n",
    "    #print(d,end=\" \")\n",
    "    if d%2==0: # 21 %2 == 0\n",
    "        #print(\"even\",d)\n",
    "        even.append(d)\n",
    "    else:\n",
    "        #print(\"odd\",d)\n",
    "        odd.append(d)\n",
    "print(\"Even numbers are:\",even)\n",
    "print(\"Odd numbers are:\",odd)"
   ]
  },
  {
   "cell_type": "markdown",
   "id": "4695e077",
   "metadata": {},
   "source": [
    "# Range function in python"
   ]
  },
  {
   "cell_type": "code",
   "execution_count": 66,
   "id": "db067be5",
   "metadata": {},
   "outputs": [
    {
     "name": "stdout",
     "output_type": "stream",
     "text": [
      "range(0, 9)\n"
     ]
    }
   ],
   "source": [
    "#print(range(0,9))"
   ]
  },
  {
   "cell_type": "code",
   "execution_count": 68,
   "id": "c35df4de",
   "metadata": {},
   "outputs": [
    {
     "name": "stdout",
     "output_type": "stream",
     "text": [
      "0\n",
      "1\n",
      "2\n",
      "3\n",
      "4\n",
      "5\n",
      "6\n",
      "7\n",
      "8\n",
      "9\n"
     ]
    }
   ],
   "source": [
    "#Problem :print number from 0 to 9\n",
    "print(0)\n",
    "print(1)\n",
    "print(2)\n",
    "print(3)\n",
    "print(4)\n",
    "print(5)\n",
    "print(6)\n",
    "print(7)\n",
    "print(8)\n",
    "print(9)\n"
   ]
  },
  {
   "cell_type": "code",
   "execution_count": 69,
   "id": "60dd0665",
   "metadata": {},
   "outputs": [
    {
     "name": "stdout",
     "output_type": "stream",
     "text": [
      "[0, 1, 2, 3, 4, 5, 6, 7, 8, 9]\n"
     ]
    }
   ],
   "source": [
    "print(list(range(0,10)))"
   ]
  },
  {
   "cell_type": "code",
   "execution_count": 70,
   "id": "f3c191dc",
   "metadata": {},
   "outputs": [
    {
     "name": "stdout",
     "output_type": "stream",
     "text": [
      "0\n",
      "1\n",
      "2\n",
      "3\n",
      "4\n",
      "5\n",
      "6\n",
      "7\n",
      "8\n",
      "9\n"
     ]
    }
   ],
   "source": [
    "for i in range(0,10):\n",
    "    print(i)"
   ]
  },
  {
   "cell_type": "code",
   "execution_count": 72,
   "id": "5ca50e73",
   "metadata": {},
   "outputs": [
    {
     "name": "stdout",
     "output_type": "stream",
     "text": [
      "[0, 1, 2, 3, 4, 5, 6, 7, 8, 9, 10, 11, 12, 13, 14, 15, 16, 17, 18, 19, 20, 21, 22, 23, 24, 25, 26, 27, 28, 29, 30, 31, 32, 33, 34, 35, 36, 37, 38, 39, 40, 41, 42, 43, 44, 45, 46, 47, 48, 49, 50, 51, 52, 53, 54, 55, 56, 57, 58, 59, 60, 61, 62, 63, 64, 65, 66, 67, 68, 69, 70, 71, 72, 73, 74, 75, 76, 77, 78, 79, 80, 81, 82, 83, 84, 85, 86, 87, 88, 89, 90, 91, 92, 93, 94, 95, 96, 97, 98, 99]\n"
     ]
    }
   ],
   "source": [
    "print(list(range(0,100)))"
   ]
  },
  {
   "cell_type": "code",
   "execution_count": 74,
   "id": "ffe0c5cc",
   "metadata": {},
   "outputs": [
    {
     "name": "stdout",
     "output_type": "stream",
     "text": [
      "0 1 2 3 4 5 6 7 8 9 10 11 12 13 14 15 16 17 18 19 20 21 22 23 24 25 26 27 28 29 30 31 32 33 34 35 36 37 38 39 40 41 42 43 44 45 46 47 48 49 50 51 52 53 54 55 56 57 58 59 60 61 62 63 64 65 66 67 68 69 70 71 72 73 74 75 76 77 78 79 80 81 82 83 84 85 86 87 88 89 90 91 92 93 94 95 96 97 98 99 "
     ]
    }
   ],
   "source": [
    "for i in range(0,100):\n",
    "    print(i,end = \" \")"
   ]
  },
  {
   "cell_type": "markdown",
   "id": "73fce520",
   "metadata": {},
   "source": [
    "# Even numbers from 0 to 100"
   ]
  },
  {
   "cell_type": "code",
   "execution_count": 75,
   "id": "0b9df622",
   "metadata": {},
   "outputs": [
    {
     "name": "stdout",
     "output_type": "stream",
     "text": [
      "0 2 4 6 8 10 12 14 16 18 20 22 24 26 28 30 32 34 36 38 40 42 44 46 48 50 52 54 56 58 60 62 64 66 68 70 72 74 76 78 80 82 84 86 88 90 92 94 96 98 "
     ]
    }
   ],
   "source": [
    "for i in range(0,100,2): # start , end-1,steps\n",
    "    print(i,end = \" \")"
   ]
  },
  {
   "cell_type": "code",
   "execution_count": 77,
   "id": "3d9c91e6",
   "metadata": {},
   "outputs": [
    {
     "name": "stdout",
     "output_type": "stream",
     "text": [
      "100 101 102 103 104 105 106 107 108 109 110 111 112 113 114 115 116 117 118 119 120 121 122 123 124 125 126 127 128 129 130 131 132 133 134 135 136 137 138 139 140 141 142 143 144 145 146 147 148 149 150 151 152 153 154 155 156 157 158 159 160 161 162 163 164 165 166 167 168 169 170 171 172 173 174 175 176 177 178 179 180 181 182 183 184 185 186 187 188 189 190 191 192 193 194 195 196 197 198 199 "
     ]
    }
   ],
   "source": [
    "for i in range(100,200): # start , end-1\n",
    "    print(i,end = \" \")"
   ]
  },
  {
   "cell_type": "code",
   "execution_count": 80,
   "id": "dd3fdcee",
   "metadata": {},
   "outputs": [
    {
     "name": "stdout",
     "output_type": "stream",
     "text": [
      "100 102 104 106 108 110 112 114 116 118 120 122 124 126 128 130 132 134 136 138 140 142 144 146 148 150 152 154 156 158 160 162 164 166 168 170 172 174 176 178 180 182 184 186 188 190 192 194 196 198 "
     ]
    }
   ],
   "source": [
    "for i in range(100,200,2): # start , end-1,steps\n",
    "    print(i,end = \" \")"
   ]
  },
  {
   "cell_type": "markdown",
   "id": "3e32ae41",
   "metadata": {},
   "source": [
    "# Error s"
   ]
  },
  {
   "cell_type": "code",
   "execution_count": 82,
   "id": "7efdc9c7",
   "metadata": {},
   "outputs": [
    {
     "ename": "IndentationError",
     "evalue": "expected an indented block (2664448706.py, line 2)",
     "output_type": "error",
     "traceback": [
      "\u001b[0;36m  Input \u001b[0;32mIn [82]\u001b[0;36m\u001b[0m\n\u001b[0;31m    print(i,end = \" \")\u001b[0m\n\u001b[0m    ^\u001b[0m\n\u001b[0;31mIndentationError\u001b[0m\u001b[0;31m:\u001b[0m expected an indented block\n"
     ]
    }
   ],
   "source": [
    "for i in range(100,200,2):\n",
    "print(i,end = \" \")"
   ]
  },
  {
   "cell_type": "code",
   "execution_count": 83,
   "id": "9e71cbb8",
   "metadata": {},
   "outputs": [
    {
     "ename": "SyntaxError",
     "evalue": "invalid syntax (1949982623.py, line 1)",
     "output_type": "error",
     "traceback": [
      "\u001b[0;36m  Input \u001b[0;32mIn [83]\u001b[0;36m\u001b[0m\n\u001b[0;31m    for i in range(100,200,2)\u001b[0m\n\u001b[0m                             ^\u001b[0m\n\u001b[0;31mSyntaxError\u001b[0m\u001b[0;31m:\u001b[0m invalid syntax\n"
     ]
    }
   ],
   "source": [
    "for i in range(100,200,2)\n",
    "    print(i,end = \" \")"
   ]
  },
  {
   "cell_type": "code",
   "execution_count": 84,
   "id": "f4d16cf1",
   "metadata": {},
   "outputs": [
    {
     "ename": "SyntaxError",
     "evalue": "unexpected EOF while parsing (1084714008.py, line 2)",
     "output_type": "error",
     "traceback": [
      "\u001b[0;36m  Input \u001b[0;32mIn [84]\u001b[0;36m\u001b[0m\n\u001b[0;31m    print(i,end = \" \"\u001b[0m\n\u001b[0m                     ^\u001b[0m\n\u001b[0;31mSyntaxError\u001b[0m\u001b[0;31m:\u001b[0m unexpected EOF while parsing\n"
     ]
    }
   ],
   "source": [
    "for i in range(100,200,2):\n",
    "    print(i,end = \" \""
   ]
  },
  {
   "cell_type": "code",
   "execution_count": 85,
   "id": "c08dfe0f",
   "metadata": {},
   "outputs": [
    {
     "ename": "SyntaxError",
     "evalue": "cannot assign to literal (3985305164.py, line 1)",
     "output_type": "error",
     "traceback": [
      "\u001b[0;36m  Input \u001b[0;32mIn [85]\u001b[0;36m\u001b[0m\n\u001b[0;31m    for 1 in range(100,200,2):\u001b[0m\n\u001b[0m        ^\u001b[0m\n\u001b[0;31mSyntaxError\u001b[0m\u001b[0;31m:\u001b[0m cannot assign to literal\n"
     ]
    }
   ],
   "source": [
    "for 1 in range(100,200,2):\n",
    "    print(i,end = \" \""
   ]
  },
  {
   "cell_type": "code",
   "execution_count": 85,
   "id": "83bd7b20",
   "metadata": {},
   "outputs": [
    {
     "name": "stdout",
     "output_type": "stream",
     "text": [
      "100 102 104 106 108 110 112 114 116 118 120 122 124 126 128 130 132 134 136 138 140 142 144 146 148 150 152 154 156 158 160 162 164 166 168 170 172 174 176 178 180 182 184 186 188 190 192 194 196 198 "
     ]
    }
   ],
   "source": [
    "for i in rage(100,200,2):\n",
    "    print(i,end = \" \")"
   ]
  },
  {
   "cell_type": "code",
   "execution_count": 86,
   "id": "67147fd4",
   "metadata": {},
   "outputs": [
    {
     "name": "stdout",
     "output_type": "stream",
     "text": [
      "100 102 104 106 108 110 112 114 116 118 120 122 124 126 128 130 132 134 136 138 140 142 144 146 148 150 152 154 156 158 160 162 164 166 168 170 172 174 176 178 180 182 184 186 188 190 192 194 196 198 "
     ]
    }
   ],
   "source": [
    "for i in range(100,200,2):\n",
    "    print(i,end = \" \")"
   ]
  },
  {
   "cell_type": "code",
   "execution_count": 89,
   "id": "3df451e5",
   "metadata": {},
   "outputs": [],
   "source": [
    "greater = []\n",
    "smaller = []\n",
    "for i in range(100,200,2):\n",
    "    if i>150:\n",
    "        greater.append(i)\n",
    "    else:\n",
    "        smaller.append(i)\n",
    "        "
   ]
  },
  {
   "cell_type": "code",
   "execution_count": 90,
   "id": "2392f0d8",
   "metadata": {},
   "outputs": [
    {
     "name": "stdout",
     "output_type": "stream",
     "text": [
      "[152, 154, 156, 158, 160, 162, 164, 166, 168, 170, 172, 174, 176, 178, 180, 182, 184, 186, 188, 190, 192, 194, 196, 198]\n"
     ]
    }
   ],
   "source": [
    "print(greater)"
   ]
  },
  {
   "cell_type": "code",
   "execution_count": 91,
   "id": "1383c1a0",
   "metadata": {},
   "outputs": [
    {
     "name": "stdout",
     "output_type": "stream",
     "text": [
      "[100, 102, 104, 106, 108, 110, 112, 114, 116, 118, 120, 122, 124, 126, 128, 130, 132, 134, 136, 138, 140, 142, 144, 146, 148, 150]\n"
     ]
    }
   ],
   "source": [
    "print(smaller)"
   ]
  },
  {
   "cell_type": "markdown",
   "id": "0055ffd9",
   "metadata": {},
   "source": [
    "# Nested For loop"
   ]
  },
  {
   "cell_type": "code",
   "execution_count": 92,
   "id": "f1da9dcc",
   "metadata": {},
   "outputs": [
    {
     "name": "stdout",
     "output_type": "stream",
     "text": [
      "1\n",
      "2\n",
      "3\n",
      "4\n",
      "5\n",
      "6\n",
      "7\n"
     ]
    }
   ],
   "source": [
    "for i in range(1,8):\n",
    "    print(i)"
   ]
  },
  {
   "cell_type": "code",
   "execution_count": 86,
   "id": "ef16e6ae",
   "metadata": {},
   "outputs": [
    {
     "name": "stdout",
     "output_type": "stream",
     "text": [
      "10\n",
      "20\n",
      "340\n",
      "30.9\n"
     ]
    }
   ],
   "source": [
    "lst = [10,20,340,30.9]\n",
    "for i in lst:\n",
    "    print(i)"
   ]
  },
  {
   "cell_type": "code",
   "execution_count": null,
   "id": "f194bf96",
   "metadata": {},
   "outputs": [],
   "source": [
    "lst = [10,20,340,30.9]\n",
    "lst2 = [1,2]\n",
    "for i in lst:\n",
    "    for j in lst2:\n",
    "        print(j)\n",
    "    print(i)"
   ]
  },
  {
   "cell_type": "code",
   "execution_count": 92,
   "id": "759eaafb",
   "metadata": {},
   "outputs": [
    {
     "name": "stdout",
     "output_type": "stream",
     "text": [
      "0\n",
      "1\n",
      "2\n"
     ]
    }
   ],
   "source": []
  },
  {
   "cell_type": "code",
   "execution_count": 94,
   "id": "87e44acd",
   "metadata": {},
   "outputs": [
    {
     "name": "stdout",
     "output_type": "stream",
     "text": [
      "0\n",
      "1\n",
      "2\n",
      "3\n",
      "4\n"
     ]
    }
   ],
   "source": [
    "for i in range(5):\n",
    "    print(i)"
   ]
  },
  {
   "cell_type": "code",
   "execution_count": 96,
   "id": "2429af4d",
   "metadata": {},
   "outputs": [
    {
     "name": "stdout",
     "output_type": "stream",
     "text": [
      "0\n",
      "1\n",
      "2\n",
      "3\n"
     ]
    }
   ],
   "source": [
    "for j in range(4):\n",
    "    print(j)"
   ]
  },
  {
   "cell_type": "code",
   "execution_count": 100,
   "id": "32cacb17",
   "metadata": {},
   "outputs": [
    {
     "name": "stdout",
     "output_type": "stream",
     "text": [
      "***** 0\n",
      "------ 0\n",
      "------ 1\n",
      "------ 2\n",
      "------ 3\n",
      "***** 1\n",
      "------ 0\n",
      "------ 1\n",
      "------ 2\n",
      "------ 3\n",
      "***** 2\n",
      "------ 0\n",
      "------ 1\n",
      "------ 2\n",
      "------ 3\n",
      "***** 3\n",
      "------ 0\n",
      "------ 1\n",
      "------ 2\n",
      "------ 3\n",
      "***** 4\n",
      "------ 0\n",
      "------ 1\n",
      "------ 2\n",
      "------ 3\n"
     ]
    }
   ],
   "source": [
    "for i in range(5):\n",
    "    print(\"*****\",i)\n",
    "    for j in range(4):\n",
    "        print(\"------\",j)\n",
    "    "
   ]
  },
  {
   "cell_type": "code",
   "execution_count": null,
   "id": "ee02f2b8",
   "metadata": {},
   "outputs": [],
   "source": []
  },
  {
   "cell_type": "code",
   "execution_count": null,
   "id": "cddd31b9",
   "metadata": {},
   "outputs": [],
   "source": []
  },
  {
   "cell_type": "code",
   "execution_count": null,
   "id": "19525226",
   "metadata": {},
   "outputs": [],
   "source": []
  },
  {
   "cell_type": "code",
   "execution_count": 99,
   "id": "648f496f",
   "metadata": {},
   "outputs": [
    {
     "name": "stdout",
     "output_type": "stream",
     "text": [
      "outer loop\n",
      "outer loop\n"
     ]
    }
   ],
   "source": [
    "for i in range(0,3):# 0,1,2\n",
    "    print(\"outer loop\")\n",
    "#     for j in range(0,3):\n",
    "#         print(\"inner loop\")"
   ]
  },
  {
   "cell_type": "code",
   "execution_count": 98,
   "id": "9d22accd",
   "metadata": {},
   "outputs": [
    {
     "name": "stdout",
     "output_type": "stream",
     "text": [
      "outer loop\n",
      "outer loop\n",
      "outer loop\n",
      "outer loop\n",
      "outer loop\n",
      "outer loop\n",
      "outer loop\n"
     ]
    }
   ],
   "source": [
    "for i in range(0,7):# 0,1,2,3,4\n",
    "    print(\"outer loop\")"
   ]
  },
  {
   "cell_type": "code",
   "execution_count": 100,
   "id": "cf258e6c",
   "metadata": {},
   "outputs": [
    {
     "name": "stdout",
     "output_type": "stream",
     "text": [
      "outer loop\n",
      "outer loop\n"
     ]
    }
   ],
   "source": [
    "for i in range(1,3):# 1,2\n",
    "    print(\"outer loop\")"
   ]
  },
  {
   "cell_type": "code",
   "execution_count": null,
   "id": "63b7f58b",
   "metadata": {},
   "outputs": [],
   "source": []
  },
  {
   "cell_type": "code",
   "execution_count": 102,
   "id": "1f346945",
   "metadata": {},
   "outputs": [
    {
     "ename": "IndentationError",
     "evalue": "unexpected indent (1592195558.py, line 3)",
     "output_type": "error",
     "traceback": [
      "\u001b[0;36m  Input \u001b[0;32mIn [102]\u001b[0;36m\u001b[0m\n\u001b[0;31m    for j in range(0,3): # 0,1,2\u001b[0m\n\u001b[0m    ^\u001b[0m\n\u001b[0;31mIndentationError\u001b[0m\u001b[0;31m:\u001b[0m unexpected indent\n"
     ]
    }
   ],
   "source": [
    "for i in range(0,3):# 0,1,2\n",
    "    print(\"outer loop\")\n",
    "        for j in range(0,3): # 0,1,2\n",
    "        print(\"inner loop\")"
   ]
  },
  {
   "cell_type": "code",
   "execution_count": 104,
   "id": "5d23d7e2",
   "metadata": {},
   "outputs": [
    {
     "name": "stdout",
     "output_type": "stream",
     "text": [
      "outer loop\n",
      "inner loop\n",
      "inner loop\n",
      "inner loop\n",
      "outer loop\n",
      "inner loop\n",
      "inner loop\n",
      "inner loop\n",
      "outer loop\n",
      "inner loop\n",
      "inner loop\n",
      "inner loop\n"
     ]
    }
   ],
   "source": [
    "for i in range(0,3):# 0,1,2\n",
    "    print(\"outer loop\")\n",
    "    for j in range(0,3): # 0,1,2\n",
    "            print(\"inner loop\")"
   ]
  },
  {
   "cell_type": "code",
   "execution_count": 5,
   "id": "1695c7f1",
   "metadata": {},
   "outputs": [
    {
     "name": "stdout",
     "output_type": "stream",
     "text": [
      "outer loop\n",
      "outer loop\n",
      "outer loop\n"
     ]
    }
   ],
   "source": [
    "#num = int(input(\"enter a number:\"))\n",
    "num1 = list(range(3))\n",
    "for i in num1:# 0,1,2\n",
    "    print(\"outer loop\")\n"
   ]
  },
  {
   "cell_type": "code",
   "execution_count": 1,
   "id": "21f89d49",
   "metadata": {},
   "outputs": [],
   "source": [
    "# num = int(input(\"enter a number:\"))\n",
    "# i = 0\n",
    "# while num>1:\n",
    "#     print(\"greavhjadhsa\")\n",
    "#     i+=1"
   ]
  },
  {
   "cell_type": "markdown",
   "id": "ce1ea87a",
   "metadata": {},
   "source": [
    "# Taking input from user and applying for loop on the same"
   ]
  },
  {
   "cell_type": "code",
   "execution_count": 3,
   "id": "64f1702a",
   "metadata": {},
   "outputs": [
    {
     "name": "stdout",
     "output_type": "stream",
     "text": [
      "enter a number:10\n",
      "1\n",
      "2\n",
      "3\n",
      "4\n",
      "5\n",
      "6\n",
      "7\n",
      "8\n",
      "9\n"
     ]
    }
   ],
   "source": [
    "num = int(input(\"enter a number:\"))\n",
    "for i in range(num):\n",
    "    print(i)"
   ]
  },
  {
   "cell_type": "code",
   "execution_count": 6,
   "id": "d7c795e6",
   "metadata": {},
   "outputs": [
    {
     "name": "stdout",
     "output_type": "stream",
     "text": [
      "Enter a number:12\n",
      "1\n",
      "2\n",
      "3\n",
      "4\n",
      "5\n",
      "6\n",
      "7\n",
      "8\n",
      "9\n",
      "10\n",
      "11\n"
     ]
    }
   ],
   "source": [
    "num = int(input(\"Enter a number:\"))\n",
    "for i in range(1,num):\n",
    "    print(i)"
   ]
  },
  {
   "cell_type": "code",
   "execution_count": 7,
   "id": "bba38998",
   "metadata": {},
   "outputs": [
    {
     "name": "stdout",
     "output_type": "stream",
     "text": [
      "Enter a number:12\n",
      "1\n",
      "3\n",
      "5\n",
      "7\n",
      "9\n",
      "11\n"
     ]
    }
   ],
   "source": [
    "num = int(input(\"Enter a number:\"))\n",
    "for i in range(1,num,2):\n",
    "    print(i)"
   ]
  },
  {
   "cell_type": "markdown",
   "id": "1358fc90",
   "metadata": {},
   "source": [
    "# Nested"
   ]
  },
  {
   "cell_type": "code",
   "execution_count": 8,
   "id": "005d752e",
   "metadata": {},
   "outputs": [
    {
     "name": "stdout",
     "output_type": "stream",
     "text": [
      "outer loop\n",
      "inner loop\n",
      "inner loop\n",
      "inner loop\n",
      "outer loop\n",
      "inner loop\n",
      "inner loop\n",
      "inner loop\n",
      "outer loop\n",
      "inner loop\n",
      "inner loop\n",
      "inner loop\n"
     ]
    }
   ],
   "source": [
    "for i in range(0,3):# 0,1,2\n",
    "    print(\"outer loop\")\n",
    "    for j in range(0,3): # 0,1,2\n",
    "            print(\"inner loop\")"
   ]
  },
  {
   "cell_type": "code",
   "execution_count": 13,
   "id": "471e85a1",
   "metadata": {},
   "outputs": [
    {
     "name": "stdout",
     "output_type": "stream",
     "text": [
      "outer loop\n",
      "First inner loop\n",
      "second inner loop\n",
      "second inner loop\n",
      "second inner loop\n",
      "First inner loop\n",
      "second inner loop\n",
      "second inner loop\n",
      "second inner loop\n",
      "First inner loop\n",
      "second inner loop\n",
      "second inner loop\n",
      "second inner loop\n",
      "outer loop\n",
      "First inner loop\n",
      "second inner loop\n",
      "second inner loop\n",
      "second inner loop\n",
      "First inner loop\n",
      "second inner loop\n",
      "second inner loop\n",
      "second inner loop\n",
      "First inner loop\n",
      "second inner loop\n",
      "second inner loop\n",
      "second inner loop\n",
      "outer loop\n",
      "First inner loop\n",
      "second inner loop\n",
      "second inner loop\n",
      "second inner loop\n",
      "First inner loop\n",
      "second inner loop\n",
      "second inner loop\n",
      "second inner loop\n",
      "First inner loop\n",
      "second inner loop\n",
      "second inner loop\n",
      "second inner loop\n"
     ]
    }
   ],
   "source": [
    "for i in range(0,3):# 0,1,2\n",
    "    print(\"outer loop\")\n",
    "    for j in range(0,3): # 0,1,2,3\n",
    "            print(\"First inner loop\")\n",
    "            for k in range(0,3):\n",
    "                print(\"second inner loop\")"
   ]
  },
  {
   "cell_type": "code",
   "execution_count": 15,
   "id": "e8b97d1d",
   "metadata": {},
   "outputs": [
    {
     "name": "stdout",
     "output_type": "stream",
     "text": [
      "outer loop\n",
      "outer loop\n",
      "outer loop\n"
     ]
    }
   ],
   "source": [
    "for i in range(3):\n",
    "    print(\"outer loop\")\n"
   ]
  },
  {
   "cell_type": "code",
   "execution_count": 16,
   "id": "dd34c7f5",
   "metadata": {},
   "outputs": [
    {
     "name": "stdout",
     "output_type": "stream",
     "text": [
      "First inner loop\n",
      "First inner loop\n",
      "First inner loop\n"
     ]
    }
   ],
   "source": [
    "for j in range(0,3):\n",
    "    print(\"First inner loop\")"
   ]
  },
  {
   "cell_type": "code",
   "execution_count": 20,
   "id": "243664f3",
   "metadata": {},
   "outputs": [
    {
     "name": "stdout",
     "output_type": "stream",
     "text": [
      "outer loop\n",
      "1\n",
      "outer loop\n",
      "1\n",
      "outer loop\n",
      "1\n"
     ]
    }
   ],
   "source": [
    "for i in range(3):\n",
    "    print(\"outer loop\")\n",
    "    print(1)\n",
    "    \n",
    "    "
   ]
  },
  {
   "cell_type": "code",
   "execution_count": 24,
   "id": "31038cc9",
   "metadata": {},
   "outputs": [
    {
     "name": "stdout",
     "output_type": "stream",
     "text": [
      "outer loop\n",
      "1\n",
      "1\n",
      "1\n",
      "outer loop\n",
      "1\n",
      "1\n",
      "1\n",
      "outer loop\n",
      "1\n",
      "1\n",
      "1\n"
     ]
    }
   ],
   "source": [
    "for i in range(3):\n",
    "    print(\"outer loop\")\n",
    "    for j in range(3):\n",
    "        print(\"1\")"
   ]
  },
  {
   "cell_type": "code",
   "execution_count": 25,
   "id": "31018084",
   "metadata": {},
   "outputs": [
    {
     "name": "stdout",
     "output_type": "stream",
     "text": [
      "outer loop\n",
      "outer loop\n",
      "outer loop\n",
      "1\n",
      "1\n",
      "1\n"
     ]
    }
   ],
   "source": [
    "for i in range(3):\n",
    "    print(\"outer loop\")\n",
    "for j in range(3):\n",
    "    print(\"1\")"
   ]
  },
  {
   "cell_type": "code",
   "execution_count": 29,
   "id": "9207725c",
   "metadata": {},
   "outputs": [
    {
     "name": "stdout",
     "output_type": "stream",
     "text": [
      "0\n",
      "1\n",
      "2\n",
      "3\n",
      "4\n",
      "0\n",
      "1\n",
      "2\n",
      "3\n",
      "4\n",
      "5\n"
     ]
    }
   ],
   "source": [
    "for i in range(5):\n",
    "    print(i)\n",
    "for j in range(6):\n",
    "    print(j)\n",
    "    "
   ]
  },
  {
   "cell_type": "code",
   "execution_count": 30,
   "id": "b0f0fe04",
   "metadata": {},
   "outputs": [
    {
     "name": "stdout",
     "output_type": "stream",
     "text": [
      "[12, 13, 14, 15]\n",
      "[12, 13, 14, 15, 22, 23, 24, 25]\n",
      "[12, 13, 14, 15, 22, 23, 24, 25, 32, 33, 34, 35]\n",
      "[12, 13, 14, 15, 22, 23, 24, 25, 32, 33, 34, 35, 42, 43, 44, 45]\n"
     ]
    }
   ],
   "source": [
    "lst1 = [10,20,30,40]\n",
    "lst2 = [2,3,4,5]\n",
    "result = []\n",
    "for i in lst1:\n",
    "    for j in lst2:\n",
    "        result.append(i+j)\n",
    "    print(result)\n",
    "        \n"
   ]
  },
  {
   "cell_type": "code",
   "execution_count": 31,
   "id": "f56ba079",
   "metadata": {},
   "outputs": [
    {
     "name": "stdout",
     "output_type": "stream",
     "text": [
      "[12, 13, 14, 15, 22, 23, 24, 25, 32, 33, 34, 35, 42, 43, 44, 45]\n"
     ]
    }
   ],
   "source": [
    "lst1 = [10,20,30,40]\n",
    "lst2 = [2,3,4,5]\n",
    "result = []\n",
    "for i in lst1:\n",
    "    for j in lst2:\n",
    "        result.append(i+j)\n",
    "    print(result)"
   ]
  },
  {
   "cell_type": "code",
   "execution_count": 35,
   "id": "f6acae8b",
   "metadata": {},
   "outputs": [
    {
     "name": "stdout",
     "output_type": "stream",
     "text": [
      "first loop: 10\n",
      "second loop 2\n",
      "second loop 3\n",
      "[12, 13]\n",
      "first loop: 20\n",
      "second loop 2\n",
      "second loop 3\n",
      "[12, 13, 22, 23]\n"
     ]
    }
   ],
   "source": [
    "lst1 = [10,20]\n",
    "lst2 = [2,3]\n",
    "result = []\n",
    "for i in lst1:\n",
    "    print(\"first loop:\",i)\n",
    "    for j in lst2:\n",
    "        print(\"second loop\",j)\n",
    "        result.append(i+j)\n",
    "    print(result)"
   ]
  },
  {
   "cell_type": "code",
   "execution_count": 38,
   "id": "aac38577",
   "metadata": {},
   "outputs": [
    {
     "name": "stdout",
     "output_type": "stream",
     "text": [
      "first loop: 10\n",
      "first loop: 20\n",
      "[22]\n",
      "[22, 23]\n"
     ]
    }
   ],
   "source": [
    "lst1 = [10,20]\n",
    "lst2 = [2,3]\n",
    "result = []\n",
    "for i in lst1:\n",
    "    print(\"first loop:\",i)\n",
    "    for j in lst2:\n",
    "        result.append(i+j)\n",
    "        print(result)"
   ]
  },
  {
   "cell_type": "code",
   "execution_count": 43,
   "id": "49b8ffd9",
   "metadata": {},
   "outputs": [
    {
     "name": "stdout",
     "output_type": "stream",
     "text": [
      "[6, 7, 8, 9]\n"
     ]
    }
   ],
   "source": [
    "lst1 = []\n",
    "for i in range(3):\n",
    "    #print(i)\n",
    "    for j in range(10):\n",
    "        if j>5:\n",
    "           lst1.append(j)\n",
    "    print(lst1)\n",
    "    break"
   ]
  },
  {
   "cell_type": "code",
   "execution_count": 44,
   "id": "f89b991e",
   "metadata": {},
   "outputs": [
    {
     "name": "stdout",
     "output_type": "stream",
     "text": [
      "[6, 7, 8, 9]\n"
     ]
    }
   ],
   "source": [
    "lst1 = []\n",
    "for j in range(10):\n",
    "    if j>5:\n",
    "        lst1.append(j)\n",
    "print(lst1)\n"
   ]
  },
  {
   "cell_type": "code",
   "execution_count": 45,
   "id": "c8bc6ee4",
   "metadata": {},
   "outputs": [
    {
     "name": "stdout",
     "output_type": "stream",
     "text": [
      "[0, 1, 2, 3, 4]\n"
     ]
    }
   ],
   "source": [
    "lst1 = []\n",
    "for j in range(10):\n",
    "    if j<5:\n",
    "        lst1.append(j)\n",
    "print(lst1)"
   ]
  },
  {
   "cell_type": "code",
   "execution_count": 46,
   "id": "b3143dae",
   "metadata": {},
   "outputs": [
    {
     "name": "stdout",
     "output_type": "stream",
     "text": [
      "[0, 1, 2, 3, 4, 5, 6, 7, 8, 9, 10, 11, 12, 13, 14, 15, 16, 17, 18, 19, 20, 21, 22, 23, 24, 25, 26, 27, 28, 29, 30, 31, 32, 33, 34, 35, 36, 37, 38, 39, 40, 41, 42, 43]\n"
     ]
    }
   ],
   "source": [
    "lst1 = []\n",
    "for j in range(100):\n",
    "    if j<44:\n",
    "        lst1.append(j)\n",
    "print(lst1)"
   ]
  },
  {
   "cell_type": "code",
   "execution_count": 49,
   "id": "2d1dad9c",
   "metadata": {},
   "outputs": [
    {
     "name": "stdout",
     "output_type": "stream",
     "text": [
      "0 2 4 6 8 10 12 14 16 18 20 22 24 26 28 30 32 34 36 38 40 42 44 46 48 50 52 54 56 58 60 62 64 66 68 70 72 74 76 78 80 82 84 86 88 90 92 94 96 98 "
     ]
    }
   ],
   "source": [
    "#lst1 = []\n",
    "for j in range(0,100,2):\n",
    "    print(j,end = \" \")"
   ]
  },
  {
   "cell_type": "code",
   "execution_count": 56,
   "id": "ef7ea9a2",
   "metadata": {},
   "outputs": [
    {
     "name": "stdout",
     "output_type": "stream",
     "text": [
      "@\n",
      "1 @\n",
      "@\n",
      "3 @\n",
      "@\n",
      "5 @\n",
      "@\n",
      "7 @\n",
      "@\n",
      "9 @\n",
      "@\n",
      "11 @\n",
      "@\n",
      "13 @\n",
      "@\n",
      "15 @\n",
      "@\n",
      "17 @\n",
      "@\n",
      "19 @\n",
      "@\n",
      "21 @\n",
      "@\n",
      "23 @\n",
      "@\n",
      "25 @\n",
      "@\n",
      "27 @\n",
      "@\n",
      "29 @\n",
      "@\n",
      "31 @\n",
      "@\n",
      "33 @\n",
      "@\n",
      "35 @\n",
      "@\n",
      "37 @\n",
      "@\n",
      "39 @\n",
      "@\n",
      "41 @\n",
      "@\n",
      "43 @\n",
      "@\n",
      "45 @\n",
      "@\n",
      "47 @\n",
      "@\n",
      "49 @\n",
      "@\n",
      "51 @\n",
      "@\n",
      "53 @\n",
      "@\n",
      "55 @\n",
      "@\n",
      "57 @\n",
      "@\n",
      "59 @\n",
      "@\n",
      "61 @\n",
      "@\n",
      "63 @\n",
      "@\n",
      "65 @\n",
      "@\n",
      "67 @\n",
      "@\n",
      "69 @\n",
      "@\n",
      "71 @\n",
      "@\n",
      "73 @\n",
      "@\n",
      "75 @\n",
      "@\n",
      "77 @\n",
      "@\n",
      "79 @\n",
      "@\n",
      "81 @\n",
      "@\n",
      "83 @\n",
      "@\n",
      "85 @\n",
      "@\n",
      "87 @\n",
      "@\n",
      "89 @\n",
      "@\n",
      "91 @\n",
      "@\n",
      "93 @\n",
      "@\n",
      "95 @\n",
      "@\n",
      "97 @\n",
      "@\n",
      "99 @\n"
     ]
    }
   ],
   "source": [
    "for j in range(0,100):\n",
    "    if j%2!=0:\n",
    "        print(j,end = \" \")\n",
    "    print(\"@\")\n",
    "#     for j in range(3):\n",
    "#         print('------')"
   ]
  },
  {
   "cell_type": "code",
   "execution_count": 54,
   "id": "20886d7a",
   "metadata": {},
   "outputs": [
    {
     "name": "stdout",
     "output_type": "stream",
     "text": [
      "1 3 5 7 9 11 13 15 17 19 21 23 25 27 29 31 33 35 37 39 41 43 45 47 49 51 53 55 57 59 61 63 65 67 69 71 73 75 77 79 81 83 85 87 89 91 93 95 97 99 @\n"
     ]
    }
   ],
   "source": [
    "for j in range(0,100):\n",
    "    if j%2!=0:\n",
    "        print(j,end = \" \")\n",
    "print(\"@\")"
   ]
  },
  {
   "cell_type": "code",
   "execution_count": 65,
   "id": "34fb79ed",
   "metadata": {},
   "outputs": [
    {
     "name": "stdout",
     "output_type": "stream",
     "text": [
      "1 3 5 7 9 11 13 15 17 19 21 23 25 27 29 31 33 35 37 39 41 43 45 47 49 51 53 55 57 59 61 63 65 67 69 71 73 75 77 79 81 83 85 87 89 91 93 95 97 99 @\n",
      "------\n",
      "------\n",
      "------\n"
     ]
    }
   ],
   "source": [
    "for j in range(0,100):\n",
    "    if j%2!=0:\n",
    "        print(j,end = \" \")\n",
    "print(\"@\")\n",
    "for j in range(3):\n",
    "    print('------')\n",
    "    "
   ]
  },
  {
   "cell_type": "code",
   "execution_count": null,
   "id": "eb6dc08c",
   "metadata": {},
   "outputs": [],
   "source": [
    "for j in range(0,100):\n",
    "    if j%2!=0:\n",
    "        print(j,end = \" \")\n",
    "    else:\n",
    "        if j==4:\n",
    "            print(\"the value is equal to j\",j)\n",
    "num = int(input(\"Enter number:\"))\n",
    "for j in range(num):\n",
    "    print('------')\n",
    "else:\n",
    "    print(\"Terminate\")\n"
   ]
  },
  {
   "cell_type": "code",
   "execution_count": 15,
   "id": "88120792",
   "metadata": {},
   "outputs": [
    {
     "name": "stdout",
     "output_type": "stream",
     "text": [
      "2\n",
      "3\n",
      "4\n",
      "the number is prime\n"
     ]
    }
   ],
   "source": [
    "num = 11\n",
    "if num>1:\n",
    "    for i in range(2,int(num/2)):\n",
    "        print(i)\n",
    "        if num%i==0:\n",
    "            print(\"the nums is not prime\")\n",
    "            break\n",
    "    else:\n",
    "        print(\"the number is prime\")"
   ]
  },
  {
   "cell_type": "code",
   "execution_count": null,
   "id": "0814e653",
   "metadata": {},
   "outputs": [],
   "source": []
  }
 ],
 "metadata": {
  "kernelspec": {
   "display_name": "Python 3",
   "language": "python",
   "name": "python3"
  },
  "language_info": {
   "codemirror_mode": {
    "name": "ipython",
    "version": 3
   },
   "file_extension": ".py",
   "mimetype": "text/x-python",
   "name": "python",
   "nbconvert_exporter": "python",
   "pygments_lexer": "ipython3",
   "version": "3.10.16"
  }
 },
 "nbformat": 4,
 "nbformat_minor": 5
}
