{
 "cells": [
  {
   "cell_type": "code",
   "execution_count": null,
   "metadata": {
    "id": "oda6uSIj2j3z"
   },
   "outputs": [],
   "source": []
  },
  {
   "cell_type": "markdown",
   "metadata": {
    "id": "pf9USrKEBLld"
   },
   "source": [
    "# Welcome to the function in Python"
   ]
  },
  {
   "cell_type": "markdown",
   "metadata": {
    "id": "iGKA2KvxBEfG"
   },
   "source": [
    "# Function in Session"
   ]
  },
  {
   "cell_type": "code",
   "execution_count": null,
   "metadata": {
    "colab": {
     "base_uri": "https://localhost:8080/"
    },
    "id": "MzjO_zsFBD-F",
    "outputId": "9c72564b-c09e-4f15-8e9d-02af24b60e53"
   },
   "outputs": [
    {
     "name": "stdout",
     "output_type": "stream",
     "text": [
      "22\n"
     ]
    }
   ],
   "source": [
    "num1  =  12\n",
    "num2 = 10\n",
    "print(num1+num2)\n",
    "#######################\n",
    "n = 100\n",
    "n1 = 387\n",
    "print(n+n1)"
   ]
  },
  {
   "cell_type": "code",
   "execution_count": null,
   "metadata": {
    "id": "ZVRM05CgBS-x"
   },
   "outputs": [],
   "source": [
    "#Type of Function\n",
    "\n",
    " # biult in function\n",
    " # User define function\n",
    "\n",
    "\n",
    "# Biult in function\n",
    "# print()\n",
    "# append()\n",
    "# insert()\n",
    "# len()\n",
    "# type()\n",
    "# update()\n",
    "# min()\n",
    "# max()\n",
    "# id()\n",
    "# sort()\n",
    "# slice()\n",
    "# upper()\n",
    "# lower()\n",
    "# union()\n",
    "# intersection()\n",
    "# range()\n",
    "# search()\n",
    "\n"
   ]
  },
  {
   "cell_type": "code",
   "execution_count": null,
   "metadata": {
    "id": "R5aXto06BTBI"
   },
   "outputs": [],
   "source": []
  },
  {
   "cell_type": "code",
   "execution_count": null,
   "metadata": {
    "id": "AZ4XsEELBTDq"
   },
   "outputs": [],
   "source": []
  },
  {
   "cell_type": "code",
   "execution_count": null,
   "metadata": {
    "id": "HvwjXcnLBTGC"
   },
   "outputs": [],
   "source": []
  },
  {
   "cell_type": "code",
   "execution_count": null,
   "metadata": {
    "id": "HKCQrc1NBTIG"
   },
   "outputs": [],
   "source": []
  },
  {
   "cell_type": "markdown",
   "metadata": {
    "id": "dttYh3yN2zNI"
   },
   "source": [
    "## What is a function in Python?\n",
    "In Python, a function is a group of related statements that performs a specific task.\n",
    "\n",
    "Functions help break our program into smaller and modular chunks. As our program grows larger and larger, functions make it more organized and manageable.\n",
    "\n",
    "Furthermore, it avoids repetition and makes the code reusable.\n",
    "\n",
    "# Syntax of Function:\n",
    "\n",
    "***def function_name(parameters):***\n",
    "\n",
    "\t\"\"\"docstring\"\"\"\n",
    "\tstatement(s)\n",
    "\n",
    "\n",
    "Above shown is a function definition that consists of the following components.\n",
    "\n",
    "1. Keyword def that marks the start of the function header.\n",
    "\n",
    "2. A function name to uniquely identify the function. Function naming follows the same rules of writing identifiers in Python.\n",
    "\n",
    "3. Parameters (arguments) through which we pass values to a function. They are optional.\n",
    "\n",
    "4. A colon (:) to mark the end of the function header.\n",
    "Optional documentation string (docstring) to describe what the function does.\n",
    "\n",
    "5. One or more valid python statements that make up the function body. Statements must have the same indentation level (usually 4 spaces).\n",
    "\n",
    "6. An optional return statement to return a value from the function."
   ]
  },
  {
   "cell_type": "markdown",
   "metadata": {
    "id": "LFXvB6sdR5rj"
   },
   "source": [
    "## Creating a Function"
   ]
  },
  {
   "cell_type": "code",
   "execution_count": null,
   "metadata": {
    "id": "bCpS2AEMSC7u"
   },
   "outputs": [],
   "source": [
    "def function_name():\n",
    "    pass # empty function"
   ]
  },
  {
   "cell_type": "code",
   "execution_count": null,
   "metadata": {},
   "outputs": [],
   "source": []
  },
  {
   "cell_type": "code",
   "execution_count": 14,
   "metadata": {},
   "outputs": [
    {
     "name": "stdout",
     "output_type": "stream",
     "text": [
      "welcome home\n",
      "57\n"
     ]
    }
   ],
   "source": [
    "def detail_college():\n",
    "    print(\"welcome home\")\n",
    "    v = 23+34\n",
    "    print(v)\n",
    "    \n",
    "detail_college() # function call"
   ]
  },
  {
   "cell_type": "markdown",
   "metadata": {
    "id": "RDNiH-vS32WV"
   },
   "source": [
    "## Example on Function"
   ]
  },
  {
   "cell_type": "code",
   "execution_count": null,
   "metadata": {
    "id": "sq3SgLYc21NJ"
   },
   "outputs": [],
   "source": []
  },
  {
   "cell_type": "code",
   "execution_count": null,
   "metadata": {
    "id": "ihrGD0XF4MVI"
   },
   "outputs": [],
   "source": [
    "def my_function():\n",
    "    print(\"Hello you r in function body\")"
   ]
  },
  {
   "cell_type": "markdown",
   "metadata": {
    "id": "9hd1SM9Q4-HP"
   },
   "source": [
    "## Function Call\n",
    "\n",
    "\n",
    "**How to call a function in python?**\n",
    "\n",
    "Once we have defined a function, we can call it from another function, program, or even the Python prompt. \n",
    "\n",
    "To call a function we simply type the function name with appropriate parameters."
   ]
  },
  {
   "cell_type": "code",
   "execution_count": null,
   "metadata": {
    "colab": {
     "base_uri": "https://localhost:8080/"
    },
    "id": "AWn64Lpn4p3S",
    "outputId": "12cbf7e7-964d-48a3-8366-42d1a13ba08c"
   },
   "outputs": [
    {
     "name": "stdout",
     "output_type": "stream",
     "text": [
      "Welcome to PurpleHatInstitute\n"
     ]
    }
   ],
   "source": [
    "def first_fun():\n",
    "  print(\"Welcome to PurpleHatInstitute\")\n",
    "\n",
    "first_fun() # function call"
   ]
  },
  {
   "cell_type": "code",
   "execution_count": null,
   "metadata": {
    "colab": {
     "base_uri": "https://localhost:8080/"
    },
    "id": "8gZA9m0C5GID",
    "outputId": "5fac9bc7-97f7-428f-d308-062c20cc5fc8"
   },
   "outputs": [
    {
     "name": "stdout",
     "output_type": "stream",
     "text": [
      "Hello you r in function body\n"
     ]
    }
   ],
   "source": [
    "def my_function():\n",
    "  print(\"Hello you r in function body\")\n",
    "\n",
    "\n",
    "my_function()"
   ]
  },
  {
   "cell_type": "code",
   "execution_count": null,
   "metadata": {
    "id": "R5BvXxwm5Kv3"
   },
   "outputs": [],
   "source": [
    "# create ramdome 10 function and call them with respect to their name"
   ]
  },
  {
   "cell_type": "markdown",
   "metadata": {
    "id": "-5odRl0TSPRR"
   },
   "source": [
    "# Arguments\n",
    "Information can be passed into functions as arguments.\n",
    "\n",
    "Arguments are specified after the function name, inside the parentheses. You can add as many arguments as you want, just separate them with a comma.\n",
    "\n",
    "The following example has a function with one argument (fname). When the function is called, we pass along a first name, which is used inside the function to print the full name:"
   ]
  },
  {
   "cell_type": "code",
   "execution_count": null,
   "metadata": {},
   "outputs": [],
   "source": []
  },
  {
   "cell_type": "code",
   "execution_count": null,
   "metadata": {},
   "outputs": [],
   "source": [
    "def detail_college():\n",
    "    print(\"welcome home\")\n",
    "    v = 23+34\n",
    "    print(v)\n",
    "    \n",
    "detail_college() # function call"
   ]
  },
  {
   "cell_type": "markdown",
   "metadata": {
    "id": "DQbm-v_tWWfY"
   },
   "source": [
    "**Example 1**"
   ]
  },
  {
   "cell_type": "code",
   "execution_count": null,
   "metadata": {
    "id": "GAZZsI75SRhe"
   },
   "outputs": [],
   "source": [
    "def greet(name):\n",
    "    \"\"\"\n",
    "    In this function we take single argument 'name'\n",
    "    \"\"\"\n",
    "    print(\"Hello, \" + name + \". Good morning!\")"
   ]
  },
  {
   "cell_type": "code",
   "execution_count": 21,
   "metadata": {},
   "outputs": [
    {
     "name": "stdout",
     "output_type": "stream",
     "text": [
      "welcome  Harshada Welcome pooja\n"
     ]
    }
   ],
   "source": [
    "def welcome(student1,student2):\n",
    "    print(\"welcome \",student1,\"Welcome\",student2)\n",
    "welcome(\"Harshada\",\"pooja\")"
   ]
  },
  {
   "cell_type": "code",
   "execution_count": 23,
   "metadata": {},
   "outputs": [
    {
     "ename": "TypeError",
     "evalue": "welcome() missing 1 required positional argument: 'student1'",
     "output_type": "error",
     "traceback": [
      "\u001b[0;31m---------------------------------------------------------------------------\u001b[0m",
      "\u001b[0;31mTypeError\u001b[0m                                 Traceback (most recent call last)",
      "Input \u001b[0;32mIn [23]\u001b[0m, in \u001b[0;36m<cell line: 3>\u001b[0;34m()\u001b[0m\n\u001b[1;32m      1\u001b[0m \u001b[38;5;28;01mdef\u001b[39;00m \u001b[38;5;21mwelcome\u001b[39m(student2,student1):\n\u001b[1;32m      2\u001b[0m     \u001b[38;5;28mprint\u001b[39m(\u001b[38;5;124m\"\u001b[39m\u001b[38;5;124mwelcome \u001b[39m\u001b[38;5;124m\"\u001b[39m,student1,\u001b[38;5;124m\"\u001b[39m\u001b[38;5;124mWelcome\u001b[39m\u001b[38;5;124m\"\u001b[39m,student2)\n\u001b[0;32m----> 3\u001b[0m \u001b[43mwelcome\u001b[49m\u001b[43m(\u001b[49m\u001b[38;5;124;43m\"\u001b[39;49m\u001b[38;5;124;43mHarshada\u001b[39;49m\u001b[38;5;124;43m\"\u001b[39;49m\u001b[43m)\u001b[49m\n",
      "\u001b[0;31mTypeError\u001b[0m: welcome() missing 1 required positional argument: 'student1'"
     ]
    }
   ],
   "source": [
    "def welcome(student2,student1):\n",
    "    print(\"welcome \",student1,\"Welcome\",student2)\n",
    "welcome(\"Harshada\")"
   ]
  },
  {
   "cell_type": "code",
   "execution_count": 26,
   "metadata": {},
   "outputs": [
    {
     "name": "stdout",
     "output_type": "stream",
     "text": [
      "Please enter your good name:harshada\n",
      "Please enter your good name1:pooja\n",
      "welcome  harshada Welcome pooja\n"
     ]
    }
   ],
   "source": [
    "def welcome(student1,student2):\n",
    "    \n",
    "    print(\"welcome \",student1,\"Welcome\",student2)\n",
    "    \n",
    "name = input(\"Please enter your good name:\")\n",
    "name1 = input(\"Please enter your good name1:\")\n",
    "\n",
    "welcome(name,name1)"
   ]
  },
  {
   "cell_type": "code",
   "execution_count": null,
   "metadata": {},
   "outputs": [],
   "source": []
  },
  {
   "cell_type": "markdown",
   "metadata": {
    "id": "3_MKA8lLWb-x"
   },
   "source": [
    "**Example 2**"
   ]
  },
  {
   "cell_type": "code",
   "execution_count": null,
   "metadata": {
    "colab": {
     "base_uri": "https://localhost:8080/"
    },
    "id": "LDB7RwLbS3MJ",
    "outputId": "d3b8e27d-f9fc-4359-872b-8df07a87c415"
   },
   "outputs": [
    {
     "name": "stdout",
     "output_type": "stream",
     "text": [
      "Hello, Vikas. Good morning!\n"
     ]
    }
   ],
   "source": [
    "def greet(name):\n",
    "    \"\"\"\n",
    "    In this function we take single argument 'name'\n",
    "    \"\"\"\n",
    "    print(\"Hello, \" + name + \". Good morning!\")\n",
    "greet(\"Vikas\")"
   ]
  },
  {
   "cell_type": "code",
   "execution_count": null,
   "metadata": {
    "id": "rapfY-vo1cpO"
   },
   "outputs": [],
   "source": []
  },
  {
   "cell_type": "code",
   "execution_count": null,
   "metadata": {
    "id": "2O2eFr0-1guA"
   },
   "outputs": [],
   "source": []
  },
  {
   "cell_type": "markdown",
   "metadata": {
    "id": "oIV9dQXCWruv"
   },
   "source": [
    "**Example 3**"
   ]
  },
  {
   "cell_type": "code",
   "execution_count": null,
   "metadata": {
    "colab": {
     "base_uri": "https://localhost:8080/"
    },
    "id": "B5IojkxbT4b1",
    "outputId": "06315d38-3dfc-4b28-d0fd-dcee36ddbe0c"
   },
   "outputs": [
    {
     "data": {
      "text/plain": [
       "10"
      ]
     },
     "execution_count": 2,
     "metadata": {},
     "output_type": "execute_result"
    }
   ],
   "source": [
    "def absolute_value(num):\n",
    "    \"\"\"This function returns the absolute\n",
    "    value of the entered number\"\"\"\n",
    "\n",
    "    if num >= 10:\n",
    "        return \"NUM IS GREATER THAN 10:\", num\n",
    "    else:\n",
    "        return -num # -(-10)\n",
    "\n",
    "\n",
    "absolute_value(-10) # function call\n",
    "#absolute_value(23)"
   ]
  },
  {
   "cell_type": "code",
   "execution_count": 32,
   "metadata": {},
   "outputs": [
    {
     "data": {
      "text/plain": [
       "-1"
      ]
     },
     "execution_count": 32,
     "metadata": {},
     "output_type": "execute_result"
    }
   ],
   "source": [
    "def abs_value(number):\n",
    "    if number>=5:\n",
    "        return number\n",
    "    else:\n",
    "        return -number # -(1)\n",
    "abs_value(1)"
   ]
  },
  {
   "cell_type": "code",
   "execution_count": 33,
   "metadata": {},
   "outputs": [
    {
     "name": "stdout",
     "output_type": "stream",
     "text": [
      "-1\n"
     ]
    }
   ],
   "source": [
    "def abs_value(number):\n",
    "    if number>=5:\n",
    "        print(number)\n",
    "    else:\n",
    "        print(-number) # -(1)\n",
    "abs_value(1)"
   ]
  },
  {
   "cell_type": "markdown",
   "metadata": {
    "id": "6hCOl1BQVGOk"
   },
   "source": [
    "## OR"
   ]
  },
  {
   "cell_type": "markdown",
   "metadata": {
    "id": "NgJFuIbnWupi"
   },
   "source": [
    "**Example 4**"
   ]
  },
  {
   "cell_type": "code",
   "execution_count": null,
   "metadata": {
    "colab": {
     "base_uri": "https://localhost:8080/"
    },
    "id": "wBMRZOhzT4eZ",
    "outputId": "7c5ecd90-927a-4a4e-d0f5-5667abd850e8"
   },
   "outputs": [
    {
     "name": "stdout",
     "output_type": "stream",
     "text": [
      "102\n",
      "450\n"
     ]
    }
   ],
   "source": [
    "def absolute_value(num):\n",
    "    \"\"\"This function returns the absolute\n",
    "    value of the entered number\"\"\"\n",
    "\n",
    "    if num >= 20:\n",
    "        return num\n",
    "    else:\n",
    "        return -num\n",
    "\n",
    "\n",
    "print(absolute_value(102))\n",
    "\n",
    "print(absolute_value(450))"
   ]
  },
  {
   "cell_type": "markdown",
   "metadata": {
    "id": "9n3H4UvqVJfl"
   },
   "source": [
    "### OR"
   ]
  },
  {
   "cell_type": "markdown",
   "metadata": {
    "id": "BDQ143wjWxTB"
   },
   "source": [
    "**Example 5**"
   ]
  },
  {
   "cell_type": "code",
   "execution_count": null,
   "metadata": {
    "colab": {
     "base_uri": "https://localhost:8080/"
    },
    "id": "AZ2mKnuHT4hd",
    "outputId": "4898c56a-ae6f-4f67-bfbb-f70337664b2d"
   },
   "outputs": [
    {
     "name": "stdout",
     "output_type": "stream",
     "text": [
      "2\n",
      "20\n"
     ]
    }
   ],
   "source": [
    "def absolute_value(num):\n",
    "    \"\"\"This function returns the absolute\n",
    "    value of the entered number\"\"\"\n",
    "\n",
    "    if num >= 0:\n",
    "        return num\n",
    "    else:\n",
    "        return -num\n",
    "\n",
    "result1 = absolute_value(2)\n",
    "result2 = absolute_value(20)\n",
    "\n",
    "\n",
    "print(result1)\n",
    "print(result2)"
   ]
  },
  {
   "cell_type": "markdown",
   "metadata": {
    "id": "wcfp4CJXWzzF"
   },
   "source": [
    "**Example 6** "
   ]
  },
  {
   "cell_type": "code",
   "execution_count": null,
   "metadata": {},
   "outputs": [],
   "source": [
    "# The only time you should ever look back is to see how far you have come.\n"
   ]
  },
  {
   "cell_type": "code",
   "execution_count": null,
   "metadata": {
    "colab": {
     "base_uri": "https://localhost:8080/"
    },
    "id": "YkqO3iZ3Vk-N",
    "outputId": "e8fdd8d5-c588-4b42-b885-e1261c6ab417"
   },
   "outputs": [
    {
     "name": "stdout",
     "output_type": "stream",
     "text": [
      "9\n"
     ]
    }
   ],
   "source": [
    "def vowel_count(s):\n",
    "    \"\"\"Counts the number of vowels in s and returns the same\n",
    "    Ignores case of letters\"\"\"\n",
    "    VOWELS = \"aeiouAEIOU\"\n",
    "    vc = 0\n",
    "    for ch in s:\n",
    "        if ch in VOWELS:\n",
    "            vc += 1\n",
    "    return vc\n",
    "print(vowel_count(\" Students are very good in nature.\"))"
   ]
  },
  {
   "cell_type": "code",
   "execution_count": 40,
   "metadata": {},
   "outputs": [
    {
     "name": "stdout",
     "output_type": "stream",
     "text": [
      "25\n"
     ]
    }
   ],
   "source": [
    "# The only time you should ever look back is to see how far you have come.\n",
    "def counting_vowels(sentence):\n",
    "    vowels = \"aeiouAEIOU\"\n",
    "    v_count = 0\n",
    "    for character in sentence:\n",
    "        if character in vowels:\n",
    "            v_count+=1 \n",
    "    print(v_count)    \n",
    "            \n",
    "            \n",
    "str = 'The only time you should ever look back is to see how far you have come.'\n",
    "\n",
    "counting_vowels(str)\n"
   ]
  },
  {
   "cell_type": "code",
   "execution_count": 41,
   "metadata": {},
   "outputs": [
    {
     "name": "stdout",
     "output_type": "stream",
     "text": [
      "14\n"
     ]
    }
   ],
   "source": [
    "str = \"If you dont risk anything you risk even more\"\n",
    "counting_vowels(str)"
   ]
  },
  {
   "cell_type": "code",
   "execution_count": null,
   "metadata": {},
   "outputs": [],
   "source": []
  },
  {
   "cell_type": "code",
   "execution_count": null,
   "metadata": {},
   "outputs": [],
   "source": []
  },
  {
   "cell_type": "code",
   "execution_count": null,
   "metadata": {
    "colab": {
     "base_uri": "https://localhost:8080/"
    },
    "id": "cmxH16VKxT6O",
    "outputId": "d1768c05-1550-4a35-b398-8948107dcc31"
   },
   "outputs": [
    {
     "name": "stdout",
     "output_type": "stream",
     "text": [
      "i\n",
      "1\n",
      "o\n",
      "2\n",
      "e\n",
      "3\n",
      "u\n",
      "4\n",
      "A\n",
      "5\n",
      "Count of the vowel is: 5\n"
     ]
    }
   ],
   "source": [
    "# We need to count the exact number vowels present in input text.\n",
    "def vowel_count(text):\n",
    "    vowel = \"aeiouAEIOU\"\n",
    "    count = 0\n",
    "    for char in text:\n",
    "        print(char)\n",
    "        if char in vowel:\n",
    "            #print(char)\n",
    "            count=count+1\n",
    "        print(count)\n",
    "    print('Count of the vowel is:',count)\n",
    "#vowel_count(\"to count this is the best thing to work with vowels\") # function call\n",
    "vowel_count(\"ioeuA\")"
   ]
  },
  {
   "cell_type": "markdown",
   "metadata": {
    "id": "IJOVWgDHXT38"
   },
   "source": [
    "**Example 7**"
   ]
  },
  {
   "cell_type": "code",
   "execution_count": null,
   "metadata": {
    "colab": {
     "base_uri": "https://localhost:8080/"
    },
    "id": "ZLEJg-9UVlA3",
    "outputId": "bc9f2291-c9a6-4a9a-ae08-96f977a4b78a"
   },
   "outputs": [
    {
     "name": "stdout",
     "output_type": "stream",
     "text": [
      "3\n"
     ]
    }
   ],
   "source": [
    "def vowel_count(s):\n",
    "    \"\"\"Counts the number of vowels in s and returns the same\n",
    "    Ignores case of letters\"\"\"\n",
    "    #VOWELS = \"aeiouAEIOU\"\n",
    "    vc = 0\n",
    "    for ch in s:\n",
    "        if ch==\"e\":\n",
    "            vc += 1\n",
    "    return vc\n",
    "print(vowel_count(\"I am the best in the world\"))"
   ]
  },
  {
   "cell_type": "markdown",
   "metadata": {
    "id": "VTZK04TbXkfj"
   },
   "source": [
    "**Example 8**"
   ]
  },
  {
   "cell_type": "code",
   "execution_count": null,
   "metadata": {
    "colab": {
     "base_uri": "https://localhost:8080/"
    },
    "id": "EtlKW5qTVlDs",
    "outputId": "0ef1923f-bf34-4ff3-cfe7-e55f318ba6d7"
   },
   "outputs": [
    {
     "name": "stdout",
     "output_type": "stream",
     "text": [
      "even\n",
      "odd\n"
     ]
    }
   ],
   "source": [
    "# A simple Python function to check\n",
    "# whether x is even or odd\n",
    " \n",
    "def evenOdd(x):\n",
    "    if (x % 2 == 0):\n",
    "        print(\"even\")\n",
    "    else:\n",
    "        print(\"odd\")\n",
    " \n",
    " \n",
    "# Driver code to call the function\n",
    "evenOdd(20)\n",
    "evenOdd(33)"
   ]
  },
  {
   "cell_type": "markdown",
   "metadata": {
    "id": "TZG5Fl0PYtNA"
   },
   "source": [
    "## Number of Arguments\n",
    "\n",
    "We can take any number of arguments in function defination.\n",
    "\n",
    "By default, a function must be called with the correct number of arguments. Meaning that if your function expects 2 arguments, you have to call the function with 2 arguments, not more, and not less."
   ]
  },
  {
   "cell_type": "code",
   "execution_count": null,
   "metadata": {
    "colab": {
     "base_uri": "https://localhost:8080/"
    },
    "id": "0u2riTXgYwGN",
    "outputId": "fd2ab318-4485-4858-8457-5281ab8168d7"
   },
   "outputs": [
    {
     "name": "stdout",
     "output_type": "stream",
     "text": [
      "First name is : Vikas and  Last name is : Rathod\n"
     ]
    }
   ],
   "source": [
    "def my_function(fname, lname):\n",
    "    print(\"First name is :\",fname + \" and  Last name is : \" + lname)\n",
    "\n",
    "my_function(\"Vikas\", \"Rathod\")"
   ]
  },
  {
   "cell_type": "code",
   "execution_count": null,
   "metadata": {
    "colab": {
     "base_uri": "https://localhost:8080/"
    },
    "id": "nmLxRaGwYwI1",
    "outputId": "418af399-f759-4b99-ba44-e25e4402c80f"
   },
   "outputs": [
    {
     "name": "stdout",
     "output_type": "stream",
     "text": [
      "x:  10\n",
      "y:  20\n"
     ]
    }
   ],
   "source": [
    "# Python program to demonstrate\n",
    "# default arguments\n",
    " \n",
    "def myFun(x, y):\n",
    "    print(\"x: \", x)\n",
    "    print(\"y: \", y)\n",
    " \n",
    " \n",
    "# Driver code (We call myFun() with only\n",
    "# argument)\n",
    "myFun(10,20)"
   ]
  },
  {
   "cell_type": "markdown",
   "metadata": {
    "id": "3crdhwBdmxT1"
   },
   "source": [
    "## Python Default Arguments\n",
    "Function arguments can have default values in Python.\n",
    "\n",
    "We can provide a default value to an argument by using the assignment operator (=). Here is an example."
   ]
  },
  {
   "cell_type": "code",
   "execution_count": null,
   "metadata": {
    "colab": {
     "base_uri": "https://localhost:8080/"
    },
    "id": "t6BI5vC6YwLd",
    "outputId": "49f5d815-98a7-4038-e488-1668f7b6eec0"
   },
   "outputs": [
    {
     "name": "stdout",
     "output_type": "stream",
     "text": [
      "x:  10\n",
      "y:  23\n"
     ]
    }
   ],
   "source": [
    "# Python program to demonstrate\n",
    "# default arguments\n",
    " \n",
    "def myFun(x, y=23):\n",
    "    print(\"x: \", x)\n",
    "    print(\"y: \", y)\n",
    " \n",
    " \n",
    "# Driver code (We call myFun() with only\n",
    "# argument)\n",
    "myFun(10)"
   ]
  },
  {
   "cell_type": "code",
   "execution_count": null,
   "metadata": {
    "colab": {
     "base_uri": "https://localhost:8080/"
    },
    "id": "pRpiavFjnFVL",
    "outputId": "7ae9b42c-f015-4ad6-bd00-e169d27023bb"
   },
   "outputs": [
    {
     "name": "stdout",
     "output_type": "stream",
     "text": [
      "Hello Student, Good morning!\n",
      "Hello Students, How do you do?\n"
     ]
    }
   ],
   "source": [
    "def Welcome_funct(name, msg=\"Good morning!\"):\n",
    "    \"\"\"\n",
    "    This function greets to\n",
    "    the person with the\n",
    "    provided message.\n",
    "\n",
    "    If the message is not provided,\n",
    "    it defaults to \"Good\n",
    "    morning!\"\n",
    "    \"\"\"\n",
    "\n",
    "    print(\"Hello\", name + ', ' + msg)\n",
    "\n",
    "\n",
    "Welcome_funct(\"Student\")\n",
    "Welcome_funct(\"Students\", \"How do you do?\")"
   ]
  },
  {
   "cell_type": "code",
   "execution_count": null,
   "metadata": {
    "colab": {
     "base_uri": "https://localhost:8080/"
    },
    "id": "Ir__4ORsYwN5",
    "outputId": "e9f694e5-5aa4-44c1-a26e-aff2b80c272a"
   },
   "outputs": [
    {
     "name": "stdout",
     "output_type": "stream",
     "text": [
      "The sum is 110\n"
     ]
    }
   ],
   "source": [
    "# Program to illustrate\n",
    "# the use of user-defined functions\n",
    "\n",
    "def add_numbers(x,y):\n",
    "    sum = x + y\n",
    "    return sum\n",
    "\n",
    "num1 = 50 \n",
    "num2 = 60 \n",
    "\n",
    "print(\"The sum is\", add_numbers(num1, num2))"
   ]
  },
  {
   "cell_type": "code",
   "execution_count": null,
   "metadata": {
    "colab": {
     "base_uri": "https://localhost:8080/"
    },
    "id": "_38EpovdYwQm",
    "outputId": "17afa5b4-e9b0-413f-8520-0301c1325bcf"
   },
   "outputs": [
    {
     "name": "stdout",
     "output_type": "stream",
     "text": [
      "Hello Students, Good morning!\n"
     ]
    }
   ],
   "source": [
    "def greet(name, msg):\n",
    "    \"\"\"This function greets to\n",
    "    the person with the provided message\"\"\"\n",
    "    print(\"Hello\", name + ', ' + msg)\n",
    "\n",
    "greet(\"Students\", \"Good morning!\")"
   ]
  },
  {
   "cell_type": "markdown",
   "metadata": {
    "id": "YY63XV9Ml1lX"
   },
   "source": [
    "## Errors you may get."
   ]
  },
  {
   "cell_type": "code",
   "execution_count": null,
   "metadata": {
    "colab": {
     "base_uri": "https://localhost:8080/",
     "height": 207
    },
    "id": "ytk1QadsYwUN",
    "outputId": "566c74e4-1af5-4e54-fd09-9260678f5260"
   },
   "outputs": [
    {
     "ename": "TypeError",
     "evalue": "ignored",
     "output_type": "error",
     "traceback": [
      "\u001b[0;31m---------------------------------------------------------------------------\u001b[0m",
      "\u001b[0;31mTypeError\u001b[0m                                 Traceback (most recent call last)",
      "\u001b[0;32m<ipython-input-36-33d93e7ff61b>\u001b[0m in \u001b[0;36m<module>\u001b[0;34m()\u001b[0m\n\u001b[1;32m      4\u001b[0m     \u001b[0mprint\u001b[0m\u001b[0;34m(\u001b[0m\u001b[0;34m\"Hello\"\u001b[0m\u001b[0;34m,\u001b[0m \u001b[0mname\u001b[0m \u001b[0;34m+\u001b[0m \u001b[0;34m', '\u001b[0m \u001b[0;34m+\u001b[0m \u001b[0mmsg\u001b[0m\u001b[0;34m)\u001b[0m\u001b[0;34m\u001b[0m\u001b[0;34m\u001b[0m\u001b[0m\n\u001b[1;32m      5\u001b[0m \u001b[0;34m\u001b[0m\u001b[0m\n\u001b[0;32m----> 6\u001b[0;31m \u001b[0mgreet\u001b[0m\u001b[0;34m(\u001b[0m\u001b[0;34m\"Vikas\"\u001b[0m\u001b[0;34m)\u001b[0m\u001b[0;34m\u001b[0m\u001b[0;34m\u001b[0m\u001b[0m\n\u001b[0m",
      "\u001b[0;31mTypeError\u001b[0m: greet() missing 1 required positional argument: 'msg'"
     ]
    }
   ],
   "source": [
    "def greet(name, msg):\n",
    "    \"\"\"This function greets to\n",
    "    the person with the provided message\"\"\"\n",
    "    print(\"Hello\", name + ', ' + msg)\n",
    "\n",
    "greet(\"Vikas\")"
   ]
  },
  {
   "cell_type": "code",
   "execution_count": null,
   "metadata": {
    "colab": {
     "base_uri": "https://localhost:8080/",
     "height": 207
    },
    "id": "IioMVy1amm2d",
    "outputId": "2ec24ec4-9325-425c-bbf5-e819195f2c54"
   },
   "outputs": [
    {
     "ename": "TypeError",
     "evalue": "ignored",
     "output_type": "error",
     "traceback": [
      "\u001b[0;31m---------------------------------------------------------------------------\u001b[0m",
      "\u001b[0;31mTypeError\u001b[0m                                 Traceback (most recent call last)",
      "\u001b[0;32m<ipython-input-37-6414d8e408ed>\u001b[0m in \u001b[0;36m<module>\u001b[0;34m()\u001b[0m\n\u001b[1;32m      4\u001b[0m     \u001b[0mprint\u001b[0m\u001b[0;34m(\u001b[0m\u001b[0;34m\"Hello\"\u001b[0m\u001b[0;34m,\u001b[0m \u001b[0mname\u001b[0m \u001b[0;34m+\u001b[0m \u001b[0;34m', '\u001b[0m \u001b[0;34m+\u001b[0m \u001b[0mmsg\u001b[0m\u001b[0;34m)\u001b[0m\u001b[0;34m\u001b[0m\u001b[0;34m\u001b[0m\u001b[0m\n\u001b[1;32m      5\u001b[0m \u001b[0;34m\u001b[0m\u001b[0m\n\u001b[0;32m----> 6\u001b[0;31m \u001b[0mgreet\u001b[0m\u001b[0;34m(\u001b[0m\u001b[0;34m)\u001b[0m\u001b[0;34m\u001b[0m\u001b[0;34m\u001b[0m\u001b[0m\n\u001b[0m",
      "\u001b[0;31mTypeError\u001b[0m: greet() missing 2 required positional arguments: 'name' and 'msg'"
     ]
    }
   ],
   "source": [
    "def greet(name, msg):\n",
    "    \"\"\"This function greets to\n",
    "    the person with the provided message\"\"\"\n",
    "    print(\"Hello\", name + ', ' + msg)\n",
    "\n",
    "greet() # function call"
   ]
  },
  {
   "cell_type": "markdown",
   "metadata": {
    "id": "TzEb-r2T8K66"
   },
   "source": [
    "WE CAN NOT CALL FUNCTION BEFORE CREATINGA FUNCTION.\n",
    "\n",
    "iF WE CALL FUNCTION BEFORE CREATING A FUNCTION THEN YOU WILL SEE '\\AN NAME ERROR'"
   ]
  },
  {
   "cell_type": "code",
   "execution_count": null,
   "metadata": {
    "colab": {
     "base_uri": "https://localhost:8080/",
     "height": 243
    },
    "id": "-NaN5nF7mm5V",
    "outputId": "92c1648d-9094-484e-ff60-4d4cd4ce0570"
   },
   "outputs": [
    {
     "ename": "NameError",
     "evalue": "ignored",
     "output_type": "error",
     "traceback": [
      "\u001b[0;31m---------------------------------------------------------------------------\u001b[0m",
      "\u001b[0;31mNameError\u001b[0m                                 Traceback (most recent call last)",
      "\u001b[0;32m<ipython-input-1-3ef7dcbd9deb>\u001b[0m in \u001b[0;36m<module>\u001b[0;34m()\u001b[0m\n\u001b[1;32m      1\u001b[0m \u001b[0;31m# function call\u001b[0m\u001b[0;34m\u001b[0m\u001b[0;34m\u001b[0m\u001b[0;34m\u001b[0m\u001b[0m\n\u001b[0;32m----> 2\u001b[0;31m \u001b[0mwelcome\u001b[0m\u001b[0;34m(\u001b[0m\u001b[0;34m'Paul'\u001b[0m\u001b[0;34m)\u001b[0m\u001b[0;34m\u001b[0m\u001b[0;34m\u001b[0m\u001b[0m\n\u001b[0m\u001b[1;32m      3\u001b[0m \u001b[0;34m\u001b[0m\u001b[0m\n\u001b[1;32m      4\u001b[0m \u001b[0;31m# function definition\u001b[0m\u001b[0;34m\u001b[0m\u001b[0;34m\u001b[0m\u001b[0;34m\u001b[0m\u001b[0m\n\u001b[1;32m      5\u001b[0m \u001b[0;32mdef\u001b[0m \u001b[0mwelcome\u001b[0m\u001b[0;34m(\u001b[0m\u001b[0mname\u001b[0m\u001b[0;34m)\u001b[0m\u001b[0;34m:\u001b[0m\u001b[0;34m\u001b[0m\u001b[0;34m\u001b[0m\u001b[0m\n",
      "\u001b[0;31mNameError\u001b[0m: name 'welcome' is not defined"
     ]
    }
   ],
   "source": [
    "# function call\n",
    "welcome('Vikas')\n",
    "\n",
    "# function definition\n",
    "def welcome(name):\n",
    "    \"\"\"\n",
    "    This function greets to\n",
    "    the person passed in as\n",
    "    a parameter\n",
    "    \"\"\"\n",
    "    print(\"Hello, \" + name + \". Good morning!\")\n",
    "\n",
    "# Error: name 'greet' is not defined"
   ]
  },
  {
   "cell_type": "code",
   "execution_count": null,
   "metadata": {
    "id": "khDDEI7vmm8i"
   },
   "outputs": [],
   "source": []
  },
  {
   "cell_type": "markdown",
   "metadata": {
    "id": "b9GuCRCJX_te"
   },
   "source": [
    "## Scope and Lifetime of variables\n",
    "Scope of a variable is the portion of a program where the variable is recognized. Parameters and variables defined inside a function are not visible from outside the function. Hence, they have a local scope.\n",
    "\n",
    "The lifetime of a variable is the period throughout which the variable exists in the memory. The lifetime of variables inside a function is as long as the function executes.\n",
    "\n",
    "They are destroyed once we return from the function. Hence, a function does not remember the value of a variable from its previous calls.\n",
    "\n",
    "Here is an example to illustrate the scope of a variable inside a function."
   ]
  },
  {
   "cell_type": "markdown",
   "metadata": {
    "id": "33m89WAla44e"
   },
   "source": [
    "**Example**"
   ]
  },
  {
   "cell_type": "code",
   "execution_count": null,
   "metadata": {
    "colab": {
     "base_uri": "https://localhost:8080/"
    },
    "id": "srB1ZsEIVlGT",
    "outputId": "5be0b119-7d5e-4519-9312-bed3beb9e10e"
   },
   "outputs": [
    {
     "name": "stdout",
     "output_type": "stream",
     "text": [
      "Name inside function: vikas\n",
      "Name outside function: Ansh\n"
     ]
    }
   ],
   "source": [
    "def my_func():\n",
    "    name = \"vikas\"\n",
    "    print(\"Name inside function:\",name)\n",
    "\n",
    "name = \"Ansh\"\n",
    "my_func()\n",
    "print(\"Name outside function:\",name)"
   ]
  },
  {
   "cell_type": "markdown",
   "metadata": {
    "id": "F41vJ-dYaBXS"
   },
   "source": [
    "Here, we can see that the value of name is Ansh initially. Even though the function my_func() changed the value of name to Vikas, it did not affect the value outside the function.\n",
    "\n",
    "This is because the variable name inside the function is different (local to the function) from the one outside. Although they have the same names, they are two different variables with different scopes.\n",
    "\n",
    "On the other hand, variables outside of the function are visible from inside. They have a global scope.\n",
    "\n",
    "We can read these values from inside the function but cannot change (write) them. In order to modify the value of variables outside the function, they must be declared as global variables using the keyword global."
   ]
  },
  {
   "cell_type": "code",
   "execution_count": null,
   "metadata": {
    "id": "abYmDuU1VlJX"
   },
   "outputs": [],
   "source": []
  },
  {
   "cell_type": "code",
   "execution_count": null,
   "metadata": {
    "id": "7werXtWLT4kw"
   },
   "outputs": [],
   "source": []
  },
  {
   "cell_type": "markdown",
   "metadata": {
    "id": "G_4dVEbX8nav"
   },
   "source": [
    "## Python Arbitrary Arguments\n",
    "Sometimes, we do not know in advance the number of arguments that will be passed into a function. Python allows us to handle this kind of situation through function calls with an arbitrary number of arguments.\n",
    "\n",
    ">>\n",
    "If you do not know how many arguments that will be passed into your function, add a * before the parameter name in the function definition."
   ]
  },
  {
   "cell_type": "code",
   "execution_count": 1,
   "metadata": {
    "colab": {
     "base_uri": "https://localhost:8080/"
    },
    "id": "TS_rrRA0TSdn",
    "outputId": "d8b3a857-06db-4f67-f5a6-94458656da3b"
   },
   "outputs": [
    {
     "name": "stdout",
     "output_type": "stream",
     "text": [
      "Hello Santosh\n",
      "Hello Lankesh\n"
     ]
    }
   ],
   "source": [
    "def greet(*names):\n",
    "    \"\"\"This function greets all\n",
    "    the person in the names tuple.\"\"\"\n",
    "\n",
    "    # names is a tuple with arguments\n",
    "    for name in names:\n",
    "        print(\"Hello\", name)\n",
    "        if name == \"Lankesh\":\n",
    "            break\n",
    "\n",
    "\n",
    "greet(\"Santosh\", \"Lankesh\", \"Satish\", \"Jyotish\",\"vikas\")"
   ]
  },
  {
   "cell_type": "code",
   "execution_count": null,
   "metadata": {
    "colab": {
     "base_uri": "https://localhost:8080/"
    },
    "id": "Xc5n1PE181ki",
    "outputId": "67258d2d-6da5-41a0-c04b-ff193e97b2a6"
   },
   "outputs": [
    {
     "name": "stdout",
     "output_type": "stream",
     "text": [
      "The youngest child is sant\n"
     ]
    }
   ],
   "source": [
    "def my_function(*kids):\n",
    "    print(\"The youngest child is \" + kids[3])\n",
    "\n",
    "my_function(\"navin\", \"shreya\", \"saushil\",\"sant\")"
   ]
  },
  {
   "cell_type": "code",
   "execution_count": null,
   "metadata": {
    "id": "UNhKZmixcdeb"
   },
   "outputs": [],
   "source": []
  },
  {
   "cell_type": "code",
   "execution_count": null,
   "metadata": {
    "colab": {
     "base_uri": "https://localhost:8080/"
    },
    "id": "tM-g7OIx9VJv",
    "outputId": "490e501b-c56a-498f-c0fd-019c16624e61"
   },
   "outputs": [
    {
     "name": "stdout",
     "output_type": "stream",
     "text": [
      "Hello\n",
      "Welcome\n",
      "to\n",
      "the\n",
      "Python programming World\n"
     ]
    }
   ],
   "source": [
    "# Python program to illustrate\n",
    "# *args for variable number of arguments\n",
    " \n",
    "def myFun(*argv):\n",
    "    for arg in argv:\n",
    "        print(arg)\n",
    " \n",
    " \n",
    "myFun('Hello', 'Welcome', 'to', 'the','Python programming World')"
   ]
  },
  {
   "cell_type": "code",
   "execution_count": null,
   "metadata": {
    "id": "Qmfito7Y-Tpg"
   },
   "outputs": [],
   "source": []
  },
  {
   "cell_type": "code",
   "execution_count": null,
   "metadata": {
    "id": "2MuNQFgm-7Un"
   },
   "outputs": [],
   "source": []
  },
  {
   "cell_type": "markdown",
   "metadata": {
    "id": "oU8H-wGL_5m8"
   },
   "source": [
    "# Arbitrary Keyword Arguments, **kwargs\n",
    ">If you do not know how many keyword arguments that will be passed into your function, add two asterisk: ** before the parameter name in the function definition."
   ]
  },
  {
   "cell_type": "code",
   "execution_count": null,
   "metadata": {
    "colab": {
     "base_uri": "https://localhost:8080/"
    },
    "id": "PkQ7dW_w-7Yh",
    "outputId": "5e3b2358-f883-4c6a-ecdf-b960c576fe07"
   },
   "outputs": [
    {
     "name": "stdout",
     "output_type": "stream",
     "text": [
      "His last name is Rathod\n"
     ]
    }
   ],
   "source": [
    "def my_function(**student):\n",
    "    print(\"His last name is \" + student[\"lname\"])\n",
    "\n",
    "my_function(fname = \"Vikas\", lname = \"Rathod\")"
   ]
  },
  {
   "cell_type": "code",
   "execution_count": null,
   "metadata": {
    "id": "7GtgPywV-7c8"
   },
   "outputs": [],
   "source": []
  },
  {
   "cell_type": "code",
   "execution_count": 3,
   "metadata": {
    "colab": {
     "base_uri": "https://localhost:8080/"
    },
    "id": "XNp7BoOn-7f-",
    "outputId": "b3e08866-d4f0-4d63-9fdc-d898d95d58b3"
   },
   "outputs": [
    {
     "name": "stdout",
     "output_type": "stream",
     "text": [
      "enter the name you are looking for: Harshda\n",
      "your searched name is not mentioned here, please provide the birth date\n",
      "enter the date: Jan 4, 2000\n",
      "the new dict is:  {'raju': 'Jan 1, 2000', 'baju': 'Jan 4, 2000', 'kaju': 'Jan7, 2000', 'Harshda': 'Jan 4, 2000'}\n"
     ]
    }
   ],
   "source": [
    "# adding or verifying the birth date of a person using a dictionary\n",
    "birth = {\"raju\": \"Jan 1, 2000\", \"baju\":\"Jan 4, 2000\", \"kaju\":\"Jan7, 2000\"}\n",
    "x = str(input(\"enter the name you are looking for: \"))\n",
    "\n",
    "if x in birth.keys():\n",
    "    print(\"The birth date of\",x, \"is: \",birth[x])\n",
    "\n",
    "\n",
    "elif x!= birth.keys():\n",
    "    print(\"your searched name is not mentioned here, please provide the birth date\")\n",
    "    z = input(\"enter the date: \")\n",
    "    birth[x] = z\n",
    "    print(\"the new dict is: \",birth)"
   ]
  },
  {
   "cell_type": "markdown",
   "metadata": {
    "id": "W4_OgXsLoRXO"
   },
   "source": [
    "# returning 0 if entered number is prime else 1"
   ]
  },
  {
   "cell_type": "code",
   "execution_count": null,
   "metadata": {
    "colab": {
     "base_uri": "https://localhost:8080/"
    },
    "id": "8YoqUcb8G5rp",
    "outputId": "02ec0320-6a9b-494d-a4d5-9ab9853e0cce"
   },
   "outputs": [
    {
     "name": "stdout",
     "output_type": "stream",
     "text": [
      "enter any number12\n",
      "0\n"
     ]
    }
   ],
   "source": [
    "\n",
    "def prime(x):\n",
    "    count = 0\n",
    "    for i in range(2,x):\n",
    "        if x%i==0:\n",
    "            count += 1\n",
    "    if count >=1:\n",
    "        print(\"0\")\n",
    "    else:\n",
    "        print(\"1\")\n",
    "\n",
    "a = int(input(\"enter any number\"))\n",
    "prime(a)"
   ]
  },
  {
   "cell_type": "markdown",
   "metadata": {},
   "source": [
    "# Using Library"
   ]
  },
  {
   "cell_type": "code",
   "execution_count": 15,
   "metadata": {
    "id": "I-YZSRunoUM7"
   },
   "outputs": [
    {
     "name": "stdout",
     "output_type": "stream",
     "text": [
      "6\n"
     ]
    }
   ],
   "source": [
    "#!/usr/bin/env python\n",
    "from random import choices\n",
    "\n",
    "def add(x,y):\n",
    "    print(f\"inside a function and adding {x}, {y}\")\n",
    "    return x+y\n",
    "\n",
    "#Send random numbers from 1-10, ten times to the add function\n",
    "numbers = range(1,10)\n",
    "for num in numbers:\n",
    "    print(choices(numbers)[0])\n",
    "    break\n",
    "    xx = choices(numbers)[0]\n",
    "    yy = choices(numbers)[0]\n",
    "    print(add(xx,yy))"
   ]
  },
  {
   "cell_type": "code",
   "execution_count": null,
   "metadata": {},
   "outputs": [],
   "source": []
  },
  {
   "cell_type": "code",
   "execution_count": null,
   "metadata": {},
   "outputs": [],
   "source": []
  }
 ],
 "metadata": {
  "colab": {
   "collapsed_sections": [],
   "name": "Function_in_Python_notes.ipynb",
   "provenance": []
  },
  "kernelspec": {
   "display_name": "Python 3",
   "language": "python",
   "name": "python3"
  },
  "language_info": {
   "codemirror_mode": {
    "name": "ipython",
    "version": 3
   },
   "file_extension": ".py",
   "mimetype": "text/x-python",
   "name": "python",
   "nbconvert_exporter": "python",
   "pygments_lexer": "ipython3",
   "version": "3.7.3"
  }
 },
 "nbformat": 4,
 "nbformat_minor": 1
}
