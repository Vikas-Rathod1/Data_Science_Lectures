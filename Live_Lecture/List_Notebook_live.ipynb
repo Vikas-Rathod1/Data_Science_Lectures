{
 "cells": [
  {
   "cell_type": "code",
   "execution_count": null,
   "metadata": {},
   "outputs": [],
   "source": [
    "#Data Structures\n",
    "# list \n",
    "# tuple\n",
    "# dict\n",
    "# set\n",
    "\n",
    "\n",
    "\n"
   ]
  },
  {
   "cell_type": "code",
   "execution_count": null,
   "metadata": {},
   "outputs": [],
   "source": [
    "# list is mutable / change/ update\n",
    "# list have multiple values within a single variable\n",
    "# list represent in []\n",
    "# list allows duplicate values\n",
    "# indeing of list is start from 0 and end with n-1"
   ]
  },
  {
   "cell_type": "markdown",
   "metadata": {
    "id": "LhjeEhKmtRI-"
   },
   "source": [
    "# Python Data Structure"
   ]
  },
  {
   "cell_type": "markdown",
   "metadata": {
    "id": "FeeGXiggtRJB"
   },
   "source": [
    "# List\n",
    "\n",
    "Lists are used to store multiple items in a single variable.\n",
    "\n",
    "List items are ordered, changeable, and allow duplicate values.\n",
    "\n",
    "A single list may contain DataTypes like Integers, float, boolean, complex, Strings, as well as Objects.\n",
    "\n",
    "List is mutable data stucture"
   ]
  },
  {
   "cell_type": "markdown",
   "metadata": {
    "id": "N6WO0UpktRJB"
   },
   "source": [
    "# Creating a List"
   ]
  },
  {
   "cell_type": "code",
   "execution_count": null,
   "metadata": {
    "id": "D4rZbyoFtRJC",
    "outputId": "d286bb8f-ff16-418d-9a5c-a0e47a045f85"
   },
   "outputs": [
    {
     "name": "stdout",
     "output_type": "stream",
     "text": [
      "Blank List: \n",
      "[]\n"
     ]
    }
   ],
   "source": [
    "# Python program to demonstrate\n",
    "# Creation of List\n",
    " \n",
    "# Creating blank List\n",
    "List = []\n",
    "print(\"Blank List: \")\n",
    "print(List)"
   ]
  },
  {
   "cell_type": "code",
   "execution_count": null,
   "metadata": {},
   "outputs": [],
   "source": [
    "lst = [] # representation of list []  # empty list\n",
    "lst1 = [1,2,3,4,5,6,7,8,5,4,2,4,2,4,2,5,3]\n",
    "\n"
   ]
  },
  {
   "cell_type": "code",
   "execution_count": 1,
   "metadata": {},
   "outputs": [
    {
     "name": "stdout",
     "output_type": "stream",
     "text": [
      "[]\n"
     ]
    }
   ],
   "source": [
    "lst = []\n",
    "print(lst)"
   ]
  },
  {
   "cell_type": "code",
   "execution_count": 2,
   "metadata": {},
   "outputs": [
    {
     "name": "stdout",
     "output_type": "stream",
     "text": [
      "[1, 2, 3, 4, 5, 6, 7, 8, 5, 4, 2, 4, 2, 4, 2, 5, 3]\n"
     ]
    }
   ],
   "source": [
    "lst1 = [1,2,3,4,5,6,7,8,5,4,2,4,2,4,2,5,3] # integer values in list\n",
    "print(lst1)"
   ]
  },
  {
   "cell_type": "code",
   "execution_count": 3,
   "metadata": {},
   "outputs": [
    {
     "name": "stdout",
     "output_type": "stream",
     "text": [
      "[12.0, 23.0, 4.5, 45.65]\n"
     ]
    }
   ],
   "source": [
    "lst2 = [12.0,23.0,4.5,45.65] # float values in list\n",
    "print(lst2)"
   ]
  },
  {
   "cell_type": "code",
   "execution_count": null,
   "metadata": {},
   "outputs": [],
   "source": [
    "lst3 = [\"Pooja\",\"harshada\",\"vishakha\",\"mayur\"] # string values"
   ]
  },
  {
   "cell_type": "code",
   "execution_count": 4,
   "metadata": {},
   "outputs": [
    {
     "data": {
      "text/plain": [
       "[10, 'vikas', 12.9, True, (12+2j)]"
      ]
     },
     "execution_count": 4,
     "metadata": {},
     "output_type": "execute_result"
    }
   ],
   "source": [
    "lst4 = [10,\"vikas\",12.9,True,12+2j]\n",
    "lst4"
   ]
  },
  {
   "cell_type": "code",
   "execution_count": 8,
   "metadata": {},
   "outputs": [
    {
     "data": {
      "text/plain": [
       "10"
      ]
     },
     "execution_count": 8,
     "metadata": {},
     "output_type": "execute_result"
    }
   ],
   "source": [
    "#Indexing\n",
    "\n",
    "lst22 = [10,50,14,13,9,23,3]\n",
    "\n",
    "lst22[0]"
   ]
  },
  {
   "cell_type": "code",
   "execution_count": 7,
   "metadata": {},
   "outputs": [
    {
     "data": {
      "text/plain": [
       "9"
      ]
     },
     "execution_count": 7,
     "metadata": {},
     "output_type": "execute_result"
    }
   ],
   "source": [
    "lst22[4]\n"
   ]
  },
  {
   "cell_type": "code",
   "execution_count": 9,
   "metadata": {},
   "outputs": [
    {
     "data": {
      "text/plain": [
       "14"
      ]
     },
     "execution_count": 9,
     "metadata": {},
     "output_type": "execute_result"
    }
   ],
   "source": [
    "lst22[2]"
   ]
  },
  {
   "cell_type": "code",
   "execution_count": 10,
   "metadata": {},
   "outputs": [],
   "source": [
    "lst20 = [10,50,14,13,9,23,3]\n"
   ]
  },
  {
   "cell_type": "code",
   "execution_count": 13,
   "metadata": {},
   "outputs": [
    {
     "data": {
      "text/plain": [
       "50"
      ]
     },
     "execution_count": 13,
     "metadata": {},
     "output_type": "execute_result"
    }
   ],
   "source": [
    "lst20[-6]"
   ]
  },
  {
   "cell_type": "code",
   "execution_count": 15,
   "metadata": {},
   "outputs": [],
   "source": [
    "lst_int = [10,50,14,13,9,23,3]"
   ]
  },
  {
   "cell_type": "code",
   "execution_count": 19,
   "metadata": {},
   "outputs": [
    {
     "data": {
      "text/plain": [
       "13"
      ]
     },
     "execution_count": 19,
     "metadata": {},
     "output_type": "execute_result"
    }
   ],
   "source": [
    "lst_int[3]"
   ]
  },
  {
   "cell_type": "code",
   "execution_count": 21,
   "metadata": {},
   "outputs": [
    {
     "data": {
      "text/plain": [
       "[10, 50, 14, 130, 9, 23, 3]"
      ]
     },
     "execution_count": 21,
     "metadata": {},
     "output_type": "execute_result"
    }
   ],
   "source": [
    "lst_int[3]=130 # list is mutable data structure\n",
    "lst_int"
   ]
  },
  {
   "cell_type": "code",
   "execution_count": 23,
   "metadata": {},
   "outputs": [
    {
     "data": {
      "text/plain": [
       "[10, 50, 14, 130, 9, 'Ram', 3]"
      ]
     },
     "execution_count": 23,
     "metadata": {},
     "output_type": "execute_result"
    }
   ],
   "source": [
    "lst_int[5]=\"Ram\"\n",
    "lst_int"
   ]
  },
  {
   "cell_type": "code",
   "execution_count": 26,
   "metadata": {},
   "outputs": [
    {
     "data": {
      "text/plain": [
       "[10, 50, 14, 13, 9, 23, 3]"
      ]
     },
     "execution_count": 26,
     "metadata": {},
     "output_type": "execute_result"
    }
   ],
   "source": [
    "# Slicing on list\n",
    "\n",
    "lst_int = [10,50,14,13,9,23,3]\n",
    "lst_int"
   ]
  },
  {
   "cell_type": "code",
   "execution_count": 30,
   "metadata": {},
   "outputs": [
    {
     "data": {
      "text/plain": [
       "[10, 50, 14, 13, 9]"
      ]
     },
     "execution_count": 30,
     "metadata": {},
     "output_type": "execute_result"
    }
   ],
   "source": [
    "lst_int[0:5]"
   ]
  },
  {
   "cell_type": "code",
   "execution_count": null,
   "metadata": {},
   "outputs": [],
   "source": []
  },
  {
   "cell_type": "code",
   "execution_count": 31,
   "metadata": {},
   "outputs": [
    {
     "data": {
      "text/plain": [
       "[10, 50, 14]"
      ]
     },
     "execution_count": 31,
     "metadata": {},
     "output_type": "execute_result"
    }
   ],
   "source": [
    "lst_int[0:3] #10,50,14"
   ]
  },
  {
   "cell_type": "code",
   "execution_count": null,
   "metadata": {},
   "outputs": [],
   "source": []
  },
  {
   "cell_type": "code",
   "execution_count": 32,
   "metadata": {},
   "outputs": [
    {
     "data": {
      "text/plain": [
       "[13, 9, 23]"
      ]
     },
     "execution_count": 32,
     "metadata": {},
     "output_type": "execute_result"
    }
   ],
   "source": [
    "lst_int = [10,50,14,13,9,23,3]\n",
    "lst_int[-4:-1]"
   ]
  },
  {
   "cell_type": "code",
   "execution_count": 33,
   "metadata": {},
   "outputs": [
    {
     "data": {
      "text/plain": [
       "[10, 50, 14, 13, 9, 23]"
      ]
     },
     "execution_count": 33,
     "metadata": {},
     "output_type": "execute_result"
    }
   ],
   "source": [
    "lst_int = [10,50,14,13,9,23,3]\n",
    "lst_int[0:6:1]"
   ]
  },
  {
   "cell_type": "code",
   "execution_count": 34,
   "metadata": {},
   "outputs": [
    {
     "data": {
      "text/plain": [
       "[10, 14, 9]"
      ]
     },
     "execution_count": 34,
     "metadata": {},
     "output_type": "execute_result"
    }
   ],
   "source": [
    "lst_int[0:6:2]"
   ]
  },
  {
   "cell_type": "code",
   "execution_count": 37,
   "metadata": {},
   "outputs": [
    {
     "data": {
      "text/plain": [
       "[10, 50, 14, 13, 9, 23]"
      ]
     },
     "execution_count": 37,
     "metadata": {},
     "output_type": "execute_result"
    }
   ],
   "source": [
    "lst_int = [10,50,14,13,9,23,3]\n",
    "lst_int[0:6]"
   ]
  },
  {
   "cell_type": "code",
   "execution_count": 36,
   "metadata": {},
   "outputs": [
    {
     "data": {
      "text/plain": [
       "[10, 13]"
      ]
     },
     "execution_count": 36,
     "metadata": {},
     "output_type": "execute_result"
    }
   ],
   "source": [
    "lst_int[0:6:3]"
   ]
  },
  {
   "cell_type": "code",
   "execution_count": 38,
   "metadata": {},
   "outputs": [
    {
     "data": {
      "text/plain": [
       "list"
      ]
     },
     "execution_count": 38,
     "metadata": {},
     "output_type": "execute_result"
    }
   ],
   "source": [
    "type(lst_int)"
   ]
  },
  {
   "cell_type": "code",
   "execution_count": 39,
   "metadata": {},
   "outputs": [
    {
     "data": {
      "text/plain": [
       "7"
      ]
     },
     "execution_count": 39,
     "metadata": {},
     "output_type": "execute_result"
    }
   ],
   "source": [
    "len(lst_int)"
   ]
  },
  {
   "cell_type": "code",
   "execution_count": null,
   "metadata": {},
   "outputs": [],
   "source": []
  },
  {
   "cell_type": "code",
   "execution_count": null,
   "metadata": {},
   "outputs": [],
   "source": []
  },
  {
   "cell_type": "code",
   "execution_count": null,
   "metadata": {},
   "outputs": [],
   "source": []
  },
  {
   "cell_type": "code",
   "execution_count": null,
   "metadata": {
    "id": "TfmBrkyytRJD",
    "outputId": "0afc04de-d1a3-4287-ddb4-cb4f4680a057"
   },
   "outputs": [
    {
     "name": "stdout",
     "output_type": "stream",
     "text": [
      "\n",
      "List of numbers: \n",
      "[10, 20, 14]\n"
     ]
    }
   ],
   "source": [
    "# Creating a List of numbers\n",
    "List = [10, 20, 14]\n",
    "print(\"\\nList of numbers: \")\n",
    "print(List)"
   ]
  },
  {
   "cell_type": "code",
   "execution_count": null,
   "metadata": {
    "id": "pO-on0lstRJD",
    "outputId": "5a950aa6-b68d-43b3-fa44-5542e5e2ecaf"
   },
   "outputs": [
    {
     "name": "stdout",
     "output_type": "stream",
     "text": [
      "\n",
      "List Items: \n",
      "Geeks\n",
      "Geeks\n"
     ]
    }
   ],
   "source": [
    "# Creating a List of strings and accessing\n",
    "# using index\n",
    "List = [\"Geeks\", \"For\", \"Geeks\"]\n",
    "print(\"\\nList Items: \")\n",
    "print(List[0])\n",
    "print(List[2])"
   ]
  },
  {
   "cell_type": "code",
   "execution_count": null,
   "metadata": {
    "id": "8Rhw31F4tRJE",
    "outputId": "a1718332-8917-4320-d90f-8bfeb3246b39"
   },
   "outputs": [
    {
     "name": "stdout",
     "output_type": "stream",
     "text": [
      "\n",
      "Multi-Dimensional List: \n",
      "[['Geeks', 'For'], ['Geeks']]\n"
     ]
    }
   ],
   "source": [
    "# Creating a Multi-Dimensional List\n",
    "# (By Nesting a list inside a List)\n",
    "List = [['Geeks', 'For'], ['Geeks']]\n",
    "print(\"\\nMulti-Dimensional List: \")\n",
    "print(List)"
   ]
  },
  {
   "cell_type": "markdown",
   "metadata": {
    "id": "dsx_IYRAtRJE"
   },
   "source": [
    "# Creating a list with multiple distinct or duplicate elements\n",
    "A list may contain duplicate values with their distinct positions and hence, multiple distinct or duplicate values can be passed as a sequence at the time of list creation."
   ]
  },
  {
   "cell_type": "code",
   "execution_count": null,
   "metadata": {
    "id": "Cs_ZMd1rtRJF",
    "outputId": "b8bc0908-2e3a-45fd-b0ef-d0504f7b34b4"
   },
   "outputs": [
    {
     "name": "stdout",
     "output_type": "stream",
     "text": [
      "\n",
      "List with the use of Numbers: \n",
      "[1, 2, 4, 4, 3, 3, 3, 6, 5]\n"
     ]
    }
   ],
   "source": [
    "# Creating a List with\n",
    "# the use of Numbers\n",
    "# (Having duplicate values)\n",
    "List = [1, 2, 4, 4, 3, 3, 3, 6, 5]\n",
    "print(\"\\nList with the use of Numbers: \")\n",
    "print(List)\n",
    " "
   ]
  },
  {
   "cell_type": "code",
   "execution_count": null,
   "metadata": {
    "id": "dE8zZ_g2tRJF",
    "outputId": "581182ec-14dc-49dd-ac8b-d3daa5f515f2"
   },
   "outputs": [
    {
     "data": {
      "text/plain": [
       "[1, 12.3, 'Python', True, (1+2j)]"
      ]
     },
     "execution_count": 6,
     "metadata": {},
     "output_type": "execute_result"
    }
   ],
   "source": [
    "#\n",
    "# All data types values in single list\n",
    "lst = [1,12.3,\"Python\",True,1+2j]\n",
    "lst"
   ]
  },
  {
   "cell_type": "markdown",
   "metadata": {
    "id": "M1j9B8PjtRJG"
   },
   "source": [
    "# Len() Method\n",
    "There is a built-in function called len() for getting the total number of items in a list, tuple, arrays, dictionary, etc. \n",
    "\n",
    "The len() method takes an argument where you may provide a list and it returns the length of the given list.\n",
    "\n",
    "The len() method is one of the most used and convenient ways to find the length of list in Python.\n",
    "\n",
    "This is the most conventional technique adopted by all the programmers today"
   ]
  },
  {
   "cell_type": "code",
   "execution_count": null,
   "metadata": {
    "id": "kHKHX4istRJG",
    "outputId": "30b6cde6-9993-4e75-8901-c40264a10c31"
   },
   "outputs": [
    {
     "name": "stdout",
     "output_type": "stream",
     "text": [
      "5\n"
     ]
    }
   ],
   "source": [
    "lst = [1,12.3,\"Python\",True,1+2j]\n",
    "print(len(lst))"
   ]
  },
  {
   "cell_type": "code",
   "execution_count": null,
   "metadata": {
    "id": "qon4VVGwtRJG"
   },
   "outputs": [],
   "source": []
  },
  {
   "cell_type": "markdown",
   "metadata": {
    "id": "0ULO0SnptRJG"
   },
   "source": [
    "# To check Type data  variable\n",
    "\n",
    "The type() function either returns the type of the object or Variable.\n",
    "\n",
    "Basically you are trying to check a variable is of which data type(either it could be a integer,float,string/object,list,tuple,dictionary and so on....)"
   ]
  },
  {
   "cell_type": "code",
   "execution_count": null,
   "metadata": {
    "id": "IEtcO3WktRJH",
    "outputId": "93d959d5-b5f5-4eb3-9b61-069cede23116"
   },
   "outputs": [
    {
     "name": "stdout",
     "output_type": "stream",
     "text": [
      "<class 'list'>\n"
     ]
    }
   ],
   "source": [
    "lst = [1,12.3,\"Python\",True,1+2j]\n",
    "print(type(lst))"
   ]
  },
  {
   "cell_type": "code",
   "execution_count": null,
   "metadata": {
    "id": "DCLj9zUAtRJH",
    "outputId": "b273f789-0d07-4e6b-e25f-796abb496170"
   },
   "outputs": [
    {
     "name": "stdout",
     "output_type": "stream",
     "text": [
      "<class 'dict'>\n"
     ]
    }
   ],
   "source": [
    "dict = {\"name\":\"Vikas\",\"age\":100,\"mob\":2332134443,\"adrss\":\"London 61 sector\"}\n",
    "print(type(dict))"
   ]
  },
  {
   "cell_type": "code",
   "execution_count": null,
   "metadata": {
    "id": "7CMybsgztRJH",
    "outputId": "066ca039-2a76-4a60-d1df-0be6b4dadbd8"
   },
   "outputs": [
    {
     "name": "stdout",
     "output_type": "stream",
     "text": [
      "<class 'str'>\n"
     ]
    }
   ],
   "source": [
    "name_variable = \"Vikas\"\n",
    "print(type(name_variable))"
   ]
  },
  {
   "cell_type": "markdown",
   "metadata": {
    "id": "wUh_xKfktRJH"
   },
   "source": [
    "Creating a list with multiple distinct or duplicate elements"
   ]
  },
  {
   "cell_type": "code",
   "execution_count": null,
   "metadata": {
    "id": "BI_S9mOntRJH",
    "outputId": "d3874eeb-8f82-43de-be05-1d6d2fd41743"
   },
   "outputs": [
    {
     "data": {
      "text/plain": [
       "[1, 1, 2, 2, 3, 3, 4, 4, 3, 6, 4, 6, 3, 2]"
      ]
     },
     "execution_count": 6,
     "metadata": {},
     "output_type": "execute_result"
    }
   ],
   "source": [
    "lst11 = [1,1,2,2,3,3,4,4,3,6,4,6,3,2]\n",
    "lst11"
   ]
  },
  {
   "cell_type": "code",
   "execution_count": null,
   "metadata": {
    "id": "B2WrDa-ltRJI",
    "outputId": "f8d2de26-e2b9-4256-d562-c0b35ccd5577"
   },
   "outputs": [
    {
     "name": "stdout",
     "output_type": "stream",
     "text": [
      "14\n"
     ]
    }
   ],
   "source": [
    "print(len(lst11)) # or     len(lst11)"
   ]
  },
  {
   "cell_type": "markdown",
   "metadata": {
    "id": "cCo3osvCtRJI"
   },
   "source": [
    "# Python Built functions\n",
    "Using append() method"
   ]
  },
  {
   "cell_type": "markdown",
   "metadata": {
    "id": "nKQtu5aatRJI"
   },
   "source": [
    "append() -------->\tadds an element to the end of the list\n",
    "\n",
    "extend()  -------->\tadds all elements of a list to another list\n",
    "\n",
    "insert()  -------->\tinserts an item at the defined index\n",
    "\n",
    "remove()  -------->\tremoves an item from the list\n",
    "\n",
    "pop()     -------->\treturns and removes an element at the given index\n",
    "\n",
    "clear()  -------->\tremoves all items from the list\n",
    "\n",
    "index()  -------->\treturns the index of the first matched item\n",
    "\n",
    "count()  -------->\treturns the count of the number of items passed as an argument\n",
    "\n",
    "sort()   -------->\tsort items in a list in ascending order\n",
    "\n",
    "reverse()  -------->\treverse the order of items in the list\n",
    "\n",
    "copy()  -------->\treturns a shallow copy of the list"
   ]
  },
  {
   "cell_type": "markdown",
   "metadata": {},
   "source": [
    "Examples on built in functions"
   ]
  },
  {
   "cell_type": "code",
   "execution_count": null,
   "metadata": {},
   "outputs": [],
   "source": [
    "# Example 1: Creating a list\n",
    "fruits = [\"apple\", \"banana\", \"cherry\", \"date\"]\n",
    "print(fruits)\n",
    "\n",
    "# Example 2: Accessing elements\n",
    "print(fruits[1])  # Output: banana\n",
    "\n",
    "# Example 3: Modifying a list\n",
    "fruits[2] = \"blueberry\"\n",
    "print(fruits)  # ['apple', 'banana', 'blueberry', 'date']\n",
    "\n",
    "# Example 4: Adding elements\n",
    "fruits.append(\"elderberry\")\n",
    "print(fruits)\n",
    "\n",
    "# Example 5: Removing elements\n",
    "fruits.remove(\"banana\")\n",
    "print(fruits)\n",
    "\n",
    "# Example 6: Slicing a list\n",
    "print(fruits[1:3])  # ['blueberry', 'date']\n",
    "\n",
    "# Example 7: Iterating over a list\n",
    "for fruit in fruits:\n",
    "    print(fruit)\n",
    "\n",
    "# Example 8: List comprehension\n",
    "squared_numbers = [x**2 for x in range(5)]\n",
    "print(squared_numbers)\n",
    "\n",
    "# Example 9: Sorting a list\n",
    "numbers = [4, 2, 9, 1, 5]\n",
    "numbers.sort()\n",
    "print(numbers)  # [1, 2, 4, 5, 9]\n",
    "\n",
    "# Example 10: List length\n",
    "print(len(fruits))  # Output: 4\n"
   ]
  },
  {
   "cell_type": "code",
   "execution_count": 1,
   "metadata": {},
   "outputs": [],
   "source": [
    "lstt11 = [10,42,3,12,4,23,23]"
   ]
  },
  {
   "cell_type": "code",
   "execution_count": 2,
   "metadata": {
    "id": "KE1qWUMxtRJI"
   },
   "outputs": [
    {
     "data": {
      "text/plain": [
       "[10, 42, 3, 12, 4, 23, 23, 200]"
      ]
     },
     "execution_count": 2,
     "metadata": {},
     "output_type": "execute_result"
    }
   ],
   "source": [
    "\n",
    "lstt11.append(200)\n",
    "lstt11"
   ]
  },
  {
   "cell_type": "code",
   "execution_count": 3,
   "metadata": {
    "id": "c6jmjW90tRJI"
   },
   "outputs": [
    {
     "data": {
      "text/plain": [
       "[10, 42, 3, 12, 4, 23, 23, 200, 'vishakha']"
      ]
     },
     "execution_count": 3,
     "metadata": {},
     "output_type": "execute_result"
    }
   ],
   "source": [
    "lstt11.append(\"vishakha\")\n",
    "lstt11"
   ]
  },
  {
   "cell_type": "code",
   "execution_count": null,
   "metadata": {
    "id": "1aiY5EuWtRJJ"
   },
   "outputs": [],
   "source": []
  },
  {
   "cell_type": "markdown",
   "metadata": {
    "id": "9atVuaXatRJJ"
   },
   "source": [
    "Using insert() method\n",
    "\n",
    "It requires two arguments(position, value)."
   ]
  },
  {
   "cell_type": "code",
   "execution_count": 1,
   "metadata": {},
   "outputs": [],
   "source": [
    "lstt11 = [10,42,3,12,4,23,23]"
   ]
  },
  {
   "cell_type": "code",
   "execution_count": 2,
   "metadata": {
    "id": "lEsKs8MztRJJ"
   },
   "outputs": [],
   "source": [
    "lstt11.insert(4,200000)"
   ]
  },
  {
   "cell_type": "code",
   "execution_count": 3,
   "metadata": {
    "id": "wEWGzKc8tRJJ"
   },
   "outputs": [
    {
     "data": {
      "text/plain": [
       "[10, 42, 3, 12, 200000, 4, 23, 23]"
      ]
     },
     "execution_count": 3,
     "metadata": {},
     "output_type": "execute_result"
    }
   ],
   "source": [
    "lstt11"
   ]
  },
  {
   "cell_type": "code",
   "execution_count": 4,
   "metadata": {},
   "outputs": [
    {
     "data": {
      "text/plain": [
       "['vikas', 10, 42, 3, 12, 200000, 4, 23, 23]"
      ]
     },
     "execution_count": 4,
     "metadata": {},
     "output_type": "execute_result"
    }
   ],
   "source": [
    "lstt11.insert(0,\"vikas\")\n",
    "lstt11"
   ]
  },
  {
   "cell_type": "code",
   "execution_count": null,
   "metadata": {},
   "outputs": [],
   "source": []
  },
  {
   "cell_type": "code",
   "execution_count": null,
   "metadata": {},
   "outputs": [],
   "source": []
  },
  {
   "cell_type": "markdown",
   "metadata": {
    "id": "dNsYd3ihtRJJ"
   },
   "source": [
    "# Delete List Elements\n",
    "We can delete one or more items from a list using the Python del statement. It can even delete the list entirely."
   ]
  },
  {
   "cell_type": "code",
   "execution_count": null,
   "metadata": {
    "id": "XLv3kj2jtRJJ"
   },
   "outputs": [],
   "source": [
    "# Deleting list items\n",
    "my_list = ['p', 'r', 'o', 'b', 'l', 'e', 'm']\n",
    "\n",
    "# delete one item\n",
    "del my_list[2]\n",
    "\n",
    "print(my_list)\n",
    "\n",
    "# delete multiple items\n",
    "del my_list[1:5]\n",
    "\n",
    "print(my_list)\n",
    "\n",
    "# delete the entire list\n",
    "del my_list\n",
    "\n",
    "# Error: List not defined\n",
    "print(my_list)"
   ]
  },
  {
   "cell_type": "markdown",
   "metadata": {
    "id": "dnsP1dBytRJJ"
   },
   "source": [
    "This error occure becaause in above shell(see line no 18) you were delete entire list"
   ]
  },
  {
   "cell_type": "markdown",
   "metadata": {
    "id": "6778PEivtRJJ"
   },
   "source": [
    "# Remove"
   ]
  },
  {
   "cell_type": "markdown",
   "metadata": {
    "id": "5FyU4UCJtRJK"
   },
   "source": [
    "We can use remove() to remove the given item or pop() to remove an item at the given index.\n",
    "\n",
    "The pop() method removes and returns the last item if the index is not provided. This helps us implement lists as stacks (first in, last out data structure).\n",
    "\n",
    "And, if we have to empty the whole list, we can use the clear() method."
   ]
  },
  {
   "cell_type": "code",
   "execution_count": null,
   "metadata": {
    "id": "kNIehqd7tRJK"
   },
   "outputs": [],
   "source": [
    "my_list = ['p','r','o','b','l','e','m']\n",
    "my_list.remove('p')\n",
    "\n",
    "# Output: ['r', 'o', 'b', 'l', 'e', 'm']\n",
    "print(my_list)\n",
    "\n",
    "# Output: 'o'\n",
    "print(my_list.pop(1))\n",
    "\n",
    "# Output: ['r', 'b', 'l', 'e', 'm']\n",
    "print(my_list)\n",
    "\n",
    "# Output: 'm'\n",
    "print(my_list.pop())\n",
    "\n",
    "# Output: ['r', 'b', 'l', 'e']\n",
    "print(my_list)\n",
    "\n",
    "my_list.clear()\n",
    "\n",
    "# Output: []\n",
    "print(my_list)"
   ]
  },
  {
   "cell_type": "code",
   "execution_count": null,
   "metadata": {
    "id": "liYMcKRBtRJK"
   },
   "outputs": [],
   "source": []
  },
  {
   "cell_type": "code",
   "execution_count": null,
   "metadata": {
    "id": "_RYAav6_tRJK"
   },
   "outputs": [],
   "source": []
  },
  {
   "cell_type": "code",
   "execution_count": null,
   "metadata": {
    "id": "91n-1FYbtRJK"
   },
   "outputs": [],
   "source": []
  },
  {
   "cell_type": "markdown",
   "metadata": {
    "id": "tOG0Q-yJtRJK"
   },
   "source": [
    "# What is Indexing in python?\n",
    "Indexing in Python means referring to an element of an iterable by its position within the iterable.\n",
    "\n",
    "Each character can be accessed using their index number.\n",
    "\n",
    "To access characters in a string we have two ways:\n",
    "\n",
    "Positive index number   : Start with 0 1 2 3 4 5.....\n",
    "\n",
    "Negative index number   : Start from last with -1 -2 -3 ......"
   ]
  },
  {
   "cell_type": "markdown",
   "metadata": {
    "id": "eDdAXcqmtRJK"
   },
   "source": [
    "# See the positive and negative indexing below"
   ]
  },
  {
   "cell_type": "code",
   "execution_count": null,
   "metadata": {
    "id": "-Q9MGb8atRJK"
   },
   "outputs": [],
   "source": [
    "my_list = ['p', 'r', 'o', 'b', 'l', 'e', 'm']\n",
    "#           0    1    2    3    4    5    6"
   ]
  },
  {
   "cell_type": "code",
   "execution_count": null,
   "metadata": {
    "id": "ar0NBTgftRJK"
   },
   "outputs": [],
   "source": [
    "my_list = ['p', 'r', 'o', 'b', 'l', 'e', 'm']\n",
    "#          -7   -6   -5   -4   -3   -2   -1"
   ]
  },
  {
   "cell_type": "markdown",
   "metadata": {
    "id": "cSY5ic4xtRJK"
   },
   "source": [
    "# Positive Indexing"
   ]
  },
  {
   "cell_type": "code",
   "execution_count": null,
   "metadata": {
    "id": "EK1B9vSOtRJK",
    "outputId": "1bc67f0a-2ca7-4670-ea89-55d81e517c68"
   },
   "outputs": [
    {
     "name": "stdout",
     "output_type": "stream",
     "text": [
      "p\n"
     ]
    }
   ],
   "source": [
    "# Negative indexing in lists\n",
    "my_list = ['p','r','o','sammer','b','e']\n",
    "\n",
    "# first item\n",
    "print(my_list[0])"
   ]
  },
  {
   "cell_type": "markdown",
   "metadata": {
    "id": "0HAlmttttRJL"
   },
   "source": [
    "Extracting 4th element/value from list "
   ]
  },
  {
   "cell_type": "code",
   "execution_count": null,
   "metadata": {
    "id": "H7_iBTFPtRJL",
    "outputId": "c4733b52-5d38-40ef-a4c6-158db60c3dde"
   },
   "outputs": [
    {
     "name": "stdout",
     "output_type": "stream",
     "text": [
      "sammer\n"
     ]
    }
   ],
   "source": [
    "print(my_list[3])"
   ]
  },
  {
   "cell_type": "code",
   "execution_count": null,
   "metadata": {
    "id": "QFwP6kVGtRJL",
    "outputId": "8f5ab3e9-3a2a-4ab0-f1df-e6dc69104122"
   },
   "outputs": [
    {
     "name": "stdout",
     "output_type": "stream",
     "text": [
      "o\n"
     ]
    }
   ],
   "source": [
    "print(my_list[2])"
   ]
  },
  {
   "cell_type": "markdown",
   "metadata": {
    "id": "xCsQtVWMtRJL"
   },
   "source": [
    "# What is a negative index in python?\n",
    "- Python list items can be accessed with positive or negative numbers (also known as index).\n",
    "\n",
    "- For instance our array/list is of size n, then for positive index 0 is the first index, 1 second, last index will be n-1.\n",
    "\n",
    "    For negative index, -n is the first index, -(n-1) second, last negative index will be – 1."
   ]
  },
  {
   "cell_type": "code",
   "execution_count": null,
   "metadata": {
    "id": "yQyh7Al6tRJL"
   },
   "outputs": [],
   "source": [
    "# Negative indexing in lists\n",
    "my_list = ['p','r','o','b','e']\n",
    "\n",
    "# last item\n",
    "print(my_list[-1])"
   ]
  },
  {
   "cell_type": "code",
   "execution_count": null,
   "metadata": {
    "id": "g-ff7QTBtRJL"
   },
   "outputs": [],
   "source": [
    "# fifth last item\n",
    "print(my_list[-5])"
   ]
  },
  {
   "cell_type": "markdown",
   "metadata": {
    "id": "0yX36yYstRJL"
   },
   "source": [
    "# List Slicing in Python\n",
    "We can access a range of items in a list by using the slicing operator "
   ]
  },
  {
   "cell_type": "code",
   "execution_count": null,
   "metadata": {
    "id": "DtIzaczMtRJL"
   },
   "outputs": [],
   "source": [
    "# List slicing in Python\n",
    "\n",
    "my_list = ['p','r','o','g','r','a','m','i','z']\n",
    "\n",
    "# elements from index 2 to index 4\n",
    "print(my_list[2:5])\n",
    "\n",
    "# elements from index 5 to end\n",
    "print(my_list[5:])\n",
    "\n",
    "# elements beginning to end\n",
    "print(my_list[:])"
   ]
  },
  {
   "cell_type": "markdown",
   "metadata": {
    "id": "r3socatetRJL"
   },
   "source": [
    "# Note: \n",
    "\n",
    "When we slice lists, the start index is inclusive but the end index is exclusive. For example, my_list[2: 5] returns a list with elements at index 2, 3 and 4, but not 5."
   ]
  },
  {
   "cell_type": "markdown",
   "metadata": {
    "id": "cDZ84QNbtRJM"
   },
   "source": [
    "# Add/Change List Elements\n",
    "Lists are mutable, meaning their elements can be changed unlike string or tuple.\n",
    "\n",
    "We can use the assignment operator = to change an item or a range of items."
   ]
  },
  {
   "cell_type": "code",
   "execution_count": null,
   "metadata": {
    "id": "3JOVNb_ntRJM"
   },
   "outputs": [],
   "source": [
    "# Correcting mistake values in a list\n",
    "odd = [2, 4, 6, 8]\n",
    "\n",
    "# change the 1st item    \n",
    "odd[0] = 1            \n",
    "\n",
    "print(odd)\n",
    "\n",
    "# change 2nd to 4th items\n",
    "odd[1:4] = [3, 5, 7]  \n",
    "\n",
    "print(odd)    "
   ]
  },
  {
   "cell_type": "markdown",
   "metadata": {
    "id": "N8j1PUl5tRJM"
   },
   "source": [
    "We can also use + operator to combine two lists. This is also called concatenation.\n",
    "\n",
    "The * operator repeats a list for the given number of times."
   ]
  },
  {
   "cell_type": "code",
   "execution_count": null,
   "metadata": {
    "id": "BQItlOxMtRJM"
   },
   "outputs": [],
   "source": [
    "# Concatenating and repeating lists\n",
    "odd = [1, 3, 5]\n",
    "\n",
    "print(odd + [9, 7, 5])\n",
    "\n",
    "print([\"re\"] * 3)"
   ]
  },
  {
   "cell_type": "markdown",
   "metadata": {
    "id": "LIqrXzqntRJM"
   },
   "source": [
    "Furthermore, we can insert one item at a desired location by using the method insert() or insert multiple items by squeezing it into an empty slice of a list."
   ]
  },
  {
   "cell_type": "code",
   "execution_count": null,
   "metadata": {
    "id": "59emshGstRJM"
   },
   "outputs": [],
   "source": [
    "# Demonstration of list insert() method\n",
    "odd = [1, 9]\n",
    "odd.insert(1,3)\n",
    "\n",
    "print(odd)\n",
    "\n",
    "odd[2:2] = [5, 7]\n",
    "\n",
    "print(odd)"
   ]
  },
  {
   "cell_type": "code",
   "execution_count": null,
   "metadata": {
    "id": "oiGRC7tvtRJM"
   },
   "outputs": [],
   "source": [
    "\n"
   ]
  },
  {
   "cell_type": "markdown",
   "metadata": {
    "id": "_t_Mq1LMtRJM"
   },
   "source": [
    "# Other List Operations in Python\n",
    "List Membership Test"
   ]
  },
  {
   "cell_type": "markdown",
   "metadata": {
    "id": "lWMEu_ImtRJM"
   },
   "source": [
    "We can test if an item exists in a list or not, using the keyword in."
   ]
  },
  {
   "cell_type": "code",
   "execution_count": null,
   "metadata": {
    "id": "QDSrjZWAtRJM"
   },
   "outputs": [],
   "source": [
    "my_list = ['p', 'r', 'o', 'b', 'l', 'e', 'm']\n",
    "\n",
    "# Output: True\n",
    "print('p' in my_list)\n",
    "\n",
    "# Output: False\n",
    "print('a' in my_list)\n",
    "\n",
    "# Output: True\n",
    "print('c' not in my_list)"
   ]
  },
  {
   "cell_type": "markdown",
   "metadata": {
    "id": "DK7wuC0MtRJM"
   },
   "source": [
    "# Iterating Through a List.\n",
    "Using a for loop we can iterate through each item in a list."
   ]
  },
  {
   "cell_type": "code",
   "execution_count": null,
   "metadata": {
    "id": "FNCdYcVytRJN"
   },
   "outputs": [],
   "source": [
    "for fruit in ['apple','banana','mango']:\n",
    "    print(\"I like\",fruit)"
   ]
  },
  {
   "cell_type": "markdown",
   "metadata": {
    "id": "wUYxBom7tRJN"
   },
   "source": [
    "# Exercise\n"
   ]
  },
  {
   "cell_type": "code",
   "execution_count": null,
   "metadata": {},
   "outputs": [],
   "source": []
  },
  {
   "cell_type": "code",
   "execution_count": null,
   "metadata": {},
   "outputs": [],
   "source": []
  },
  {
   "cell_type": "code",
   "execution_count": null,
   "metadata": {},
   "outputs": [],
   "source": []
  },
  {
   "cell_type": "markdown",
   "metadata": {
    "id": "JrgxiOZ_tRJN"
   },
   "source": [
    "# Reverse a list in Python\n",
    "\n",
    "list1 = [10, 22, 30, 400, 50]\n",
    "\n",
    "Expected output = [50, 400, 30, 22, 10]"
   ]
  },
  {
   "cell_type": "code",
   "execution_count": null,
   "metadata": {
    "id": "H7uG4JVatRJN"
   },
   "outputs": [],
   "source": []
  },
  {
   "cell_type": "markdown",
   "metadata": {
    "id": "2pbyMWfstRJN"
   },
   "source": [
    "# Concatenate two lists index-wise\n",
    "Write a program to add two lists index-wise. Create a new list that contains the 0th index item from both the list, then the 1st index item, and so on till the last element. any leftover items will get added at the end of the new list."
   ]
  },
  {
   "cell_type": "markdown",
   "metadata": {
    "id": "VOA4kidgtRJN"
   },
   "source": [
    "list1 = [\"M\", \"na\", \"i\", \"Ke\"]\n",
    "\n",
    "list2 = [\"y\", \"me\", \"s\", \"lly\"]\n",
    "\n",
    "Expected output:\n",
    "\n",
    "['My', 'name', 'is', 'Kelly']"
   ]
  },
  {
   "cell_type": "code",
   "execution_count": null,
   "metadata": {
    "id": "30iHWhKYtRJN"
   },
   "outputs": [],
   "source": []
  },
  {
   "cell_type": "markdown",
   "metadata": {
    "id": "jwoBQ5oNtRJN"
   },
   "source": [
    "# Write a program to count the number of items stored in a list.\n",
    "\n",
    "lst = [1,2,3,4,5,6,\"Python\",20.3,\"Sum\"]\n",
    "\n",
    "expected output = 9"
   ]
  },
  {
   "cell_type": "code",
   "execution_count": null,
   "metadata": {
    "id": "zCXbfY_wtRJN"
   },
   "outputs": [],
   "source": []
  },
  {
   "cell_type": "markdown",
   "metadata": {
    "id": "XU0sCF8PtRJN"
   },
   "source": [
    "# Python program to append an element to a list.\n",
    "\n",
    "lst1 = [\"Priyanka\",\"Hitesh\",12,54.3]\n",
    "\n",
    "append : \"School\" in a list.\n",
    "\n",
    "expected output = [\"Priyanka\",\"Hitesh\",12,54.3,\"School\"]"
   ]
  },
  {
   "cell_type": "markdown",
   "metadata": {
    "id": "UNyPggrEtRJN"
   },
   "source": [
    "# Thank you !"
   ]
  }
 ],
 "metadata": {
  "colab": {
   "collapsed_sections": [
    "cCo3osvCtRJI",
    "dNsYd3ihtRJJ",
    "6778PEivtRJJ",
    "tOG0Q-yJtRJK",
    "eDdAXcqmtRJK",
    "cSY5ic4xtRJK",
    "xCsQtVWMtRJL",
    "0yX36yYstRJL",
    "r3socatetRJL",
    "cDZ84QNbtRJM",
    "_t_Mq1LMtRJM",
    "DK7wuC0MtRJM",
    "wUYxBom7tRJN",
    "JrgxiOZ_tRJN",
    "2pbyMWfstRJN",
    "jwoBQ5oNtRJN",
    "XU0sCF8PtRJN",
    "UNyPggrEtRJN"
   ],
   "name": "List_Notebook.ipynb",
   "provenance": []
  },
  "kernelspec": {
   "display_name": "Python 3",
   "language": "python",
   "name": "python3"
  },
  "language_info": {
   "codemirror_mode": {
    "name": "ipython",
    "version": 3
   },
   "file_extension": ".py",
   "mimetype": "text/x-python",
   "name": "python",
   "nbconvert_exporter": "python",
   "pygments_lexer": "ipython3",
   "version": "3.7.3"
  }
 },
 "nbformat": 4,
 "nbformat_minor": 1
}
